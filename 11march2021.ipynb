{
 "cells": [
  {
   "cell_type": "code",
   "execution_count": 2,
   "metadata": {},
   "outputs": [
    {
     "name": "stdout",
     "output_type": "stream",
     "text": [
      "farshid\n"
     ]
    }
   ],
   "source": [
    "print(\"farshid\")\n",
    "conda create -n conda36 python=3.6\n",
    " conda activate conda36\n",
    "    \n",
    "\n",
    "\n",
    "conda install numpy jupyter\n",
    "####conda install pytorch torchvision -c pytorch\n",
    "conda install pytorch-cpu torchvision-cpu -c pytorch\n",
    "conda install -c conda-forge matplotlib\n",
    "conda install pandas scikit-learn plotly\n",
    "conda install -c conda-forge opencv seaborn"
   ]
  },
  {
   "cell_type": "code",
   "execution_count": 1,
   "metadata": {},
   "outputs": [
    {
     "name": "stdout",
     "output_type": "stream",
     "text": [
      "Python 3.6.7\n"
     ]
    }
   ],
   "source": [
    "!python --version\n",
    "python -m pip install --upgrade pip\n",
    "pip install numpy jupyter\n",
    "pip install torch==1.8.0+cpu torchvision==0.9.0+cpu torchaudio===0.8.0 -f https://download.pytorch.org/whl/torch_stable.html\n",
    "pip install matplotlib\n",
    "pip install pandas scikit-learn plotly\n",
    "pip install opencv seaborn"
   ]
  },
  {
   "cell_type": "code",
   "execution_count": 3,
   "metadata": {
    "scrolled": true
   },
   "outputs": [
    {
     "data": {
      "text/plain": [
       "5"
      ]
     },
     "execution_count": 3,
     "metadata": {},
     "output_type": "execute_result"
    }
   ],
   "source": [
    "(1+4)"
   ]
  },
  {
   "cell_type": "code",
   "execution_count": 4,
   "metadata": {},
   "outputs": [
    {
     "data": {
      "text/plain": [
       "0.0"
      ]
     },
     "execution_count": 4,
     "metadata": {},
     "output_type": "execute_result"
    }
   ],
   "source": [
    "(0/1)\n"
   ]
  },
  {
   "cell_type": "code",
   "execution_count": 5,
   "metadata": {},
   "outputs": [
    {
     "data": {
      "text/plain": [
       "16"
      ]
     },
     "execution_count": 5,
     "metadata": {},
     "output_type": "execute_result"
    }
   ],
   "source": [
    "2**4\n"
   ]
  },
  {
   "cell_type": "code",
   "execution_count": 6,
   "metadata": {},
   "outputs": [],
   "source": [
    "age=39"
   ]
  },
  {
   "cell_type": "code",
   "execution_count": 7,
   "metadata": {},
   "outputs": [
    {
     "data": {
      "text/plain": [
       "39"
      ]
     },
     "execution_count": 7,
     "metadata": {},
     "output_type": "execute_result"
    }
   ],
   "source": [
    "age"
   ]
  },
  {
   "cell_type": "code",
   "execution_count": 8,
   "metadata": {},
   "outputs": [],
   "source": [
    "name,gender=\"Farshid\",'male'"
   ]
  },
  {
   "cell_type": "code",
   "execution_count": 9,
   "metadata": {},
   "outputs": [
    {
     "data": {
      "text/plain": [
       "'male'"
      ]
     },
     "execution_count": 9,
     "metadata": {},
     "output_type": "execute_result"
    }
   ],
   "source": [
    "gender\n"
   ]
  },
  {
   "cell_type": "code",
   "execution_count": 12,
   "metadata": {},
   "outputs": [],
   "source": [
    "age+=6"
   ]
  },
  {
   "cell_type": "code",
   "execution_count": 13,
   "metadata": {},
   "outputs": [
    {
     "data": {
      "text/plain": [
       "51"
      ]
     },
     "execution_count": 13,
     "metadata": {},
     "output_type": "execute_result"
    }
   ],
   "source": [
    "age"
   ]
  },
  {
   "cell_type": "code",
   "execution_count": 14,
   "metadata": {},
   "outputs": [
    {
     "name": "stdout",
     "output_type": "stream",
     "text": [
      "<class 'str'>\n"
     ]
    }
   ],
   "source": [
    "print(type(name))"
   ]
  },
  {
   "cell_type": "code",
   "execution_count": 15,
   "metadata": {},
   "outputs": [],
   "source": [
    "f=str('fffff')"
   ]
  },
  {
   "cell_type": "code",
   "execution_count": 16,
   "metadata": {},
   "outputs": [
    {
     "data": {
      "text/plain": [
       "'fffff'"
      ]
     },
     "execution_count": 16,
     "metadata": {},
     "output_type": "execute_result"
    }
   ],
   "source": [
    "f"
   ]
  },
  {
   "cell_type": "code",
   "execution_count": 17,
   "metadata": {},
   "outputs": [
    {
     "data": {
      "text/plain": [
       "str"
      ]
     },
     "execution_count": 17,
     "metadata": {},
     "output_type": "execute_result"
    }
   ],
   "source": [
    "type(f)"
   ]
  },
  {
   "cell_type": "code",
   "execution_count": 18,
   "metadata": {},
   "outputs": [],
   "source": [
    "floata=float(54)"
   ]
  },
  {
   "cell_type": "code",
   "execution_count": 20,
   "metadata": {},
   "outputs": [
    {
     "data": {
      "text/plain": [
       "54.0"
      ]
     },
     "execution_count": 20,
     "metadata": {},
     "output_type": "execute_result"
    }
   ],
   "source": [
    "floata\n"
   ]
  },
  {
   "cell_type": "code",
   "execution_count": 32,
   "metadata": {},
   "outputs": [
    {
     "name": "stdout",
     "output_type": "stream",
     "text": [
      "farshid \"pirahansiah's\" \n"
     ]
    }
   ],
   "source": [
    "name='farshid \"pirahansiah\\'s\" '\n",
    "print(name)"
   ]
  },
  {
   "cell_type": "code",
   "execution_count": 34,
   "metadata": {},
   "outputs": [
    {
     "data": {
      "text/plain": [
       "240"
      ]
     },
     "execution_count": 34,
     "metadata": {},
     "output_type": "execute_result"
    }
   ],
   "source": [
    "len(name*10)\n"
   ]
  },
  {
   "cell_type": "code",
   "execution_count": 35,
   "metadata": {},
   "outputs": [],
   "source": [
    "bool1=True\n",
    "bool2=False\n",
    "# and or not"
   ]
  },
  {
   "cell_type": "code",
   "execution_count": 36,
   "metadata": {},
   "outputs": [],
   "source": [
    "list1=['farshid','pirahansiah',39]"
   ]
  },
  {
   "cell_type": "code",
   "execution_count": 37,
   "metadata": {},
   "outputs": [
    {
     "data": {
      "text/plain": [
       "'pirahansiah'"
      ]
     },
     "execution_count": 37,
     "metadata": {},
     "output_type": "execute_result"
    }
   ],
   "source": [
    "list1[1]"
   ]
  },
  {
   "cell_type": "code",
   "execution_count": 38,
   "metadata": {},
   "outputs": [],
   "source": [
    "list2=list1[1:2]"
   ]
  },
  {
   "cell_type": "code",
   "execution_count": 39,
   "metadata": {},
   "outputs": [
    {
     "data": {
      "text/plain": [
       "['pirahansiah']"
      ]
     },
     "execution_count": 39,
     "metadata": {},
     "output_type": "execute_result"
    }
   ],
   "source": [
    "list2"
   ]
  },
  {
   "cell_type": "code",
   "execution_count": 42,
   "metadata": {},
   "outputs": [],
   "source": [
    "list2=list1[1:]"
   ]
  },
  {
   "cell_type": "code",
   "execution_count": 43,
   "metadata": {},
   "outputs": [
    {
     "data": {
      "text/plain": [
       "['pirahansiah', 39]"
      ]
     },
     "execution_count": 43,
     "metadata": {},
     "output_type": "execute_result"
    }
   ],
   "source": [
    "list2"
   ]
  },
  {
   "cell_type": "code",
   "execution_count": 50,
   "metadata": {},
   "outputs": [],
   "source": [
    "r=range(1,100,5)"
   ]
  },
  {
   "cell_type": "code",
   "execution_count": 51,
   "metadata": {},
   "outputs": [
    {
     "name": "stdout",
     "output_type": "stream",
     "text": [
      "[1, 6, 11, 16, 21, 26, 31, 36, 41, 46, 51, 56, 61, 66, 71, 76, 81, 86, 91, 96]\n"
     ]
    }
   ],
   "source": [
    "print(list(r))"
   ]
  },
  {
   "cell_type": "code",
   "execution_count": 53,
   "metadata": {},
   "outputs": [
    {
     "name": "stdout",
     "output_type": "stream",
     "text": [
      "True\n"
     ]
    }
   ],
   "source": [
    "print(6 in r)"
   ]
  },
  {
   "cell_type": "code",
   "execution_count": 54,
   "metadata": {},
   "outputs": [],
   "source": [
    "# mutable: can change\n",
    "# immutable: not liable to change -> not efect change in = perviose one\n",
    "# list = can , string can not\n",
    "list1[2]=38"
   ]
  },
  {
   "cell_type": "code",
   "execution_count": 55,
   "metadata": {},
   "outputs": [
    {
     "data": {
      "text/plain": [
       "['farshid', 'pirahansiah', 38]"
      ]
     },
     "execution_count": 55,
     "metadata": {},
     "output_type": "execute_result"
    }
   ],
   "source": [
    "list1"
   ]
  },
  {
   "cell_type": "code",
   "execution_count": 58,
   "metadata": {},
   "outputs": [
    {
     "ename": "TypeError",
     "evalue": "'str' object does not support item assignment",
     "output_type": "error",
     "traceback": [
      "\u001b[1;31m---------------------------------------------------------------------------\u001b[0m",
      "\u001b[1;31mTypeError\u001b[0m                                 Traceback (most recent call last)",
      "\u001b[1;32m<ipython-input-58-e1a6894bb0c8>\u001b[0m in \u001b[0;36m<module>\u001b[1;34m\u001b[0m\n\u001b[0;32m      1\u001b[0m \u001b[0mmisspelled\u001b[0m\u001b[1;33m=\u001b[0m\u001b[1;34m'cucumber'\u001b[0m\u001b[1;33m\u001b[0m\u001b[1;33m\u001b[0m\u001b[0m\n\u001b[1;32m----> 2\u001b[1;33m \u001b[0mmisspelled\u001b[0m\u001b[1;33m[\u001b[0m\u001b[1;36m3\u001b[0m\u001b[1;33m]\u001b[0m\u001b[1;33m=\u001b[0m\u001b[1;34m'a'\u001b[0m\u001b[1;33m\u001b[0m\u001b[1;33m\u001b[0m\u001b[0m\n\u001b[0m",
      "\u001b[1;31mTypeError\u001b[0m: 'str' object does not support item assignment"
     ]
    }
   ],
   "source": [
    "misspelled='cucumber'\n",
    "misspelled[3]='a'"
   ]
  },
  {
   "cell_type": "code",
   "execution_count": 57,
   "metadata": {},
   "outputs": [
    {
     "name": "stdout",
     "output_type": "stream",
     "text": [
      "cucumber\n"
     ]
    }
   ],
   "source": [
    "print(misspelled)"
   ]
  },
  {
   "cell_type": "code",
   "execution_count": 59,
   "metadata": {},
   "outputs": [
    {
     "name": "stdout",
     "output_type": "stream",
     "text": [
      "pirahansiah\n",
      "farshid\n"
     ]
    }
   ],
   "source": [
    "str1='farshid'\n",
    "str2=str1\n",
    "str1='pirahansiah'\n",
    "print(str1)\n",
    "print(str2)"
   ]
  },
  {
   "cell_type": "code",
   "execution_count": 61,
   "metadata": {},
   "outputs": [
    {
     "name": "stdout",
     "output_type": "stream",
     "text": [
      "[['a']]\n",
      "[['a']]\n"
     ]
    }
   ],
   "source": [
    "list1=['f]']\n",
    "list2=list1\n",
    "list1[0]=['a']\n",
    "print(list1)\n",
    "print(list2)"
   ]
  },
  {
   "cell_type": "code",
   "execution_count": 1,
   "metadata": {},
   "outputs": [],
   "source": [
    "# function(arguments): len(); sorted(); min(); max();  ; \n",
    "# methods : '-'.join ;  {} .format() ; .append()\n",
    "# tuples (immutable); 'tuple' object does not support item assignment\n",
    "traits1=('f','b','c')\n",
    "traits2='f','b','c'\n",
    "a1,a2,a3=traits1"
   ]
  },
  {
   "cell_type": "code",
   "execution_count": 4,
   "metadata": {},
   "outputs": [
    {
     "data": {
      "text/plain": [
       "1.22"
      ]
     },
     "execution_count": 4,
     "metadata": {},
     "output_type": "execute_result"
    }
   ],
   "source": [
    "# sets [] ; remove duplicated; unic number; .add() not add dublicate;\n",
    "# dictionaries; unic keys; key:value; {}\n",
    "inventory={'bananas':1.22}\n",
    "inventory['bananas'] #.get('bananas')\n"
   ]
  },
  {
   "cell_type": "code",
   "execution_count": 3,
   "metadata": {},
   "outputs": [
    {
     "ename": "NameError",
     "evalue": "name 'item' is not defined",
     "output_type": "error",
     "traceback": [
      "\u001b[1;31m---------------------------------------------------------------------------\u001b[0m",
      "\u001b[1;31mNameError\u001b[0m                                 Traceback (most recent call last)",
      "\u001b[1;32m<ipython-input-3-cd061bfef352>\u001b[0m in \u001b[0;36m<module>\u001b[1;34m\u001b[0m\n\u001b[1;32m----> 1\u001b[1;33m \u001b[1;32mif\u001b[0m \u001b[0mitem\u001b[0m \u001b[1;32min\u001b[0m \u001b[0mtraits1\u001b[0m\u001b[1;33m:\u001b[0m\u001b[1;33m\u001b[0m\u001b[1;33m\u001b[0m\u001b[0m\n\u001b[0m\u001b[0;32m      2\u001b[0m     \u001b[0mprint\u001b[0m\u001b[1;33m(\u001b[0m\u001b[0mitem\u001b[0m\u001b[1;33m)\u001b[0m\u001b[1;33m\u001b[0m\u001b[1;33m\u001b[0m\u001b[0m\n",
      "\u001b[1;31mNameError\u001b[0m: name 'item' is not defined"
     ]
    }
   ],
   "source": [
    "if item in traits1:\n",
    "    print(item)"
   ]
  },
  {
   "cell_type": "code",
   "execution_count": 5,
   "metadata": {},
   "outputs": [
    {
     "output_type": "stream",
     "name": "stdout",
     "text": [
      "f\n"
     ]
    }
   ],
   "source": [
    "item='f'\n",
    "if item in traits1:\n",
    "    print(item)\n",
    "\n",
    "# elif > == != >= <=\n",
    "# else < < ; and ; or ; not ; \n",
    "# loops: iterable, list"
   ]
  },
  {
   "cell_type": "code",
   "execution_count": 10,
   "metadata": {},
   "outputs": [
    {
     "output_type": "stream",
     "name": "stdout",
     "text": [
      "f\nb\nc\n0\n1\n2\n"
     ]
    }
   ],
   "source": [
    "\n",
    "for m in traits1:\n",
    "    print(m)\n",
    "for index in range(len(traits1)):\n",
    "    #traits1[index]=traits1[index].title()\n",
    "    print(index)"
   ]
  },
  {
   "cell_type": "code",
   "execution_count": 13,
   "metadata": {},
   "outputs": [
    {
     "output_type": "stream",
     "name": "stdout",
     "text": [
      "test = ti1997\ntest = film2000\n"
     ]
    }
   ],
   "source": [
    "#for i in range(1,111):\n",
    "#    print(i)\n",
    "movies={'ti':1997, 'film':2000}\n",
    "for key,value in movies.items():\n",
    "    print('test = {}{}'.format(key,value))"
   ]
  },
  {
   "cell_type": "code",
   "execution_count": 29,
   "metadata": {},
   "outputs": [],
   "source": [
    "def solution(N):\n",
    "    \"\"\"\n",
    "    doc strings\n",
    "\n",
    "    INPUT:\n",
    "    number\n",
    "    OUTPUT:\n",
    "    number of 0\n",
    "    \"\"\"\n",
    "    b=[]\n",
    "    n=N\n",
    "    count=0\n",
    "    c=0\n",
    "    gap=0\n",
    "    while(n>0):\n",
    "        d=n%2 \n",
    "        n=n//2      \n",
    "        if d==0:\n",
    "            c=c+1\n",
    "            gap+=1\n",
    "        else:\n",
    "            if count<c:\n",
    "                count=c                            \n",
    "            c=0\n",
    "        #print(gap)    \n",
    "    if gap<=count:\n",
    "        count=0\n",
    "     \n",
    "    return count\n",
    "# break\n",
    "# continue \n",
    "# functions: def,return,\n"
   ]
  },
  {
   "cell_type": "code",
   "execution_count": 30,
   "metadata": {},
   "outputs": [
    {
     "output_type": "execute_result",
     "data": {
      "text/plain": [
       "4"
      ]
     },
     "metadata": {},
     "execution_count": 30
    }
   ],
   "source": [
    "solution(132)"
   ]
  },
  {
   "cell_type": "code",
   "execution_count": 13,
   "metadata": {},
   "outputs": [
    {
     "output_type": "stream",
     "name": "stdout",
     "text": [
      "[0, 1, 2, 3, 4, 5, 6, 7, 8, 9, 10, 11, 12, 13, 14, 15, 16, 17, 18, 19, 20, 21, 22, 23, 24, 25, 26, 27, 28, 29, 30, 31, 32, 33, 34, 35, 36, 37, 38, 39, 40, 41, 42, 43, 44, 45, 46, 47, 48, 49, 50, 51, 52, 53, 54, 55, 56, 57, 58, 59, 60, 61, 62, 63, 64, 65, 66, 67, 68, 69, 70, 71, 72, 73, 74, 75, 76, 77, 78, 79, 80, 81, 82, 83, 84, 85, 86, 87, 88, 89, 90, 91, 92, 93, 94, 95, 96, 97, 98, 99]\n[0, 2, 4, 6, 8, 10, 12, 14, 16, 18, 20, 22, 24, 26, 28, 30, 32, 34, 36, 38, 40, 42, 44, 46, 48, 50, 52, 54, 56, 58, 60, 62, 64, 66, 68, 70, 72, 74, 76, 78, 80, 82, 84, 86, 88, 90, 92, 94, 96, 98]\n"
     ]
    }
   ],
   "source": [
    "number=list(range(100))\n",
    "print(number)\n",
    "def even_or_odd(number):\n",
    "    return number % 2 ==0\n",
    "\n",
    "print(list(filter(even_or_odd,number)))\n"
   ]
  },
  {
   "cell_type": "code",
   "execution_count": 14,
   "metadata": {},
   "outputs": [
    {
     "output_type": "stream",
     "name": "stdout",
     "text": [
      "[0, 2, 4, 6, 8, 10, 12, 14, 16, 18, 20, 22, 24, 26, 28, 30, 32, 34, 36, 38, 40, 42, 44, 46, 48, 50, 52, 54, 56, 58, 60, 62, 64, 66, 68, 70, 72, 74, 76, 78, 80, 82, 84, 86, 88, 90, 92, 94, 96, 98]\n"
     ]
    }
   ],
   "source": [
    "print(list(filter(lambda number:number % 2 ==0,number)))\n"
   ]
  },
  {
   "cell_type": "code",
   "execution_count": 54,
   "metadata": {},
   "outputs": [],
   "source": [
    "import os\n",
    "import time\n",
    "from glob import glob\n",
    "from pathlib import Path\n",
    "import pandas as pd \n",
    "import numpy as np \n",
    "import torch"
   ]
  },
  {
   "cell_type": "code",
   "execution_count": 55,
   "metadata": {},
   "outputs": [
    {
     "output_type": "execute_result",
     "data": {
      "text/plain": [
       "'1.8.0+cpu'"
      ]
     },
     "metadata": {},
     "execution_count": 55
    }
   ],
   "source": [
    "torch.__version__"
   ]
  },
  {
   "cell_type": "code",
   "execution_count": 44,
   "metadata": {},
   "outputs": [
    {
     "output_type": "stream",
     "name": "stdout",
     "text": [
      "test\n"
     ]
    }
   ],
   "source": [
    "import os\n",
    "import time\n",
    "from glob import glob\n",
    "from pathlib import Path\n",
    "import pandas as pd \n",
    "sub_dir=Path('test')\n",
    "print(sub_dir)\n"
   ]
  },
  {
   "cell_type": "code",
   "execution_count": 45,
   "metadata": {},
   "outputs": [
    {
     "output_type": "stream",
     "name": "stdout",
     "text": [
      " Volume in drive C has no label.\n",
      " Volume Serial Number is EC29-69B7\n",
      "\n",
      " Directory of c:\\code\\Computer_Vison_IoT\n",
      "\n",
      "03/12/2021  06:24 PM    <DIR>          .\n",
      "03/12/2021  06:24 PM    <DIR>          ..\n",
      "03/05/2021  12:10 AM             1,928 .gitignore\n",
      "03/11/2021  12:02 PM    <DIR>          .vscode\n",
      "03/12/2021  10:06 AM            17,606 11march2021.ipynb\n",
      "03/05/2021  12:10 AM                53 README.md\n",
      "03/12/2021  06:24 PM    <DIR>          test\n",
      "03/10/2021  11:41 AM               367 test.cpp\n",
      "03/10/2021  11:41 AM               323 test.py\n",
      "03/10/2021  11:25 AM                 8 test2.cpp\n",
      "               6 File(s)         20,285 bytes\n",
      "               4 Dir(s)  902,566,739,968 bytes free\n"
     ]
    }
   ],
   "source": [
    "sub_dir.mkdir(parents=True,exist_ok=True)\n",
    "!dir "
   ]
  },
  {
   "cell_type": "code",
   "execution_count": 53,
   "metadata": {},
   "outputs": [
    {
     "output_type": "error",
     "ename": "FileNotFoundError",
     "evalue": "[Errno 2] No such file or directory: 'c:\\\\code\\\\Computer_Vision_IoT\\\\test\\\\test.cvs'",
     "traceback": [
      "\u001b[1;31m---------------------------------------------------------------------------\u001b[0m",
      "\u001b[1;31mFileNotFoundError\u001b[0m                         Traceback (most recent call last)",
      "\u001b[1;32m<ipython-input-53-e7a908ddf60d>\u001b[0m in \u001b[0;36m<module>\u001b[1;34m\u001b[0m\n\u001b[0;32m      2\u001b[0m \u001b[1;31m# !head labels_csv\u001b[0m\u001b[1;33m\u001b[0m\u001b[1;33m\u001b[0m\u001b[1;33m\u001b[0m\u001b[0m\n\u001b[0;32m      3\u001b[0m \u001b[1;32mimport\u001b[0m \u001b[0mpandas\u001b[0m \u001b[1;32mas\u001b[0m \u001b[0mpd\u001b[0m\u001b[1;33m\u001b[0m\u001b[1;33m\u001b[0m\u001b[0m\n\u001b[1;32m----> 4\u001b[1;33m \u001b[0mtrain\u001b[0m\u001b[1;33m=\u001b[0m\u001b[0mpd\u001b[0m\u001b[1;33m.\u001b[0m\u001b[0mread_csv\u001b[0m\u001b[1;33m(\u001b[0m\u001b[0mlabels_csv\u001b[0m\u001b[1;33m)\u001b[0m\u001b[1;33m\u001b[0m\u001b[1;33m\u001b[0m\u001b[0m\n\u001b[0m\u001b[0;32m      5\u001b[0m \u001b[1;33m\u001b[0m\u001b[0m\n",
      "\u001b[1;32mC:\\Python36\\lib\\site-packages\\pandas\\io\\parsers.py\u001b[0m in \u001b[0;36mread_csv\u001b[1;34m(filepath_or_buffer, sep, delimiter, header, names, index_col, usecols, squeeze, prefix, mangle_dupe_cols, dtype, engine, converters, true_values, false_values, skipinitialspace, skiprows, skipfooter, nrows, na_values, keep_default_na, na_filter, verbose, skip_blank_lines, parse_dates, infer_datetime_format, keep_date_col, date_parser, dayfirst, cache_dates, iterator, chunksize, compression, thousands, decimal, lineterminator, quotechar, quoting, doublequote, escapechar, comment, encoding, dialect, error_bad_lines, warn_bad_lines, delim_whitespace, low_memory, memory_map, float_precision)\u001b[0m\n\u001b[0;32m    686\u001b[0m     )\n\u001b[0;32m    687\u001b[0m \u001b[1;33m\u001b[0m\u001b[0m\n\u001b[1;32m--> 688\u001b[1;33m     \u001b[1;32mreturn\u001b[0m \u001b[0m_read\u001b[0m\u001b[1;33m(\u001b[0m\u001b[0mfilepath_or_buffer\u001b[0m\u001b[1;33m,\u001b[0m \u001b[0mkwds\u001b[0m\u001b[1;33m)\u001b[0m\u001b[1;33m\u001b[0m\u001b[1;33m\u001b[0m\u001b[0m\n\u001b[0m\u001b[0;32m    689\u001b[0m \u001b[1;33m\u001b[0m\u001b[0m\n\u001b[0;32m    690\u001b[0m \u001b[1;33m\u001b[0m\u001b[0m\n",
      "\u001b[1;32mC:\\Python36\\lib\\site-packages\\pandas\\io\\parsers.py\u001b[0m in \u001b[0;36m_read\u001b[1;34m(filepath_or_buffer, kwds)\u001b[0m\n\u001b[0;32m    452\u001b[0m \u001b[1;33m\u001b[0m\u001b[0m\n\u001b[0;32m    453\u001b[0m     \u001b[1;31m# Create the parser.\u001b[0m\u001b[1;33m\u001b[0m\u001b[1;33m\u001b[0m\u001b[1;33m\u001b[0m\u001b[0m\n\u001b[1;32m--> 454\u001b[1;33m     \u001b[0mparser\u001b[0m \u001b[1;33m=\u001b[0m \u001b[0mTextFileReader\u001b[0m\u001b[1;33m(\u001b[0m\u001b[0mfp_or_buf\u001b[0m\u001b[1;33m,\u001b[0m \u001b[1;33m**\u001b[0m\u001b[0mkwds\u001b[0m\u001b[1;33m)\u001b[0m\u001b[1;33m\u001b[0m\u001b[1;33m\u001b[0m\u001b[0m\n\u001b[0m\u001b[0;32m    455\u001b[0m \u001b[1;33m\u001b[0m\u001b[0m\n\u001b[0;32m    456\u001b[0m     \u001b[1;32mif\u001b[0m \u001b[0mchunksize\u001b[0m \u001b[1;32mor\u001b[0m \u001b[0miterator\u001b[0m\u001b[1;33m:\u001b[0m\u001b[1;33m\u001b[0m\u001b[1;33m\u001b[0m\u001b[0m\n",
      "\u001b[1;32mC:\\Python36\\lib\\site-packages\\pandas\\io\\parsers.py\u001b[0m in \u001b[0;36m__init__\u001b[1;34m(self, f, engine, **kwds)\u001b[0m\n\u001b[0;32m    946\u001b[0m             \u001b[0mself\u001b[0m\u001b[1;33m.\u001b[0m\u001b[0moptions\u001b[0m\u001b[1;33m[\u001b[0m\u001b[1;34m\"has_index_names\"\u001b[0m\u001b[1;33m]\u001b[0m \u001b[1;33m=\u001b[0m \u001b[0mkwds\u001b[0m\u001b[1;33m[\u001b[0m\u001b[1;34m\"has_index_names\"\u001b[0m\u001b[1;33m]\u001b[0m\u001b[1;33m\u001b[0m\u001b[1;33m\u001b[0m\u001b[0m\n\u001b[0;32m    947\u001b[0m \u001b[1;33m\u001b[0m\u001b[0m\n\u001b[1;32m--> 948\u001b[1;33m         \u001b[0mself\u001b[0m\u001b[1;33m.\u001b[0m\u001b[0m_make_engine\u001b[0m\u001b[1;33m(\u001b[0m\u001b[0mself\u001b[0m\u001b[1;33m.\u001b[0m\u001b[0mengine\u001b[0m\u001b[1;33m)\u001b[0m\u001b[1;33m\u001b[0m\u001b[1;33m\u001b[0m\u001b[0m\n\u001b[0m\u001b[0;32m    949\u001b[0m \u001b[1;33m\u001b[0m\u001b[0m\n\u001b[0;32m    950\u001b[0m     \u001b[1;32mdef\u001b[0m \u001b[0mclose\u001b[0m\u001b[1;33m(\u001b[0m\u001b[0mself\u001b[0m\u001b[1;33m)\u001b[0m\u001b[1;33m:\u001b[0m\u001b[1;33m\u001b[0m\u001b[1;33m\u001b[0m\u001b[0m\n",
      "\u001b[1;32mC:\\Python36\\lib\\site-packages\\pandas\\io\\parsers.py\u001b[0m in \u001b[0;36m_make_engine\u001b[1;34m(self, engine)\u001b[0m\n\u001b[0;32m   1178\u001b[0m     \u001b[1;32mdef\u001b[0m \u001b[0m_make_engine\u001b[0m\u001b[1;33m(\u001b[0m\u001b[0mself\u001b[0m\u001b[1;33m,\u001b[0m \u001b[0mengine\u001b[0m\u001b[1;33m=\u001b[0m\u001b[1;34m\"c\"\u001b[0m\u001b[1;33m)\u001b[0m\u001b[1;33m:\u001b[0m\u001b[1;33m\u001b[0m\u001b[1;33m\u001b[0m\u001b[0m\n\u001b[0;32m   1179\u001b[0m         \u001b[1;32mif\u001b[0m \u001b[0mengine\u001b[0m \u001b[1;33m==\u001b[0m \u001b[1;34m\"c\"\u001b[0m\u001b[1;33m:\u001b[0m\u001b[1;33m\u001b[0m\u001b[1;33m\u001b[0m\u001b[0m\n\u001b[1;32m-> 1180\u001b[1;33m             \u001b[0mself\u001b[0m\u001b[1;33m.\u001b[0m\u001b[0m_engine\u001b[0m \u001b[1;33m=\u001b[0m \u001b[0mCParserWrapper\u001b[0m\u001b[1;33m(\u001b[0m\u001b[0mself\u001b[0m\u001b[1;33m.\u001b[0m\u001b[0mf\u001b[0m\u001b[1;33m,\u001b[0m \u001b[1;33m**\u001b[0m\u001b[0mself\u001b[0m\u001b[1;33m.\u001b[0m\u001b[0moptions\u001b[0m\u001b[1;33m)\u001b[0m\u001b[1;33m\u001b[0m\u001b[1;33m\u001b[0m\u001b[0m\n\u001b[0m\u001b[0;32m   1181\u001b[0m         \u001b[1;32melse\u001b[0m\u001b[1;33m:\u001b[0m\u001b[1;33m\u001b[0m\u001b[1;33m\u001b[0m\u001b[0m\n\u001b[0;32m   1182\u001b[0m             \u001b[1;32mif\u001b[0m \u001b[0mengine\u001b[0m \u001b[1;33m==\u001b[0m \u001b[1;34m\"python\"\u001b[0m\u001b[1;33m:\u001b[0m\u001b[1;33m\u001b[0m\u001b[1;33m\u001b[0m\u001b[0m\n",
      "\u001b[1;32mC:\\Python36\\lib\\site-packages\\pandas\\io\\parsers.py\u001b[0m in \u001b[0;36m__init__\u001b[1;34m(self, src, **kwds)\u001b[0m\n\u001b[0;32m   2008\u001b[0m         \u001b[0mkwds\u001b[0m\u001b[1;33m[\u001b[0m\u001b[1;34m\"usecols\"\u001b[0m\u001b[1;33m]\u001b[0m \u001b[1;33m=\u001b[0m \u001b[0mself\u001b[0m\u001b[1;33m.\u001b[0m\u001b[0musecols\u001b[0m\u001b[1;33m\u001b[0m\u001b[1;33m\u001b[0m\u001b[0m\n\u001b[0;32m   2009\u001b[0m \u001b[1;33m\u001b[0m\u001b[0m\n\u001b[1;32m-> 2010\u001b[1;33m         \u001b[0mself\u001b[0m\u001b[1;33m.\u001b[0m\u001b[0m_reader\u001b[0m \u001b[1;33m=\u001b[0m \u001b[0mparsers\u001b[0m\u001b[1;33m.\u001b[0m\u001b[0mTextReader\u001b[0m\u001b[1;33m(\u001b[0m\u001b[0msrc\u001b[0m\u001b[1;33m,\u001b[0m \u001b[1;33m**\u001b[0m\u001b[0mkwds\u001b[0m\u001b[1;33m)\u001b[0m\u001b[1;33m\u001b[0m\u001b[1;33m\u001b[0m\u001b[0m\n\u001b[0m\u001b[0;32m   2011\u001b[0m         \u001b[0mself\u001b[0m\u001b[1;33m.\u001b[0m\u001b[0munnamed_cols\u001b[0m \u001b[1;33m=\u001b[0m \u001b[0mself\u001b[0m\u001b[1;33m.\u001b[0m\u001b[0m_reader\u001b[0m\u001b[1;33m.\u001b[0m\u001b[0munnamed_cols\u001b[0m\u001b[1;33m\u001b[0m\u001b[1;33m\u001b[0m\u001b[0m\n\u001b[0;32m   2012\u001b[0m \u001b[1;33m\u001b[0m\u001b[0m\n",
      "\u001b[1;32mpandas\\_libs\\parsers.pyx\u001b[0m in \u001b[0;36mpandas._libs.parsers.TextReader.__cinit__\u001b[1;34m()\u001b[0m\n",
      "\u001b[1;32mpandas\\_libs\\parsers.pyx\u001b[0m in \u001b[0;36mpandas._libs.parsers.TextReader._setup_parser_source\u001b[1;34m()\u001b[0m\n",
      "\u001b[1;31mFileNotFoundError\u001b[0m: [Errno 2] No such file or directory: 'c:\\\\code\\\\Computer_Vision_IoT\\\\test\\\\test.cvs'"
     ]
    }
   ],
   "source": [
    "labels_csv='c:\\\\code\\\\Computer_Vision_IoT\\\\test\\\\test.cvs'\n",
    "# !head labels_csv\n",
    "import pandas as pd \n",
    "train=pd.read_csv(labels_csv)\n",
    "\n"
   ]
  },
  {
   "cell_type": "code",
   "execution_count": 56,
   "metadata": {},
   "outputs": [
    {
     "output_type": "stream",
     "name": "stdout",
     "text": [
      "tensor([1, 2, 3, 4, 5])\n"
     ]
    }
   ],
   "source": [
    "v=torch.tensor([1,2,3,4,5,6,7,8,9,0])\n",
    "print(v[:5])"
   ]
  },
  {
   "cell_type": "code",
   "execution_count": 69,
   "metadata": {},
   "outputs": [],
   "source": [
    "t1=torch.tensor([1,2,3])\n",
    "t2=torch.tensor([1,2,3])\n",
    "# t1*t2*5\n",
    "t3=torch.dot(t1,t2)"
   ]
  },
  {
   "cell_type": "code",
   "execution_count": 70,
   "metadata": {},
   "outputs": [
    {
     "output_type": "stream",
     "name": "stdout",
     "text": [
      "tensor(14)\n"
     ]
    }
   ],
   "source": [
    "print(t3)"
   ]
  },
  {
   "cell_type": "code",
   "execution_count": 76,
   "metadata": {},
   "outputs": [],
   "source": [
    "t5=torch.linspace(0,100,5)\n",
    "t6=torch.linspace(0,100,5)"
   ]
  },
  {
   "cell_type": "code",
   "execution_count": 78,
   "metadata": {},
   "outputs": [
    {
     "output_type": "error",
     "ename": "TypeError",
     "evalue": "float() argument must be a string or a number, not 'builtin_function_or_method'",
     "traceback": [
      "\u001b[1;31m---------------------------------------------------------------------------\u001b[0m",
      "\u001b[1;31mTypeError\u001b[0m                                 Traceback (most recent call last)",
      "\u001b[1;32m<ipython-input-78-aa77a19b35b5>\u001b[0m in \u001b[0;36m<module>\u001b[1;34m\u001b[0m\n\u001b[0;32m      1\u001b[0m \u001b[1;32mimport\u001b[0m \u001b[0mmatplotlib\u001b[0m\u001b[1;33m.\u001b[0m\u001b[0mpyplot\u001b[0m \u001b[1;32mas\u001b[0m \u001b[0mplt\u001b[0m\u001b[1;33m\u001b[0m\u001b[1;33m\u001b[0m\u001b[0m\n\u001b[0;32m      2\u001b[0m \u001b[1;33m\u001b[0m\u001b[0m\n\u001b[1;32m----> 3\u001b[1;33m \u001b[0mplt\u001b[0m\u001b[1;33m.\u001b[0m\u001b[0mplot\u001b[0m\u001b[1;33m(\u001b[0m\u001b[0mt5\u001b[0m\u001b[1;33m.\u001b[0m\u001b[0mnumpy\u001b[0m\u001b[1;33m)\u001b[0m\u001b[1;33m\u001b[0m\u001b[1;33m\u001b[0m\u001b[0m\n\u001b[0m",
      "\u001b[1;32mC:\\Python36\\lib\\site-packages\\matplotlib\\pyplot.py\u001b[0m in \u001b[0;36mplot\u001b[1;34m(scalex, scaley, data, *args, **kwargs)\u001b[0m\n\u001b[0;32m   2840\u001b[0m     return gca().plot(\n\u001b[0;32m   2841\u001b[0m         \u001b[1;33m*\u001b[0m\u001b[0margs\u001b[0m\u001b[1;33m,\u001b[0m \u001b[0mscalex\u001b[0m\u001b[1;33m=\u001b[0m\u001b[0mscalex\u001b[0m\u001b[1;33m,\u001b[0m \u001b[0mscaley\u001b[0m\u001b[1;33m=\u001b[0m\u001b[0mscaley\u001b[0m\u001b[1;33m,\u001b[0m\u001b[1;33m\u001b[0m\u001b[1;33m\u001b[0m\u001b[0m\n\u001b[1;32m-> 2842\u001b[1;33m         **({\"data\": data} if data is not None else {}), **kwargs)\n\u001b[0m\u001b[0;32m   2843\u001b[0m \u001b[1;33m\u001b[0m\u001b[0m\n\u001b[0;32m   2844\u001b[0m \u001b[1;33m\u001b[0m\u001b[0m\n",
      "\u001b[1;32mC:\\Python36\\lib\\site-packages\\matplotlib\\axes\\_axes.py\u001b[0m in \u001b[0;36mplot\u001b[1;34m(self, scalex, scaley, data, *args, **kwargs)\u001b[0m\n\u001b[0;32m   1743\u001b[0m         \u001b[0mlines\u001b[0m \u001b[1;33m=\u001b[0m \u001b[1;33m[\u001b[0m\u001b[1;33m*\u001b[0m\u001b[0mself\u001b[0m\u001b[1;33m.\u001b[0m\u001b[0m_get_lines\u001b[0m\u001b[1;33m(\u001b[0m\u001b[1;33m*\u001b[0m\u001b[0margs\u001b[0m\u001b[1;33m,\u001b[0m \u001b[0mdata\u001b[0m\u001b[1;33m=\u001b[0m\u001b[0mdata\u001b[0m\u001b[1;33m,\u001b[0m \u001b[1;33m**\u001b[0m\u001b[0mkwargs\u001b[0m\u001b[1;33m)\u001b[0m\u001b[1;33m]\u001b[0m\u001b[1;33m\u001b[0m\u001b[1;33m\u001b[0m\u001b[0m\n\u001b[0;32m   1744\u001b[0m         \u001b[1;32mfor\u001b[0m \u001b[0mline\u001b[0m \u001b[1;32min\u001b[0m \u001b[0mlines\u001b[0m\u001b[1;33m:\u001b[0m\u001b[1;33m\u001b[0m\u001b[1;33m\u001b[0m\u001b[0m\n\u001b[1;32m-> 1745\u001b[1;33m             \u001b[0mself\u001b[0m\u001b[1;33m.\u001b[0m\u001b[0madd_line\u001b[0m\u001b[1;33m(\u001b[0m\u001b[0mline\u001b[0m\u001b[1;33m)\u001b[0m\u001b[1;33m\u001b[0m\u001b[1;33m\u001b[0m\u001b[0m\n\u001b[0m\u001b[0;32m   1746\u001b[0m         \u001b[0mself\u001b[0m\u001b[1;33m.\u001b[0m\u001b[0m_request_autoscale_view\u001b[0m\u001b[1;33m(\u001b[0m\u001b[0mscalex\u001b[0m\u001b[1;33m=\u001b[0m\u001b[0mscalex\u001b[0m\u001b[1;33m,\u001b[0m \u001b[0mscaley\u001b[0m\u001b[1;33m=\u001b[0m\u001b[0mscaley\u001b[0m\u001b[1;33m)\u001b[0m\u001b[1;33m\u001b[0m\u001b[1;33m\u001b[0m\u001b[0m\n\u001b[0;32m   1747\u001b[0m         \u001b[1;32mreturn\u001b[0m \u001b[0mlines\u001b[0m\u001b[1;33m\u001b[0m\u001b[1;33m\u001b[0m\u001b[0m\n",
      "\u001b[1;32mC:\\Python36\\lib\\site-packages\\matplotlib\\axes\\_base.py\u001b[0m in \u001b[0;36madd_line\u001b[1;34m(self, line)\u001b[0m\n\u001b[0;32m   1962\u001b[0m             \u001b[0mline\u001b[0m\u001b[1;33m.\u001b[0m\u001b[0mset_clip_path\u001b[0m\u001b[1;33m(\u001b[0m\u001b[0mself\u001b[0m\u001b[1;33m.\u001b[0m\u001b[0mpatch\u001b[0m\u001b[1;33m)\u001b[0m\u001b[1;33m\u001b[0m\u001b[1;33m\u001b[0m\u001b[0m\n\u001b[0;32m   1963\u001b[0m \u001b[1;33m\u001b[0m\u001b[0m\n\u001b[1;32m-> 1964\u001b[1;33m         \u001b[0mself\u001b[0m\u001b[1;33m.\u001b[0m\u001b[0m_update_line_limits\u001b[0m\u001b[1;33m(\u001b[0m\u001b[0mline\u001b[0m\u001b[1;33m)\u001b[0m\u001b[1;33m\u001b[0m\u001b[1;33m\u001b[0m\u001b[0m\n\u001b[0m\u001b[0;32m   1965\u001b[0m         \u001b[1;32mif\u001b[0m \u001b[1;32mnot\u001b[0m \u001b[0mline\u001b[0m\u001b[1;33m.\u001b[0m\u001b[0mget_label\u001b[0m\u001b[1;33m(\u001b[0m\u001b[1;33m)\u001b[0m\u001b[1;33m:\u001b[0m\u001b[1;33m\u001b[0m\u001b[1;33m\u001b[0m\u001b[0m\n\u001b[0;32m   1966\u001b[0m             \u001b[0mline\u001b[0m\u001b[1;33m.\u001b[0m\u001b[0mset_label\u001b[0m\u001b[1;33m(\u001b[0m\u001b[1;34m'_line%d'\u001b[0m \u001b[1;33m%\u001b[0m \u001b[0mlen\u001b[0m\u001b[1;33m(\u001b[0m\u001b[0mself\u001b[0m\u001b[1;33m.\u001b[0m\u001b[0mlines\u001b[0m\u001b[1;33m)\u001b[0m\u001b[1;33m)\u001b[0m\u001b[1;33m\u001b[0m\u001b[1;33m\u001b[0m\u001b[0m\n",
      "\u001b[1;32mC:\\Python36\\lib\\site-packages\\matplotlib\\axes\\_base.py\u001b[0m in \u001b[0;36m_update_line_limits\u001b[1;34m(self, line)\u001b[0m\n\u001b[0;32m   1984\u001b[0m         \u001b[0mFigures\u001b[0m \u001b[0mout\u001b[0m \u001b[0mthe\u001b[0m \u001b[0mdata\u001b[0m \u001b[0mlimit\u001b[0m \u001b[0mof\u001b[0m \u001b[0mthe\u001b[0m \u001b[0mgiven\u001b[0m \u001b[0mline\u001b[0m\u001b[1;33m,\u001b[0m \u001b[0mupdating\u001b[0m \u001b[0mself\u001b[0m\u001b[1;33m.\u001b[0m\u001b[0mdataLim\u001b[0m\u001b[1;33m.\u001b[0m\u001b[1;33m\u001b[0m\u001b[1;33m\u001b[0m\u001b[0m\n\u001b[0;32m   1985\u001b[0m         \"\"\"\n\u001b[1;32m-> 1986\u001b[1;33m         \u001b[0mpath\u001b[0m \u001b[1;33m=\u001b[0m \u001b[0mline\u001b[0m\u001b[1;33m.\u001b[0m\u001b[0mget_path\u001b[0m\u001b[1;33m(\u001b[0m\u001b[1;33m)\u001b[0m\u001b[1;33m\u001b[0m\u001b[1;33m\u001b[0m\u001b[0m\n\u001b[0m\u001b[0;32m   1987\u001b[0m         \u001b[1;32mif\u001b[0m \u001b[0mpath\u001b[0m\u001b[1;33m.\u001b[0m\u001b[0mvertices\u001b[0m\u001b[1;33m.\u001b[0m\u001b[0msize\u001b[0m \u001b[1;33m==\u001b[0m \u001b[1;36m0\u001b[0m\u001b[1;33m:\u001b[0m\u001b[1;33m\u001b[0m\u001b[1;33m\u001b[0m\u001b[0m\n\u001b[0;32m   1988\u001b[0m             \u001b[1;32mreturn\u001b[0m\u001b[1;33m\u001b[0m\u001b[1;33m\u001b[0m\u001b[0m\n",
      "\u001b[1;32mC:\\Python36\\lib\\site-packages\\matplotlib\\lines.py\u001b[0m in \u001b[0;36mget_path\u001b[1;34m(self)\u001b[0m\n\u001b[0;32m   1009\u001b[0m         \"\"\"\n\u001b[0;32m   1010\u001b[0m         \u001b[1;32mif\u001b[0m \u001b[0mself\u001b[0m\u001b[1;33m.\u001b[0m\u001b[0m_invalidy\u001b[0m \u001b[1;32mor\u001b[0m \u001b[0mself\u001b[0m\u001b[1;33m.\u001b[0m\u001b[0m_invalidx\u001b[0m\u001b[1;33m:\u001b[0m\u001b[1;33m\u001b[0m\u001b[1;33m\u001b[0m\u001b[0m\n\u001b[1;32m-> 1011\u001b[1;33m             \u001b[0mself\u001b[0m\u001b[1;33m.\u001b[0m\u001b[0mrecache\u001b[0m\u001b[1;33m(\u001b[0m\u001b[1;33m)\u001b[0m\u001b[1;33m\u001b[0m\u001b[1;33m\u001b[0m\u001b[0m\n\u001b[0m\u001b[0;32m   1012\u001b[0m         \u001b[1;32mreturn\u001b[0m \u001b[0mself\u001b[0m\u001b[1;33m.\u001b[0m\u001b[0m_path\u001b[0m\u001b[1;33m\u001b[0m\u001b[1;33m\u001b[0m\u001b[0m\n\u001b[0;32m   1013\u001b[0m \u001b[1;33m\u001b[0m\u001b[0m\n",
      "\u001b[1;32mC:\\Python36\\lib\\site-packages\\matplotlib\\lines.py\u001b[0m in \u001b[0;36mrecache\u001b[1;34m(self, always)\u001b[0m\n\u001b[0;32m    656\u001b[0m         \u001b[1;32mif\u001b[0m \u001b[0malways\u001b[0m \u001b[1;32mor\u001b[0m \u001b[0mself\u001b[0m\u001b[1;33m.\u001b[0m\u001b[0m_invalidy\u001b[0m\u001b[1;33m:\u001b[0m\u001b[1;33m\u001b[0m\u001b[1;33m\u001b[0m\u001b[0m\n\u001b[0;32m    657\u001b[0m             \u001b[0myconv\u001b[0m \u001b[1;33m=\u001b[0m \u001b[0mself\u001b[0m\u001b[1;33m.\u001b[0m\u001b[0mconvert_yunits\u001b[0m\u001b[1;33m(\u001b[0m\u001b[0mself\u001b[0m\u001b[1;33m.\u001b[0m\u001b[0m_yorig\u001b[0m\u001b[1;33m)\u001b[0m\u001b[1;33m\u001b[0m\u001b[1;33m\u001b[0m\u001b[0m\n\u001b[1;32m--> 658\u001b[1;33m             \u001b[0my\u001b[0m \u001b[1;33m=\u001b[0m \u001b[0m_to_unmasked_float_array\u001b[0m\u001b[1;33m(\u001b[0m\u001b[0myconv\u001b[0m\u001b[1;33m)\u001b[0m\u001b[1;33m.\u001b[0m\u001b[0mravel\u001b[0m\u001b[1;33m(\u001b[0m\u001b[1;33m)\u001b[0m\u001b[1;33m\u001b[0m\u001b[1;33m\u001b[0m\u001b[0m\n\u001b[0m\u001b[0;32m    659\u001b[0m         \u001b[1;32melse\u001b[0m\u001b[1;33m:\u001b[0m\u001b[1;33m\u001b[0m\u001b[1;33m\u001b[0m\u001b[0m\n\u001b[0;32m    660\u001b[0m             \u001b[0my\u001b[0m \u001b[1;33m=\u001b[0m \u001b[0mself\u001b[0m\u001b[1;33m.\u001b[0m\u001b[0m_y\u001b[0m\u001b[1;33m\u001b[0m\u001b[1;33m\u001b[0m\u001b[0m\n",
      "\u001b[1;32mC:\\Python36\\lib\\site-packages\\matplotlib\\cbook\\__init__.py\u001b[0m in \u001b[0;36m_to_unmasked_float_array\u001b[1;34m(x)\u001b[0m\n\u001b[0;32m   1287\u001b[0m         \u001b[1;32mreturn\u001b[0m \u001b[0mnp\u001b[0m\u001b[1;33m.\u001b[0m\u001b[0mma\u001b[0m\u001b[1;33m.\u001b[0m\u001b[0masarray\u001b[0m\u001b[1;33m(\u001b[0m\u001b[0mx\u001b[0m\u001b[1;33m,\u001b[0m \u001b[0mfloat\u001b[0m\u001b[1;33m)\u001b[0m\u001b[1;33m.\u001b[0m\u001b[0mfilled\u001b[0m\u001b[1;33m(\u001b[0m\u001b[0mnp\u001b[0m\u001b[1;33m.\u001b[0m\u001b[0mnan\u001b[0m\u001b[1;33m)\u001b[0m\u001b[1;33m\u001b[0m\u001b[1;33m\u001b[0m\u001b[0m\n\u001b[0;32m   1288\u001b[0m     \u001b[1;32melse\u001b[0m\u001b[1;33m:\u001b[0m\u001b[1;33m\u001b[0m\u001b[1;33m\u001b[0m\u001b[0m\n\u001b[1;32m-> 1289\u001b[1;33m         \u001b[1;32mreturn\u001b[0m \u001b[0mnp\u001b[0m\u001b[1;33m.\u001b[0m\u001b[0masarray\u001b[0m\u001b[1;33m(\u001b[0m\u001b[0mx\u001b[0m\u001b[1;33m,\u001b[0m \u001b[0mfloat\u001b[0m\u001b[1;33m)\u001b[0m\u001b[1;33m\u001b[0m\u001b[1;33m\u001b[0m\u001b[0m\n\u001b[0m\u001b[0;32m   1290\u001b[0m \u001b[1;33m\u001b[0m\u001b[0m\n\u001b[0;32m   1291\u001b[0m \u001b[1;33m\u001b[0m\u001b[0m\n",
      "\u001b[1;32mC:\\Python36\\lib\\site-packages\\numpy\\core\\_asarray.py\u001b[0m in \u001b[0;36masarray\u001b[1;34m(a, dtype, order)\u001b[0m\n\u001b[0;32m     81\u001b[0m \u001b[1;33m\u001b[0m\u001b[0m\n\u001b[0;32m     82\u001b[0m     \"\"\"\n\u001b[1;32m---> 83\u001b[1;33m     \u001b[1;32mreturn\u001b[0m \u001b[0marray\u001b[0m\u001b[1;33m(\u001b[0m\u001b[0ma\u001b[0m\u001b[1;33m,\u001b[0m \u001b[0mdtype\u001b[0m\u001b[1;33m,\u001b[0m \u001b[0mcopy\u001b[0m\u001b[1;33m=\u001b[0m\u001b[1;32mFalse\u001b[0m\u001b[1;33m,\u001b[0m \u001b[0morder\u001b[0m\u001b[1;33m=\u001b[0m\u001b[0morder\u001b[0m\u001b[1;33m)\u001b[0m\u001b[1;33m\u001b[0m\u001b[1;33m\u001b[0m\u001b[0m\n\u001b[0m\u001b[0;32m     84\u001b[0m \u001b[1;33m\u001b[0m\u001b[0m\n\u001b[0;32m     85\u001b[0m \u001b[1;33m\u001b[0m\u001b[0m\n",
      "\u001b[1;31mTypeError\u001b[0m: float() argument must be a string or a number, not 'builtin_function_or_method'"
     ]
    }
   ],
   "source": [
    "import matplotlib.pyplot as plt \n",
    "\n",
    "plt.plot(t5.numpy)"
   ]
  },
  {
   "cell_type": "code",
   "execution_count": 83,
   "metadata": {},
   "outputs": [
    {
     "output_type": "execute_result",
     "data": {
      "text/plain": [
       "tensor([0, 1, 2, 3, 4, 5, 6, 7, 8])"
      ]
     },
     "metadata": {},
     "execution_count": 83
    }
   ],
   "source": [
    "d1=torch.arange(0,9)\n",
    "d1"
   ]
  },
  {
   "cell_type": "code",
   "execution_count": 86,
   "metadata": {},
   "outputs": [
    {
     "output_type": "execute_result",
     "data": {
      "text/plain": [
       "2"
      ]
     },
     "metadata": {},
     "execution_count": 86
    }
   ],
   "source": [
    "d2=d1.view(3,3)\n",
    "# d2\n",
    "d2.dim()"
   ]
  },
  {
   "cell_type": "code",
   "execution_count": 92,
   "metadata": {},
   "outputs": [
    {
     "output_type": "execute_result",
     "data": {
      "text/plain": [
       "tensor([[[ 0,  1,  2],\n",
       "         [ 3,  4,  5]],\n",
       "\n",
       "        [[ 6,  7,  8],\n",
       "         [ 9, 10, 11]],\n",
       "\n",
       "        [[12, 13, 14],\n",
       "         [15, 16, 17]]])"
      ]
     },
     "metadata": {},
     "execution_count": 92
    }
   ],
   "source": [
    "x=torch.arange(18).view(3,2,3)\n",
    "x\n"
   ]
  },
  {
   "cell_type": "code",
   "execution_count": 94,
   "metadata": {},
   "outputs": [
    {
     "output_type": "execute_result",
     "data": {
      "text/plain": [
       "tensor([[12, 13, 14],\n",
       "        [15, 16, 17]])"
      ]
     },
     "metadata": {},
     "execution_count": 94
    }
   ],
   "source": [
    "y=x[2,:,:]\n",
    "y"
   ]
  },
  {
   "cell_type": "code",
   "execution_count": 5,
   "metadata": {},
   "outputs": [],
   "source": [
    "import matplotlib.pyplot as plt \n",
    "import os\n",
    "import time\n",
    "from glob import glob\n",
    "from pathlib import Path\n",
    "import pandas as pd \n",
    "import numpy as np \n",
    "import torch"
   ]
  },
  {
   "cell_type": "code",
   "execution_count": 2,
   "metadata": {},
   "outputs": [
    {
     "output_type": "stream",
     "name": "stdout",
     "text": [
      "Collecting kaggle\n",
      "  Downloading kaggle-1.5.12.tar.gz (58 kB)\n",
      "Requirement already satisfied: six>=1.10 in c:\\python36\\lib\\site-packages (from kaggle) (1.15.0)\n",
      "Requirement already satisfied: certifi in c:\\python36\\lib\\site-packages (from kaggle) (2020.12.5)\n",
      "Requirement already satisfied: python-dateutil in c:\\python36\\lib\\site-packages (from kaggle) (2.8.1)\n",
      "Requirement already satisfied: requests in c:\\python36\\lib\\site-packages (from kaggle) (2.25.1)\n",
      "Collecting tqdm\n",
      "  Downloading tqdm-4.59.0-py2.py3-none-any.whl (74 kB)\n",
      "Collecting python-slugify\n",
      "  Downloading python-slugify-4.0.1.tar.gz (11 kB)\n",
      "Requirement already satisfied: urllib3 in c:\\python36\\lib\\site-packages (from kaggle) (1.26.3)\n",
      "Collecting text-unidecode>=1.3\n",
      "  Downloading text_unidecode-1.3-py2.py3-none-any.whl (78 kB)\n",
      "Requirement already satisfied: idna<3,>=2.5 in c:\\python36\\lib\\site-packages (from requests->kaggle) (2.10)\n",
      "Requirement already satisfied: chardet<5,>=3.0.2 in c:\\python36\\lib\\site-packages (from requests->kaggle) (4.0.0)\n",
      "Building wheels for collected packages: kaggle, python-slugify\n",
      "  Building wheel for kaggle (setup.py): started\n",
      "  Building wheel for kaggle (setup.py): finished with status 'done'\n",
      "  Created wheel for kaggle: filename=kaggle-1.5.12-py3-none-any.whl size=73053 sha256=e4469b1dae85a8e9196deb8f321536c656f3b0ed8e11667e3c41fd0ed875eb87\n",
      "  Stored in directory: c:\\users\\farshid\\appdata\\local\\pip\\cache\\wheels\\77\\47\\e4\\44a4ba1b7dfd53faaa35f59f1175e123b213ff401a8a56876b\n",
      "  Building wheel for python-slugify (setup.py): started\n",
      "  Building wheel for python-slugify (setup.py): finished with status 'done'\n",
      "  Created wheel for python-slugify: filename=python_slugify-4.0.1-py2.py3-none-any.whl size=6769 sha256=312ddeee14b15eb1923f23cda5522d823246de36ca6a9356f658e4167d0b5fce\n",
      "  Stored in directory: c:\\users\\farshid\\appdata\\local\\pip\\cache\\wheels\\72\\e6\\db\\122611605e60148f54ee2abaca98b2bbeafc6e22486a867bad\n",
      "Successfully built kaggle python-slugify\n",
      "Installing collected packages: text-unidecode, tqdm, python-slugify, kaggle\n",
      "Successfully installed kaggle-1.5.12 python-slugify-4.0.1 text-unidecode-1.3 tqdm-4.59.0\n"
     ]
    }
   ],
   "source": [
    "!pip install kaggle"
   ]
  },
  {
   "cell_type": "code",
   "execution_count": 4,
   "metadata": {},
   "outputs": [
    {
     "output_type": "stream",
     "name": "stdout",
     "text": [
      "Downloading boston-housing.zip to c:\\code\\Computer_Vison_IoT\n",
      "\n",
      "\n",
      "  0%|          | 0.00/13.9k [00:00<?, ?B/s]\n",
      "100%|██████████| 13.9k/13.9k [00:00<?, ?B/s]\n"
     ]
    }
   ],
   "source": [
    "!kaggle competitions download boston-housing"
   ]
  },
  {
   "cell_type": "code",
   "execution_count": 6,
   "metadata": {},
   "outputs": [],
   "source": [
    "np.random.seed(0)"
   ]
  },
  {
   "cell_type": "code",
   "execution_count": 16,
   "metadata": {},
   "outputs": [
    {
     "output_type": "execute_result",
     "data": {
      "text/plain": [
       "[<matplotlib.lines.Line2D at 0x1d82e1fd9b0>]"
      ]
     },
     "metadata": {},
     "execution_count": 16
    },
    {
     "output_type": "display_data",
     "data": {
      "text/plain": "<Figure size 432x288 with 1 Axes>",
      "image/svg+xml": "<?xml version=\"1.0\" encoding=\"utf-8\" standalone=\"no\"?>\r\n<!DOCTYPE svg PUBLIC \"-//W3C//DTD SVG 1.1//EN\"\r\n  \"http://www.w3.org/Graphics/SVG/1.1/DTD/svg11.dtd\">\r\n<!-- Created with matplotlib (https://matplotlib.org/) -->\r\n<svg height=\"248.518125pt\" version=\"1.1\" viewBox=\"0 0 380.482812 248.518125\" width=\"380.482812pt\" xmlns=\"http://www.w3.org/2000/svg\" xmlns:xlink=\"http://www.w3.org/1999/xlink\">\r\n <metadata>\r\n  <rdf:RDF xmlns:cc=\"http://creativecommons.org/ns#\" xmlns:dc=\"http://purl.org/dc/elements/1.1/\" xmlns:rdf=\"http://www.w3.org/1999/02/22-rdf-syntax-ns#\">\r\n   <cc:Work>\r\n    <dc:type rdf:resource=\"http://purl.org/dc/dcmitype/StillImage\"/>\r\n    <dc:date>2021-03-14T00:50:13.687615</dc:date>\r\n    <dc:format>image/svg+xml</dc:format>\r\n    <dc:creator>\r\n     <cc:Agent>\r\n      <dc:title>Matplotlib v3.3.4, https://matplotlib.org/</dc:title>\r\n     </cc:Agent>\r\n    </dc:creator>\r\n   </cc:Work>\r\n  </rdf:RDF>\r\n </metadata>\r\n <defs>\r\n  <style type=\"text/css\">*{stroke-linecap:butt;stroke-linejoin:round;}</style>\r\n </defs>\r\n <g id=\"figure_1\">\r\n  <g id=\"patch_1\">\r\n   <path d=\"M -0 248.518125 \r\nL 380.482812 248.518125 \r\nL 380.482812 0 \r\nL -0 0 \r\nz\r\n\" style=\"fill:none;\"/>\r\n  </g>\r\n  <g id=\"axes_1\">\r\n   <g id=\"patch_2\">\r\n    <path d=\"M 38.482813 224.64 \r\nL 373.282813 224.64 \r\nL 373.282813 7.2 \r\nL 38.482813 7.2 \r\nz\r\n\" style=\"fill:#ffffff;\"/>\r\n   </g>\r\n   <g id=\"matplotlib.axis_1\">\r\n    <g id=\"xtick_1\">\r\n     <g id=\"line2d_1\">\r\n      <defs>\r\n       <path d=\"M 0 0 \r\nL 0 3.5 \r\n\" id=\"m9c482cf7e8\" style=\"stroke:#000000;stroke-width:0.8;\"/>\r\n      </defs>\r\n      <g>\r\n       <use style=\"stroke:#000000;stroke-width:0.8;\" x=\"53.700994\" xlink:href=\"#m9c482cf7e8\" y=\"224.64\"/>\r\n      </g>\r\n     </g>\r\n     <g id=\"text_1\">\r\n      <!-- 0 -->\r\n      <g transform=\"translate(50.519744 239.238437)scale(0.1 -0.1)\">\r\n       <defs>\r\n        <path d=\"M 31.78125 66.40625 \r\nQ 24.171875 66.40625 20.328125 58.90625 \r\nQ 16.5 51.421875 16.5 36.375 \r\nQ 16.5 21.390625 20.328125 13.890625 \r\nQ 24.171875 6.390625 31.78125 6.390625 \r\nQ 39.453125 6.390625 43.28125 13.890625 \r\nQ 47.125 21.390625 47.125 36.375 \r\nQ 47.125 51.421875 43.28125 58.90625 \r\nQ 39.453125 66.40625 31.78125 66.40625 \r\nz\r\nM 31.78125 74.21875 \r\nQ 44.046875 74.21875 50.515625 64.515625 \r\nQ 56.984375 54.828125 56.984375 36.375 \r\nQ 56.984375 17.96875 50.515625 8.265625 \r\nQ 44.046875 -1.421875 31.78125 -1.421875 \r\nQ 19.53125 -1.421875 13.0625 8.265625 \r\nQ 6.59375 17.96875 6.59375 36.375 \r\nQ 6.59375 54.828125 13.0625 64.515625 \r\nQ 19.53125 74.21875 31.78125 74.21875 \r\nz\r\n\" id=\"DejaVuSans-48\"/>\r\n       </defs>\r\n       <use xlink:href=\"#DejaVuSans-48\"/>\r\n      </g>\r\n     </g>\r\n    </g>\r\n    <g id=\"xtick_2\">\r\n     <g id=\"line2d_2\">\r\n      <g>\r\n       <use style=\"stroke:#000000;stroke-width:0.8;\" x=\"94.309885\" xlink:href=\"#m9c482cf7e8\" y=\"224.64\"/>\r\n      </g>\r\n     </g>\r\n     <g id=\"text_2\">\r\n      <!-- 200 -->\r\n      <g transform=\"translate(84.766135 239.238437)scale(0.1 -0.1)\">\r\n       <defs>\r\n        <path d=\"M 19.1875 8.296875 \r\nL 53.609375 8.296875 \r\nL 53.609375 0 \r\nL 7.328125 0 \r\nL 7.328125 8.296875 \r\nQ 12.9375 14.109375 22.625 23.890625 \r\nQ 32.328125 33.6875 34.8125 36.53125 \r\nQ 39.546875 41.84375 41.421875 45.53125 \r\nQ 43.3125 49.21875 43.3125 52.78125 \r\nQ 43.3125 58.59375 39.234375 62.25 \r\nQ 35.15625 65.921875 28.609375 65.921875 \r\nQ 23.96875 65.921875 18.8125 64.3125 \r\nQ 13.671875 62.703125 7.8125 59.421875 \r\nL 7.8125 69.390625 \r\nQ 13.765625 71.78125 18.9375 73 \r\nQ 24.125 74.21875 28.421875 74.21875 \r\nQ 39.75 74.21875 46.484375 68.546875 \r\nQ 53.21875 62.890625 53.21875 53.421875 \r\nQ 53.21875 48.921875 51.53125 44.890625 \r\nQ 49.859375 40.875 45.40625 35.40625 \r\nQ 44.1875 33.984375 37.640625 27.21875 \r\nQ 31.109375 20.453125 19.1875 8.296875 \r\nz\r\n\" id=\"DejaVuSans-50\"/>\r\n       </defs>\r\n       <use xlink:href=\"#DejaVuSans-50\"/>\r\n       <use x=\"63.623047\" xlink:href=\"#DejaVuSans-48\"/>\r\n       <use x=\"127.246094\" xlink:href=\"#DejaVuSans-48\"/>\r\n      </g>\r\n     </g>\r\n    </g>\r\n    <g id=\"xtick_3\">\r\n     <g id=\"line2d_3\">\r\n      <g>\r\n       <use style=\"stroke:#000000;stroke-width:0.8;\" x=\"134.918776\" xlink:href=\"#m9c482cf7e8\" y=\"224.64\"/>\r\n      </g>\r\n     </g>\r\n     <g id=\"text_3\">\r\n      <!-- 400 -->\r\n      <g transform=\"translate(125.375026 239.238437)scale(0.1 -0.1)\">\r\n       <defs>\r\n        <path d=\"M 37.796875 64.3125 \r\nL 12.890625 25.390625 \r\nL 37.796875 25.390625 \r\nz\r\nM 35.203125 72.90625 \r\nL 47.609375 72.90625 \r\nL 47.609375 25.390625 \r\nL 58.015625 25.390625 \r\nL 58.015625 17.1875 \r\nL 47.609375 17.1875 \r\nL 47.609375 0 \r\nL 37.796875 0 \r\nL 37.796875 17.1875 \r\nL 4.890625 17.1875 \r\nL 4.890625 26.703125 \r\nz\r\n\" id=\"DejaVuSans-52\"/>\r\n       </defs>\r\n       <use xlink:href=\"#DejaVuSans-52\"/>\r\n       <use x=\"63.623047\" xlink:href=\"#DejaVuSans-48\"/>\r\n       <use x=\"127.246094\" xlink:href=\"#DejaVuSans-48\"/>\r\n      </g>\r\n     </g>\r\n    </g>\r\n    <g id=\"xtick_4\">\r\n     <g id=\"line2d_4\">\r\n      <g>\r\n       <use style=\"stroke:#000000;stroke-width:0.8;\" x=\"175.527667\" xlink:href=\"#m9c482cf7e8\" y=\"224.64\"/>\r\n      </g>\r\n     </g>\r\n     <g id=\"text_4\">\r\n      <!-- 600 -->\r\n      <g transform=\"translate(165.983917 239.238437)scale(0.1 -0.1)\">\r\n       <defs>\r\n        <path d=\"M 33.015625 40.375 \r\nQ 26.375 40.375 22.484375 35.828125 \r\nQ 18.609375 31.296875 18.609375 23.390625 \r\nQ 18.609375 15.53125 22.484375 10.953125 \r\nQ 26.375 6.390625 33.015625 6.390625 \r\nQ 39.65625 6.390625 43.53125 10.953125 \r\nQ 47.40625 15.53125 47.40625 23.390625 \r\nQ 47.40625 31.296875 43.53125 35.828125 \r\nQ 39.65625 40.375 33.015625 40.375 \r\nz\r\nM 52.59375 71.296875 \r\nL 52.59375 62.3125 \r\nQ 48.875 64.0625 45.09375 64.984375 \r\nQ 41.3125 65.921875 37.59375 65.921875 \r\nQ 27.828125 65.921875 22.671875 59.328125 \r\nQ 17.53125 52.734375 16.796875 39.40625 \r\nQ 19.671875 43.65625 24.015625 45.921875 \r\nQ 28.375 48.1875 33.59375 48.1875 \r\nQ 44.578125 48.1875 50.953125 41.515625 \r\nQ 57.328125 34.859375 57.328125 23.390625 \r\nQ 57.328125 12.15625 50.6875 5.359375 \r\nQ 44.046875 -1.421875 33.015625 -1.421875 \r\nQ 20.359375 -1.421875 13.671875 8.265625 \r\nQ 6.984375 17.96875 6.984375 36.375 \r\nQ 6.984375 53.65625 15.1875 63.9375 \r\nQ 23.390625 74.21875 37.203125 74.21875 \r\nQ 40.921875 74.21875 44.703125 73.484375 \r\nQ 48.484375 72.75 52.59375 71.296875 \r\nz\r\n\" id=\"DejaVuSans-54\"/>\r\n       </defs>\r\n       <use xlink:href=\"#DejaVuSans-54\"/>\r\n       <use x=\"63.623047\" xlink:href=\"#DejaVuSans-48\"/>\r\n       <use x=\"127.246094\" xlink:href=\"#DejaVuSans-48\"/>\r\n      </g>\r\n     </g>\r\n    </g>\r\n    <g id=\"xtick_5\">\r\n     <g id=\"line2d_5\">\r\n      <g>\r\n       <use style=\"stroke:#000000;stroke-width:0.8;\" x=\"216.136557\" xlink:href=\"#m9c482cf7e8\" y=\"224.64\"/>\r\n      </g>\r\n     </g>\r\n     <g id=\"text_5\">\r\n      <!-- 800 -->\r\n      <g transform=\"translate(206.592807 239.238437)scale(0.1 -0.1)\">\r\n       <defs>\r\n        <path d=\"M 31.78125 34.625 \r\nQ 24.75 34.625 20.71875 30.859375 \r\nQ 16.703125 27.09375 16.703125 20.515625 \r\nQ 16.703125 13.921875 20.71875 10.15625 \r\nQ 24.75 6.390625 31.78125 6.390625 \r\nQ 38.8125 6.390625 42.859375 10.171875 \r\nQ 46.921875 13.96875 46.921875 20.515625 \r\nQ 46.921875 27.09375 42.890625 30.859375 \r\nQ 38.875 34.625 31.78125 34.625 \r\nz\r\nM 21.921875 38.8125 \r\nQ 15.578125 40.375 12.03125 44.71875 \r\nQ 8.5 49.078125 8.5 55.328125 \r\nQ 8.5 64.0625 14.71875 69.140625 \r\nQ 20.953125 74.21875 31.78125 74.21875 \r\nQ 42.671875 74.21875 48.875 69.140625 \r\nQ 55.078125 64.0625 55.078125 55.328125 \r\nQ 55.078125 49.078125 51.53125 44.71875 \r\nQ 48 40.375 41.703125 38.8125 \r\nQ 48.828125 37.15625 52.796875 32.3125 \r\nQ 56.78125 27.484375 56.78125 20.515625 \r\nQ 56.78125 9.90625 50.3125 4.234375 \r\nQ 43.84375 -1.421875 31.78125 -1.421875 \r\nQ 19.734375 -1.421875 13.25 4.234375 \r\nQ 6.78125 9.90625 6.78125 20.515625 \r\nQ 6.78125 27.484375 10.78125 32.3125 \r\nQ 14.796875 37.15625 21.921875 38.8125 \r\nz\r\nM 18.3125 54.390625 \r\nQ 18.3125 48.734375 21.84375 45.5625 \r\nQ 25.390625 42.390625 31.78125 42.390625 \r\nQ 38.140625 42.390625 41.71875 45.5625 \r\nQ 45.3125 48.734375 45.3125 54.390625 \r\nQ 45.3125 60.0625 41.71875 63.234375 \r\nQ 38.140625 66.40625 31.78125 66.40625 \r\nQ 25.390625 66.40625 21.84375 63.234375 \r\nQ 18.3125 60.0625 18.3125 54.390625 \r\nz\r\n\" id=\"DejaVuSans-56\"/>\r\n       </defs>\r\n       <use xlink:href=\"#DejaVuSans-56\"/>\r\n       <use x=\"63.623047\" xlink:href=\"#DejaVuSans-48\"/>\r\n       <use x=\"127.246094\" xlink:href=\"#DejaVuSans-48\"/>\r\n      </g>\r\n     </g>\r\n    </g>\r\n    <g id=\"xtick_6\">\r\n     <g id=\"line2d_6\">\r\n      <g>\r\n       <use style=\"stroke:#000000;stroke-width:0.8;\" x=\"256.745448\" xlink:href=\"#m9c482cf7e8\" y=\"224.64\"/>\r\n      </g>\r\n     </g>\r\n     <g id=\"text_6\">\r\n      <!-- 1000 -->\r\n      <g transform=\"translate(244.020448 239.238437)scale(0.1 -0.1)\">\r\n       <defs>\r\n        <path d=\"M 12.40625 8.296875 \r\nL 28.515625 8.296875 \r\nL 28.515625 63.921875 \r\nL 10.984375 60.40625 \r\nL 10.984375 69.390625 \r\nL 28.421875 72.90625 \r\nL 38.28125 72.90625 \r\nL 38.28125 8.296875 \r\nL 54.390625 8.296875 \r\nL 54.390625 0 \r\nL 12.40625 0 \r\nz\r\n\" id=\"DejaVuSans-49\"/>\r\n       </defs>\r\n       <use xlink:href=\"#DejaVuSans-49\"/>\r\n       <use x=\"63.623047\" xlink:href=\"#DejaVuSans-48\"/>\r\n       <use x=\"127.246094\" xlink:href=\"#DejaVuSans-48\"/>\r\n       <use x=\"190.869141\" xlink:href=\"#DejaVuSans-48\"/>\r\n      </g>\r\n     </g>\r\n    </g>\r\n    <g id=\"xtick_7\">\r\n     <g id=\"line2d_7\">\r\n      <g>\r\n       <use style=\"stroke:#000000;stroke-width:0.8;\" x=\"297.354339\" xlink:href=\"#m9c482cf7e8\" y=\"224.64\"/>\r\n      </g>\r\n     </g>\r\n     <g id=\"text_7\">\r\n      <!-- 1200 -->\r\n      <g transform=\"translate(284.629339 239.238437)scale(0.1 -0.1)\">\r\n       <use xlink:href=\"#DejaVuSans-49\"/>\r\n       <use x=\"63.623047\" xlink:href=\"#DejaVuSans-50\"/>\r\n       <use x=\"127.246094\" xlink:href=\"#DejaVuSans-48\"/>\r\n       <use x=\"190.869141\" xlink:href=\"#DejaVuSans-48\"/>\r\n      </g>\r\n     </g>\r\n    </g>\r\n    <g id=\"xtick_8\">\r\n     <g id=\"line2d_8\">\r\n      <g>\r\n       <use style=\"stroke:#000000;stroke-width:0.8;\" x=\"337.96323\" xlink:href=\"#m9c482cf7e8\" y=\"224.64\"/>\r\n      </g>\r\n     </g>\r\n     <g id=\"text_8\">\r\n      <!-- 1400 -->\r\n      <g transform=\"translate(325.23823 239.238437)scale(0.1 -0.1)\">\r\n       <use xlink:href=\"#DejaVuSans-49\"/>\r\n       <use x=\"63.623047\" xlink:href=\"#DejaVuSans-52\"/>\r\n       <use x=\"127.246094\" xlink:href=\"#DejaVuSans-48\"/>\r\n       <use x=\"190.869141\" xlink:href=\"#DejaVuSans-48\"/>\r\n      </g>\r\n     </g>\r\n    </g>\r\n   </g>\r\n   <g id=\"matplotlib.axis_2\">\r\n    <g id=\"ytick_1\">\r\n     <g id=\"line2d_9\">\r\n      <defs>\r\n       <path d=\"M 0 0 \r\nL -3.5 0 \r\n\" id=\"ma56d946017\" style=\"stroke:#000000;stroke-width:0.8;\"/>\r\n      </defs>\r\n      <g>\r\n       <use style=\"stroke:#000000;stroke-width:0.8;\" x=\"38.482813\" xlink:href=\"#ma56d946017\" y=\"215.394711\"/>\r\n      </g>\r\n     </g>\r\n     <g id=\"text_9\">\r\n      <!-- −2.0 -->\r\n      <g transform=\"translate(7.2 219.19393)scale(0.1 -0.1)\">\r\n       <defs>\r\n        <path d=\"M 10.59375 35.5 \r\nL 73.1875 35.5 \r\nL 73.1875 27.203125 \r\nL 10.59375 27.203125 \r\nz\r\n\" id=\"DejaVuSans-8722\"/>\r\n        <path d=\"M 10.6875 12.40625 \r\nL 21 12.40625 \r\nL 21 0 \r\nL 10.6875 0 \r\nz\r\n\" id=\"DejaVuSans-46\"/>\r\n       </defs>\r\n       <use xlink:href=\"#DejaVuSans-8722\"/>\r\n       <use x=\"83.789062\" xlink:href=\"#DejaVuSans-50\"/>\r\n       <use x=\"147.412109\" xlink:href=\"#DejaVuSans-46\"/>\r\n       <use x=\"179.199219\" xlink:href=\"#DejaVuSans-48\"/>\r\n      </g>\r\n     </g>\r\n    </g>\r\n    <g id=\"ytick_2\">\r\n     <g id=\"line2d_10\">\r\n      <g>\r\n       <use style=\"stroke:#000000;stroke-width:0.8;\" x=\"38.482813\" xlink:href=\"#ma56d946017\" y=\"190.303922\"/>\r\n      </g>\r\n     </g>\r\n     <g id=\"text_10\">\r\n      <!-- −1.5 -->\r\n      <g transform=\"translate(7.2 194.103141)scale(0.1 -0.1)\">\r\n       <defs>\r\n        <path d=\"M 10.796875 72.90625 \r\nL 49.515625 72.90625 \r\nL 49.515625 64.59375 \r\nL 19.828125 64.59375 \r\nL 19.828125 46.734375 \r\nQ 21.96875 47.46875 24.109375 47.828125 \r\nQ 26.265625 48.1875 28.421875 48.1875 \r\nQ 40.625 48.1875 47.75 41.5 \r\nQ 54.890625 34.8125 54.890625 23.390625 \r\nQ 54.890625 11.625 47.5625 5.09375 \r\nQ 40.234375 -1.421875 26.90625 -1.421875 \r\nQ 22.3125 -1.421875 17.546875 -0.640625 \r\nQ 12.796875 0.140625 7.71875 1.703125 \r\nL 7.71875 11.625 \r\nQ 12.109375 9.234375 16.796875 8.0625 \r\nQ 21.484375 6.890625 26.703125 6.890625 \r\nQ 35.15625 6.890625 40.078125 11.328125 \r\nQ 45.015625 15.765625 45.015625 23.390625 \r\nQ 45.015625 31 40.078125 35.4375 \r\nQ 35.15625 39.890625 26.703125 39.890625 \r\nQ 22.75 39.890625 18.8125 39.015625 \r\nQ 14.890625 38.140625 10.796875 36.28125 \r\nz\r\n\" id=\"DejaVuSans-53\"/>\r\n       </defs>\r\n       <use xlink:href=\"#DejaVuSans-8722\"/>\r\n       <use x=\"83.789062\" xlink:href=\"#DejaVuSans-49\"/>\r\n       <use x=\"147.412109\" xlink:href=\"#DejaVuSans-46\"/>\r\n       <use x=\"179.199219\" xlink:href=\"#DejaVuSans-53\"/>\r\n      </g>\r\n     </g>\r\n    </g>\r\n    <g id=\"ytick_3\">\r\n     <g id=\"line2d_11\">\r\n      <g>\r\n       <use style=\"stroke:#000000;stroke-width:0.8;\" x=\"38.482813\" xlink:href=\"#ma56d946017\" y=\"165.213133\"/>\r\n      </g>\r\n     </g>\r\n     <g id=\"text_11\">\r\n      <!-- −1.0 -->\r\n      <g transform=\"translate(7.2 169.012352)scale(0.1 -0.1)\">\r\n       <use xlink:href=\"#DejaVuSans-8722\"/>\r\n       <use x=\"83.789062\" xlink:href=\"#DejaVuSans-49\"/>\r\n       <use x=\"147.412109\" xlink:href=\"#DejaVuSans-46\"/>\r\n       <use x=\"179.199219\" xlink:href=\"#DejaVuSans-48\"/>\r\n      </g>\r\n     </g>\r\n    </g>\r\n    <g id=\"ytick_4\">\r\n     <g id=\"line2d_12\">\r\n      <g>\r\n       <use style=\"stroke:#000000;stroke-width:0.8;\" x=\"38.482813\" xlink:href=\"#ma56d946017\" y=\"140.122344\"/>\r\n      </g>\r\n     </g>\r\n     <g id=\"text_12\">\r\n      <!-- −0.5 -->\r\n      <g transform=\"translate(7.2 143.921562)scale(0.1 -0.1)\">\r\n       <use xlink:href=\"#DejaVuSans-8722\"/>\r\n       <use x=\"83.789062\" xlink:href=\"#DejaVuSans-48\"/>\r\n       <use x=\"147.412109\" xlink:href=\"#DejaVuSans-46\"/>\r\n       <use x=\"179.199219\" xlink:href=\"#DejaVuSans-53\"/>\r\n      </g>\r\n     </g>\r\n    </g>\r\n    <g id=\"ytick_5\">\r\n     <g id=\"line2d_13\">\r\n      <g>\r\n       <use style=\"stroke:#000000;stroke-width:0.8;\" x=\"38.482813\" xlink:href=\"#ma56d946017\" y=\"115.031554\"/>\r\n      </g>\r\n     </g>\r\n     <g id=\"text_13\">\r\n      <!-- 0.0 -->\r\n      <g transform=\"translate(15.579688 118.830773)scale(0.1 -0.1)\">\r\n       <use xlink:href=\"#DejaVuSans-48\"/>\r\n       <use x=\"63.623047\" xlink:href=\"#DejaVuSans-46\"/>\r\n       <use x=\"95.410156\" xlink:href=\"#DejaVuSans-48\"/>\r\n      </g>\r\n     </g>\r\n    </g>\r\n    <g id=\"ytick_6\">\r\n     <g id=\"line2d_14\">\r\n      <g>\r\n       <use style=\"stroke:#000000;stroke-width:0.8;\" x=\"38.482813\" xlink:href=\"#ma56d946017\" y=\"89.940765\"/>\r\n      </g>\r\n     </g>\r\n     <g id=\"text_14\">\r\n      <!-- 0.5 -->\r\n      <g transform=\"translate(15.579688 93.739984)scale(0.1 -0.1)\">\r\n       <use xlink:href=\"#DejaVuSans-48\"/>\r\n       <use x=\"63.623047\" xlink:href=\"#DejaVuSans-46\"/>\r\n       <use x=\"95.410156\" xlink:href=\"#DejaVuSans-53\"/>\r\n      </g>\r\n     </g>\r\n    </g>\r\n    <g id=\"ytick_7\">\r\n     <g id=\"line2d_15\">\r\n      <g>\r\n       <use style=\"stroke:#000000;stroke-width:0.8;\" x=\"38.482813\" xlink:href=\"#ma56d946017\" y=\"64.849976\"/>\r\n      </g>\r\n     </g>\r\n     <g id=\"text_15\">\r\n      <!-- 1.0 -->\r\n      <g transform=\"translate(15.579688 68.649195)scale(0.1 -0.1)\">\r\n       <use xlink:href=\"#DejaVuSans-49\"/>\r\n       <use x=\"63.623047\" xlink:href=\"#DejaVuSans-46\"/>\r\n       <use x=\"95.410156\" xlink:href=\"#DejaVuSans-48\"/>\r\n      </g>\r\n     </g>\r\n    </g>\r\n    <g id=\"ytick_8\">\r\n     <g id=\"line2d_16\">\r\n      <g>\r\n       <use style=\"stroke:#000000;stroke-width:0.8;\" x=\"38.482813\" xlink:href=\"#ma56d946017\" y=\"39.759187\"/>\r\n      </g>\r\n     </g>\r\n     <g id=\"text_16\">\r\n      <!-- 1.5 -->\r\n      <g transform=\"translate(15.579688 43.558406)scale(0.1 -0.1)\">\r\n       <use xlink:href=\"#DejaVuSans-49\"/>\r\n       <use x=\"63.623047\" xlink:href=\"#DejaVuSans-46\"/>\r\n       <use x=\"95.410156\" xlink:href=\"#DejaVuSans-53\"/>\r\n      </g>\r\n     </g>\r\n    </g>\r\n    <g id=\"ytick_9\">\r\n     <g id=\"line2d_17\">\r\n      <g>\r\n       <use style=\"stroke:#000000;stroke-width:0.8;\" x=\"38.482813\" xlink:href=\"#ma56d946017\" y=\"14.668398\"/>\r\n      </g>\r\n     </g>\r\n     <g id=\"text_17\">\r\n      <!-- 2.0 -->\r\n      <g transform=\"translate(15.579688 18.467616)scale(0.1 -0.1)\">\r\n       <use xlink:href=\"#DejaVuSans-50\"/>\r\n       <use x=\"63.623047\" xlink:href=\"#DejaVuSans-46\"/>\r\n       <use x=\"95.410156\" xlink:href=\"#DejaVuSans-48\"/>\r\n      </g>\r\n     </g>\r\n    </g>\r\n   </g>\r\n   <g id=\"line2d_18\">\r\n    <path clip-path=\"url(#pb054ab7350)\" d=\"M 53.700994 123.66655 \r\nL 54.107083 85.06523 \r\nL 54.310128 76.739016 \r\nL 54.513172 79.26513 \r\nL 54.716217 143.535314 \r\nL 54.919261 76.065995 \r\nL 55.122305 152.326442 \r\nL 55.32535 137.128532 \r\nL 55.528394 93.710254 \r\nL 55.731439 143.732688 \r\nL 55.934483 93.708157 \r\nL 56.137528 122.376431 \r\nL 56.340572 109.209803 \r\nL 56.543617 119.71557 \r\nL 56.746661 143.340622 \r\nL 57.15275 51.768342 \r\nL 57.558839 116.487612 \r\nL 57.761883 49.70929 \r\nL 57.964928 105.68599 \r\nL 58.167972 73.833736 \r\nL 58.371017 79.293553 \r\nL 58.574061 46.403184 \r\nL 58.777106 49.362389 \r\nL 58.98015 125.424749 \r\nL 59.183195 130.813272 \r\nL 59.386239 57.299111 \r\nL 59.589283 46.889469 \r\nL 59.792328 87.402095 \r\nL 59.995372 66.728889 \r\nL 60.198417 128.240751 \r\nL 60.401461 112.385698 \r\nL 60.604506 118.66744 \r\nL 60.80755 72.550899 \r\nL 61.010595 112.298442 \r\nL 61.213639 125.369936 \r\nL 61.619728 61.954284 \r\nL 61.822772 71.218844 \r\nL 62.025817 95.33048 \r\nL 62.228861 44.195195 \r\nL 62.431906 99.456157 \r\nL 62.63495 100.386856 \r\nL 62.837995 69.706462 \r\nL 63.041039 77.293357 \r\nL 63.244084 79.929369 \r\nL 63.447128 108.46967 \r\nL 63.650173 72.889579 \r\nL 63.853217 96.990834 \r\nL 64.056261 83.092596 \r\nL 64.46235 27.410447 \r\nL 64.665395 43.287768 \r\nL 64.868439 79.780243 \r\nL 65.274528 44.695592 \r\nL 65.477573 77.633974 \r\nL 65.680617 82.659301 \r\nL 65.883662 104.868496 \r\nL 66.086706 44.194187 \r\nL 66.28975 33.59683 \r\nL 66.492795 85.662326 \r\nL 66.695839 38.503072 \r\nL 66.898884 55.617353 \r\nL 67.101928 37.90843 \r\nL 67.304973 75.079024 \r\nL 67.508017 41.11322 \r\nL 67.914106 106.853678 \r\nL 68.117151 60.343189 \r\nL 68.320195 69.862323 \r\nL 68.523239 89.959426 \r\nL 68.726284 25.70295 \r\nL 69.132373 111.169461 \r\nL 69.335417 76.703 \r\nL 69.538462 72.429335 \r\nL 69.741506 28.556998 \r\nL 69.944551 34.844402 \r\nL 70.147595 95.023009 \r\nL 70.35064 30.944048 \r\nL 70.553684 90.348318 \r\nL 70.756728 81.012885 \r\nL 70.959773 107.740085 \r\nL 71.162817 110.033349 \r\nL 71.365862 47.414918 \r\nL 71.568906 23.257653 \r\nL 71.771951 66.644955 \r\nL 71.974995 31.628012 \r\nL 72.17804 36.918326 \r\nL 72.381084 50.12969 \r\nL 72.584129 18.937387 \r\nL 72.787173 36.901244 \r\nL 72.990217 90.14205 \r\nL 73.193262 38.872279 \r\nL 73.396306 48.89533 \r\nL 73.802395 111.467012 \r\nL 74.00544 98.069354 \r\nL 74.208484 39.996597 \r\nL 74.411529 95.515977 \r\nL 74.614573 20.769307 \r\nL 75.020662 74.00037 \r\nL 75.223706 65.160406 \r\nL 75.426751 61.634547 \r\nL 75.629795 26.246638 \r\nL 75.83284 107.826165 \r\nL 76.035884 97.303005 \r\nL 76.238929 54.023423 \r\nL 76.441973 101.782017 \r\nL 76.645018 39.039232 \r\nL 76.848062 92.352037 \r\nL 77.254151 123.689233 \r\nL 77.457195 69.383637 \r\nL 77.66024 47.036763 \r\nL 77.863284 103.10534 \r\nL 78.066329 39.230165 \r\nL 78.269373 56.015522 \r\nL 78.472418 126.671856 \r\nL 78.675462 76.125946 \r\nL 78.878507 77.432699 \r\nL 79.081551 114.870133 \r\nL 79.48764 90.818239 \r\nL 79.690684 132.820368 \r\nL 79.893729 123.457657 \r\nL 80.096773 122.884462 \r\nL 80.299818 102.14828 \r\nL 80.502862 66.077541 \r\nL 80.705907 58.537205 \r\nL 80.908951 126.519486 \r\nL 81.111996 68.302872 \r\nL 81.31504 77.363551 \r\nL 81.518084 56.205719 \r\nL 81.721129 49.294613 \r\nL 81.924173 134.96942 \r\nL 82.127218 140.306215 \r\nL 82.330262 69.088401 \r\nL 82.533307 134.031148 \r\nL 82.736351 131.740265 \r\nL 82.939396 63.711296 \r\nL 83.14244 58.969743 \r\nL 83.345485 122.221265 \r\nL 83.548529 70.642627 \r\nL 83.751573 69.952936 \r\nL 83.954618 96.380503 \r\nL 84.157662 101.317084 \r\nL 84.360707 101.333485 \r\nL 84.563751 129.885484 \r\nL 84.766796 99.011777 \r\nL 84.96984 137.677785 \r\nL 85.172885 145.298812 \r\nL 85.578974 94.29886 \r\nL 85.782018 103.768346 \r\nL 85.985062 70.301389 \r\nL 86.188107 103.262084 \r\nL 86.391151 154.960983 \r\nL 86.594196 153.963034 \r\nL 86.79724 161.800614 \r\nL 87.000285 152.949675 \r\nL 87.406374 89.9854 \r\nL 87.609418 85.392953 \r\nL 87.812463 135.936563 \r\nL 88.015507 121.002624 \r\nL 88.218551 96.822763 \r\nL 88.421596 147.683886 \r\nL 88.62464 120.183211 \r\nL 88.827685 163.451224 \r\nL 89.030729 134.045581 \r\nL 89.233774 165.44591 \r\nL 89.436818 137.341691 \r\nL 89.639863 144.855045 \r\nL 89.842907 142.118369 \r\nL 90.248996 173.765768 \r\nL 90.45204 160.648379 \r\nL 90.655085 165.156286 \r\nL 90.858129 116.381688 \r\nL 91.061174 118.986824 \r\nL 91.264218 133.140588 \r\nL 91.467263 183.480404 \r\nL 91.670307 136.649958 \r\nL 91.873352 186.352833 \r\nL 92.076396 193.293298 \r\nL 92.279441 160.529468 \r\nL 92.482485 172.562927 \r\nL 92.888574 105.040477 \r\nL 93.091618 126.74428 \r\nL 93.294663 122.711566 \r\nL 93.497707 105.013308 \r\nL 93.700752 137.516083 \r\nL 93.903796 143.865713 \r\nL 94.106841 142.121738 \r\nL 94.309885 116.295728 \r\nL 94.51293 164.888211 \r\nL 94.715974 124.649529 \r\nL 94.919018 139.626644 \r\nL 95.325107 204.901758 \r\nL 95.528152 185.775998 \r\nL 95.731196 137.143157 \r\nL 95.934241 149.751826 \r\nL 96.137285 180.890234 \r\nL 96.543374 143.078465 \r\nL 96.746419 197.14425 \r\nL 96.949463 166.961773 \r\nL 97.152507 168.962642 \r\nL 97.355552 156.730634 \r\nL 97.558596 159.199914 \r\nL 97.761641 175.049095 \r\nL 97.964685 135.760741 \r\nL 98.16773 205.90073 \r\nL 98.370774 209.399274 \r\nL 98.776863 123.549498 \r\nL 98.979908 185.947153 \r\nL 99.182952 196.752272 \r\nL 99.385996 121.109212 \r\nL 99.589041 197.585457 \r\nL 99.792085 177.030729 \r\nL 99.99513 141.646872 \r\nL 100.198174 188.768434 \r\nL 100.401219 192.009692 \r\nL 100.604263 175.269557 \r\nL 100.807308 136.24087 \r\nL 101.010352 123.896698 \r\nL 101.213397 212.227775 \r\nL 101.416441 198.820087 \r\nL 101.619485 119.185006 \r\nL 101.82253 155.881179 \r\nL 102.025574 159.996571 \r\nL 102.228619 133.630247 \r\nL 102.431663 211.209468 \r\nL 102.634708 213.715787 \r\nL 102.837752 117.885916 \r\nL 103.243841 139.681878 \r\nL 103.446886 198.887535 \r\nL 103.852974 120.030702 \r\nL 104.056019 120.165206 \r\nL 104.259063 212.680447 \r\nL 104.462108 137.811053 \r\nL 104.665152 212.413128 \r\nL 104.868197 113.938114 \r\nL 105.071241 170.545167 \r\nL 105.274286 114.336593 \r\nL 105.47733 174.763744 \r\nL 105.680375 181.858156 \r\nL 105.883419 179.132254 \r\nL 106.086463 137.117748 \r\nL 106.289508 189.967806 \r\nL 106.492552 122.826724 \r\nL 106.695597 149.795489 \r\nL 106.898641 111.227302 \r\nL 107.101686 108.989741 \r\nL 107.30473 188.940174 \r\nL 107.507775 111.052323 \r\nL 107.710819 201.742174 \r\nL 107.913864 203.03525 \r\nL 108.116908 110.505083 \r\nL 108.319952 108.0317 \r\nL 108.522997 189.213433 \r\nL 108.726041 158.944716 \r\nL 108.929086 153.098314 \r\nL 109.13213 115.671506 \r\nL 109.335175 138.302618 \r\nL 109.538219 122.880329 \r\nL 109.741264 151.214133 \r\nL 110.147352 124.614095 \r\nL 110.350397 123.606989 \r\nL 110.553441 196.716675 \r\nL 110.756486 186.079334 \r\nL 110.95953 158.811291 \r\nL 111.162575 188.358371 \r\nL 111.365619 155.241509 \r\nL 111.568664 153.749244 \r\nL 111.771708 99.646645 \r\nL 111.974753 134.237135 \r\nL 112.380841 100.369556 \r\nL 112.78693 187.437338 \r\nL 112.989975 158.094734 \r\nL 113.193019 104.109506 \r\nL 113.396064 94.39026 \r\nL 113.599108 148.696243 \r\nL 113.802153 153.534427 \r\nL 114.005197 89.312388 \r\nL 114.208242 145.91536 \r\nL 114.411286 114.734046 \r\nL 114.817375 168.440807 \r\nL 115.223464 83.661713 \r\nL 115.629553 153.395836 \r\nL 115.832597 104.874947 \r\nL 116.035642 95.258721 \r\nL 116.238686 139.186601 \r\nL 116.644775 100.939721 \r\nL 116.847819 152.288214 \r\nL 117.050864 70.619352 \r\nL 117.253908 121.087433 \r\nL 117.456953 67.050765 \r\nL 117.659997 145.343153 \r\nL 117.863042 114.81309 \r\nL 118.269131 160.34046 \r\nL 118.67522 118.899356 \r\nL 118.878264 115.099312 \r\nL 119.081308 68.40368 \r\nL 119.487397 111.798364 \r\nL 119.690442 55.259504 \r\nL 120.096531 120.083488 \r\nL 120.299575 82.116717 \r\nL 120.50262 100.786233 \r\nL 120.705664 61.142724 \r\nL 120.908709 58.652302 \r\nL 121.111753 110.816697 \r\nL 121.314797 90.310171 \r\nL 121.517842 119.144969 \r\nL 121.923931 44.388471 \r\nL 122.126975 59.517245 \r\nL 122.533064 131.722527 \r\nL 122.736109 43.398489 \r\nL 122.939153 100.450249 \r\nL 123.142198 109.248302 \r\nL 123.345242 106.097851 \r\nL 123.548286 87.840295 \r\nL 123.751331 40.163522 \r\nL 123.954375 36.352754 \r\nL 124.15742 104.852179 \r\nL 124.360464 98.509247 \r\nL 124.563509 81.641169 \r\nL 124.766553 131.422806 \r\nL 124.969598 113.947363 \r\nL 125.172642 36.812165 \r\nL 125.375687 127.081062 \r\nL 125.578731 119.19232 \r\nL 125.98482 54.541989 \r\nL 126.187864 100.30241 \r\nL 126.390909 95.930607 \r\nL 126.593953 95.345879 \r\nL 126.796998 37.808543 \r\nL 127.000042 102.091203 \r\nL 127.406131 23.270465 \r\nL 127.81222 88.779667 \r\nL 128.015264 45.193584 \r\nL 128.218309 25.777331 \r\nL 128.421353 83.541228 \r\nL 128.624398 49.505429 \r\nL 128.827442 112.506587 \r\nL 129.030487 29.828634 \r\nL 129.233531 109.609942 \r\nL 129.63962 64.052499 \r\nL 129.842665 91.689329 \r\nL 130.045709 52.641637 \r\nL 130.248753 61.840645 \r\nL 130.451798 45.205484 \r\nL 130.654842 81.360721 \r\nL 131.060931 34.885464 \r\nL 131.263976 34.811994 \r\nL 131.46702 44.289357 \r\nL 131.670065 61.398732 \r\nL 131.873109 48.054682 \r\nL 132.076154 106.761708 \r\nL 132.482242 28.92629 \r\nL 132.685287 54.21177 \r\nL 132.888331 20.594362 \r\nL 133.091376 88.747461 \r\nL 133.29442 105.371306 \r\nL 133.497465 52.143561 \r\nL 133.700509 105.922925 \r\nL 133.903554 36.587105 \r\nL 134.106598 89.373392 \r\nL 134.512687 33.880947 \r\nL 134.715731 36.339768 \r\nL 134.918776 65.787955 \r\nL 135.12182 17.782496 \r\nL 135.527909 88.112349 \r\nL 135.730954 85.954898 \r\nL 135.933998 41.9082 \r\nL 136.137043 72.927235 \r\nL 136.340087 75.039255 \r\nL 136.543132 115.306859 \r\nL 136.746176 87.036186 \r\nL 136.94922 31.655027 \r\nL 137.355309 43.801955 \r\nL 137.558354 116.790045 \r\nL 137.761398 116.808035 \r\nL 138.370532 29.53809 \r\nL 138.573576 82.717581 \r\nL 138.77662 92.858168 \r\nL 139.182709 31.05612 \r\nL 139.385754 49.272272 \r\nL 139.588798 37.990034 \r\nL 139.791843 106.261714 \r\nL 139.994887 112.531709 \r\nL 140.197932 71.151264 \r\nL 140.400976 56.393577 \r\nL 140.604021 31.181784 \r\nL 140.807065 90.397792 \r\nL 141.010109 93.578388 \r\nL 141.416198 61.008879 \r\nL 141.619243 73.660639 \r\nL 141.822287 58.633986 \r\nL 142.025332 93.774683 \r\nL 142.228376 46.169383 \r\nL 142.431421 115.109224 \r\nL 142.634465 102.551713 \r\nL 142.83751 57.404218 \r\nL 143.040554 102.171938 \r\nL 143.243598 69.622814 \r\nL 143.446643 108.62791 \r\nL 143.649687 119.576151 \r\nL 143.852732 109.025154 \r\nL 144.055776 51.049668 \r\nL 144.461865 119.204543 \r\nL 144.66491 110.459937 \r\nL 144.867954 143.344033 \r\nL 145.070999 68.677071 \r\nL 145.274043 122.801189 \r\nL 145.477087 86.368067 \r\nL 145.680132 144.79119 \r\nL 145.883176 64.499479 \r\nL 146.086221 130.387726 \r\nL 146.289265 149.676006 \r\nL 146.49231 120.886742 \r\nL 146.695354 59.697873 \r\nL 146.898399 126.695292 \r\nL 147.101443 103.49744 \r\nL 147.507532 126.461573 \r\nL 147.710576 63.90955 \r\nL 147.913621 78.787281 \r\nL 148.116665 82.499788 \r\nL 148.31971 107.163053 \r\nL 148.522754 78.178214 \r\nL 148.725799 115.955398 \r\nL 148.928843 116.278963 \r\nL 149.131888 114.413139 \r\nL 149.334932 141.19631 \r\nL 149.537977 73.276353 \r\nL 149.741021 141.01123 \r\nL 149.944065 148.094941 \r\nL 150.14711 144.520635 \r\nL 150.350154 87.952269 \r\nL 150.553199 93.848705 \r\nL 150.959288 171.587983 \r\nL 151.162332 76.033278 \r\nL 151.365377 161.646347 \r\nL 151.568421 90.478661 \r\nL 151.771466 98.4522 \r\nL 151.97451 83.73374 \r\nL 152.177554 101.229791 \r\nL 152.380599 146.556079 \r\nL 152.583643 157.495181 \r\nL 152.786688 143.815568 \r\nL 152.989732 162.283744 \r\nL 153.192777 111.384841 \r\nL 153.395821 101.58168 \r\nL 153.598866 120.577388 \r\nL 153.80191 167.693422 \r\nL 154.004955 183.524006 \r\nL 154.207999 129.922103 \r\nL 154.411043 142.625442 \r\nL 154.614088 169.896089 \r\nL 155.223221 128.991411 \r\nL 155.426266 145.512099 \r\nL 155.62931 96.682872 \r\nL 155.832355 190.349259 \r\nL 156.035399 129.730717 \r\nL 156.238444 105.294062 \r\nL 156.441488 173.614911 \r\nL 156.644532 176.673134 \r\nL 156.847577 122.372429 \r\nL 157.050621 150.796104 \r\nL 157.253666 100.755883 \r\nL 157.45671 141.917431 \r\nL 157.659755 109.059646 \r\nL 157.862799 201.194553 \r\nL 158.065844 187.575919 \r\nL 158.268888 135.046363 \r\nL 158.471933 162.574345 \r\nL 158.674977 121.091925 \r\nL 158.878021 162.550234 \r\nL 159.081066 134.62488 \r\nL 159.28411 149.933165 \r\nL 159.487155 195.275547 \r\nL 159.690199 135.791436 \r\nL 159.893244 137.474367 \r\nL 160.096288 197.257755 \r\nL 160.299333 152.962447 \r\nL 160.502377 176.139163 \r\nL 160.705422 164.225004 \r\nL 160.908466 168.279754 \r\nL 161.11151 200.607997 \r\nL 161.314555 195.659774 \r\nL 161.517599 203.184524 \r\nL 161.720644 192.941099 \r\nL 161.923688 127.041641 \r\nL 162.126733 210.455489 \r\nL 162.532822 133.11681 \r\nL 162.735866 203.702497 \r\nL 162.938911 191.154665 \r\nL 163.141955 141.225048 \r\nL 163.548044 158.11639 \r\nL 163.751088 197.56224 \r\nL 163.954133 135.192598 \r\nL 164.157177 200.867169 \r\nL 164.360222 201.636953 \r\nL 164.563266 135.459247 \r\nL 164.766311 178.26082 \r\nL 165.172399 187.420219 \r\nL 165.375444 182.778993 \r\nL 165.578488 181.197296 \r\nL 165.781533 145.455539 \r\nL 165.984577 191.177131 \r\nL 166.187622 182.565188 \r\nL 166.390666 137.218314 \r\nL 166.593711 123.360088 \r\nL 166.796755 153.366104 \r\nL 166.9998 204.167891 \r\nL 167.202844 160.188572 \r\nL 167.405888 151.343947 \r\nL 167.608933 182.616941 \r\nL 167.811977 130.802406 \r\nL 168.015022 135.158639 \r\nL 168.218066 155.638967 \r\nL 168.421111 198.533102 \r\nL 168.624155 142.785531 \r\nL 168.8272 122.587505 \r\nL 169.030244 186.99828 \r\nL 169.233289 115.515414 \r\nL 169.436333 133.936146 \r\nL 169.639377 180.801148 \r\nL 169.842422 148.613843 \r\nL 170.248511 199.638036 \r\nL 170.451555 126.430543 \r\nL 170.6546 141.828395 \r\nL 170.857644 146.516659 \r\nL 171.060689 193.342426 \r\nL 171.263733 169.19127 \r\nL 171.466778 118.522006 \r\nL 171.669822 189.535646 \r\nL 171.872866 200.522855 \r\nL 172.075911 185.53507 \r\nL 172.278955 178.984074 \r\nL 172.482 124.801834 \r\nL 172.685044 137.743596 \r\nL 172.888089 200.379963 \r\nL 173.091133 199.697946 \r\nL 173.294178 143.835841 \r\nL 173.497222 136.456088 \r\nL 173.700267 186.69762 \r\nL 173.903311 137.273858 \r\nL 174.106355 173.66237 \r\nL 174.512444 155.200601 \r\nL 174.715489 183.775476 \r\nL 174.918533 97.970873 \r\nL 175.121578 96.080982 \r\nL 175.324622 148.318911 \r\nL 175.527667 166.29906 \r\nL 175.730711 95.079397 \r\nL 176.1368 116.865656 \r\nL 176.339844 142.320141 \r\nL 176.542889 146.570178 \r\nL 176.745933 108.658296 \r\nL 176.948978 133.816613 \r\nL 177.152022 118.750704 \r\nL 177.355067 127.298095 \r\nL 177.558111 111.712468 \r\nL 177.761156 172.804411 \r\nL 177.9642 143.402471 \r\nL 178.167245 163.578311 \r\nL 178.370289 155.09576 \r\nL 178.573333 158.267161 \r\nL 178.776378 126.936691 \r\nL 178.979422 174.569801 \r\nL 179.182467 78.748952 \r\nL 179.588556 168.247169 \r\nL 179.7916 104.078965 \r\nL 179.994645 144.551291 \r\nL 180.197689 159.825385 \r\nL 180.400734 86.210061 \r\nL 180.603778 148.678639 \r\nL 181.009867 160.824987 \r\nL 181.212911 92.412463 \r\nL 181.415956 98.764119 \r\nL 181.619 162.702984 \r\nL 181.822045 140.294729 \r\nL 182.025089 90.797518 \r\nL 182.228134 145.252188 \r\nL 182.431178 101.638764 \r\nL 182.634223 137.134283 \r\nL 182.837267 112.447487 \r\nL 183.040311 69.486532 \r\nL 183.243356 125.187575 \r\nL 183.4464 85.727874 \r\nL 183.852489 142.971183 \r\nL 184.055534 115.458221 \r\nL 184.258578 66.255647 \r\nL 184.461623 52.073471 \r\nL 184.664667 63.964884 \r\nL 184.867712 131.553254 \r\nL 185.070756 112.220612 \r\nL 185.2738 62.545684 \r\nL 185.476845 89.452642 \r\nL 185.679889 66.228031 \r\nL 185.882934 65.161239 \r\nL 186.085978 135.189748 \r\nL 186.695112 44.821961 \r\nL 186.898156 48.679689 \r\nL 187.304245 127.54157 \r\nL 187.507289 95.715507 \r\nL 187.710334 81.716999 \r\nL 187.913378 43.930978 \r\nL 188.116423 104.313511 \r\nL 188.319467 102.131857 \r\nL 188.522512 69.419093 \r\nL 188.725556 80.910446 \r\nL 188.928601 111.216361 \r\nL 189.131645 115.624163 \r\nL 189.537734 50.519785 \r\nL 189.740778 49.893939 \r\nL 189.943823 29.458005 \r\nL 190.146867 88.329906 \r\nL 190.349912 86.762783 \r\nL 190.552956 125.30046 \r\nL 190.756001 41.584835 \r\nL 190.959045 59.391315 \r\nL 191.16209 46.444567 \r\nL 191.365134 75.927144 \r\nL 191.568179 30.267664 \r\nL 191.771223 119.177084 \r\nL 191.974267 110.024148 \r\nL 192.177312 83.368386 \r\nL 192.380356 112.095359 \r\nL 192.583401 111.364165 \r\nL 192.786445 62.857762 \r\nL 192.98949 97.644414 \r\nL 193.395579 25.28123 \r\nL 193.598623 35.51104 \r\nL 193.801667 92.923737 \r\nL 194.004712 108.535617 \r\nL 194.207756 21.866703 \r\nL 194.410801 17.136008 \r\nL 194.613845 79.096314 \r\nL 194.81689 70.201238 \r\nL 195.019934 101.624085 \r\nL 195.222979 44.727812 \r\nL 195.426023 73.480497 \r\nL 195.629068 35.056924 \r\nL 195.832112 57.563572 \r\nL 196.035156 111.081691 \r\nL 196.238201 81.651166 \r\nL 196.441245 34.027625 \r\nL 196.847334 51.583307 \r\nL 197.050379 47.54426 \r\nL 197.253423 54.308345 \r\nL 197.456468 50.699374 \r\nL 197.659512 52.81016 \r\nL 197.862557 61.594068 \r\nL 198.065601 39.153718 \r\nL 198.268645 78.213207 \r\nL 198.47169 67.713228 \r\nL 198.674734 75.251824 \r\nL 198.877779 94.698333 \r\nL 199.080823 83.562161 \r\nL 199.283868 110.5388 \r\nL 199.486912 83.601299 \r\nL 199.689957 77.303697 \r\nL 199.893001 107.382579 \r\nL 200.096046 94.899764 \r\nL 200.29909 92.270248 \r\nL 200.502134 94.794285 \r\nL 200.705179 82.802461 \r\nL 200.908223 103.7584 \r\nL 201.111268 45.24841 \r\nL 201.517357 107.170081 \r\nL 201.720401 60.296455 \r\nL 201.923446 102.281042 \r\nL 202.12649 114.94144 \r\nL 202.329535 104.854475 \r\nL 202.735623 52.642474 \r\nL 202.938668 58.389168 \r\nL 203.141712 122.793708 \r\nL 203.344757 44.259775 \r\nL 203.547801 90.76351 \r\nL 203.750846 56.829352 \r\nL 203.95389 122.378217 \r\nL 204.156935 86.761026 \r\nL 204.359979 124.955713 \r\nL 204.563024 45.649214 \r\nL 204.766068 109.487009 \r\nL 204.969112 61.238048 \r\nL 205.172157 101.831261 \r\nL 205.375201 116.76915 \r\nL 205.578246 37.714901 \r\nL 205.78129 72.106244 \r\nL 205.984335 43.194119 \r\nL 206.187379 102.578301 \r\nL 206.390424 50.846358 \r\nL 206.593468 40.41514 \r\nL 206.796513 96.069669 \r\nL 206.999557 45.808126 \r\nL 207.202601 103.748781 \r\nL 207.405646 105.641768 \r\nL 207.60869 39.136176 \r\nL 207.811735 44.34599 \r\nL 208.014779 117.86002 \r\nL 208.217824 57.662374 \r\nL 208.420868 108.207602 \r\nL 208.623913 45.197996 \r\nL 208.826957 59.096464 \r\nL 209.030002 54.483507 \r\nL 209.43609 117.640069 \r\nL 209.639135 128.277792 \r\nL 209.842179 96.069975 \r\nL 210.045224 82.606737 \r\nL 210.248268 76.513318 \r\nL 210.451313 134.826463 \r\nL 210.654357 99.113656 \r\nL 210.857402 110.103041 \r\nL 211.060446 133.95423 \r\nL 211.263491 100.339238 \r\nL 211.466535 129.132474 \r\nL 211.669579 104.115401 \r\nL 211.872624 138.725639 \r\nL 212.075668 69.484811 \r\nL 212.278713 126.871621 \r\nL 212.481757 100.550146 \r\nL 212.684802 150.569604 \r\nL 212.887846 100.579561 \r\nL 213.090891 137.5107 \r\nL 213.293935 69.81661 \r\nL 213.49698 127.261945 \r\nL 213.700024 106.862 \r\nL 213.903068 147.165213 \r\nL 214.106113 83.364692 \r\nL 214.309157 90.098168 \r\nL 214.512202 147.166974 \r\nL 214.715246 81.377513 \r\nL 214.918291 169.773601 \r\nL 215.121335 99.260104 \r\nL 215.32438 129.820762 \r\nL 215.527424 92.903554 \r\nL 215.933513 172.114587 \r\nL 216.136557 156.923751 \r\nL 216.339602 80.820162 \r\nL 216.542646 148.031662 \r\nL 216.745691 166.427523 \r\nL 216.948735 102.579093 \r\nL 217.15178 179.862729 \r\nL 217.354824 178.64468 \r\nL 217.557869 156.365302 \r\nL 217.760913 182.375065 \r\nL 217.963958 88.09789 \r\nL 218.370046 137.652451 \r\nL 218.573091 109.860685 \r\nL 218.776135 125.040215 \r\nL 218.97918 174.989295 \r\nL 219.182224 171.173935 \r\nL 219.385269 106.959702 \r\nL 219.588313 161.041368 \r\nL 219.791358 150.737046 \r\nL 219.994402 157.199622 \r\nL 220.197446 192.012457 \r\nL 220.400491 127.287379 \r\nL 220.603535 144.550256 \r\nL 220.80658 131.634001 \r\nL 221.009624 172.29542 \r\nL 221.212669 160.09248 \r\nL 221.415713 182.294464 \r\nL 222.024847 108.822217 \r\nL 222.430935 152.187635 \r\nL 222.63398 163.712777 \r\nL 222.837024 195.497674 \r\nL 223.040069 158.784209 \r\nL 223.243113 191.655091 \r\nL 223.446158 149.332619 \r\nL 223.852247 113.799277 \r\nL 224.055291 179.488328 \r\nL 224.258336 169.917955 \r\nL 224.46138 191.844426 \r\nL 224.664424 122.528596 \r\nL 225.070513 133.68021 \r\nL 225.273558 206.088233 \r\nL 225.476602 156.325683 \r\nL 225.679647 188.956069 \r\nL 225.882691 200.854824 \r\nL 226.085736 134.726626 \r\nL 226.28878 192.222602 \r\nL 226.491825 163.461029 \r\nL 226.694869 161.170474 \r\nL 226.897913 192.793098 \r\nL 227.100958 165.001864 \r\nL 227.304002 209.293896 \r\nL 227.507047 214.756364 \r\nL 227.710091 126.560494 \r\nL 227.913136 173.331456 \r\nL 228.11618 124.078673 \r\nL 228.319225 165.428178 \r\nL 228.522269 172.040716 \r\nL 228.725314 185.658345 \r\nL 228.928358 207.187322 \r\nL 229.537491 138.796398 \r\nL 229.740536 161.021684 \r\nL 229.94358 139.128253 \r\nL 230.146625 199.305312 \r\nL 230.552714 126.314164 \r\nL 230.755758 192.868627 \r\nL 230.958803 191.723207 \r\nL 231.161847 139.266967 \r\nL 231.364891 132.671003 \r\nL 231.567936 189.04686 \r\nL 231.77098 180.414676 \r\nL 231.974025 150.016801 \r\nL 232.177069 173.14713 \r\nL 232.380114 150.199937 \r\nL 232.583158 162.67797 \r\nL 232.786203 134.509861 \r\nL 232.989247 126.895811 \r\nL 233.192292 124.712727 \r\nL 233.395336 149.633373 \r\nL 233.59838 149.107577 \r\nL 233.801425 165.022811 \r\nL 234.004469 206.923727 \r\nL 234.207514 179.195064 \r\nL 234.410558 202.337803 \r\nL 234.816647 122.439614 \r\nL 235.019692 147.25707 \r\nL 235.222736 138.796014 \r\nL 235.425781 187.149567 \r\nL 235.628825 179.135915 \r\nL 235.831869 188.445538 \r\nL 236.034914 119.618885 \r\nL 236.237958 175.420893 \r\nL 236.441003 146.462015 \r\nL 236.644047 188.064538 \r\nL 236.847092 189.099719 \r\nL 237.050136 165.959529 \r\nL 237.253181 166.97501 \r\nL 237.456225 166.397784 \r\nL 237.65927 138.349583 \r\nL 237.862314 166.192508 \r\nL 238.065358 119.985625 \r\nL 238.268403 187.257715 \r\nL 238.674492 127.597002 \r\nL 238.877536 133.430088 \r\nL 239.080581 181.118723 \r\nL 239.283625 148.16701 \r\nL 239.48667 160.38896 \r\nL 239.689714 127.145853 \r\nL 239.892759 176.656995 \r\nL 240.095803 121.510105 \r\nL 240.501892 159.431495 \r\nL 240.704936 111.096271 \r\nL 240.907981 166.336312 \r\nL 241.111025 168.991894 \r\nL 241.31407 181.797617 \r\nL 241.517114 95.956528 \r\nL 241.720159 132.03768 \r\nL 241.923203 128.641023 \r\nL 242.126248 168.023373 \r\nL 242.329292 167.759906 \r\nL 242.938425 105.310435 \r\nL 243.14147 124.560137 \r\nL 243.344514 90.223177 \r\nL 243.750603 168.877282 \r\nL 243.953648 127.929843 \r\nL 244.156692 161.170053 \r\nL 244.359737 136.378346 \r\nL 244.562781 68.825676 \r\nL 244.765825 80.6493 \r\nL 244.96887 141.961215 \r\nL 245.171914 126.956266 \r\nL 245.374959 120.412543 \r\nL 245.578003 86.018601 \r\nL 245.781048 158.323198 \r\nL 245.984092 156.804388 \r\nL 246.187137 147.927816 \r\nL 246.390181 95.625112 \r\nL 246.593226 116.086851 \r\nL 246.79627 71.500477 \r\nL 246.999314 127.205066 \r\nL 247.405403 82.815918 \r\nL 248.014537 135.532572 \r\nL 248.217581 95.626922 \r\nL 248.420626 134.663786 \r\nL 248.62367 53.713487 \r\nL 249.029759 128.559017 \r\nL 249.232803 72.863891 \r\nL 249.435848 133.881321 \r\nL 249.638892 65.921105 \r\nL 250.044981 128.26235 \r\nL 250.248026 136.961565 \r\nL 250.45107 40.126896 \r\nL 250.654115 111.428399 \r\nL 250.857159 42.544108 \r\nL 251.060203 86.909665 \r\nL 251.263248 85.963265 \r\nL 251.466292 126.490871 \r\nL 251.669337 39.410349 \r\nL 252.075426 81.192345 \r\nL 252.27847 120.416803 \r\nL 252.481515 114.100504 \r\nL 252.684559 87.617517 \r\nL 252.887604 93.906534 \r\nL 253.090648 73.534311 \r\nL 253.293692 121.189775 \r\nL 253.496737 124.118282 \r\nL 253.699781 76.202073 \r\nL 253.902826 123.983046 \r\nL 254.10587 120.227602 \r\nL 254.308915 87.810099 \r\nL 254.511959 118.772918 \r\nL 254.715004 85.694752 \r\nL 254.918048 99.543627 \r\nL 255.121093 104.402587 \r\nL 255.324137 82.090981 \r\nL 255.527181 110.147114 \r\nL 255.730226 86.582472 \r\nL 255.93327 77.537842 \r\nL 256.136315 37.408777 \r\nL 256.339359 26.636281 \r\nL 256.542404 88.87298 \r\nL 256.745448 90.029619 \r\nL 256.948493 62.142162 \r\nL 257.151537 104.826489 \r\nL 257.354582 83.156364 \r\nL 257.557626 112.56915 \r\nL 257.76067 79.540089 \r\nL 257.963715 105.821477 \r\nL 258.166759 60.605425 \r\nL 258.369804 52.330333 \r\nL 258.572848 17.406442 \r\nL 258.775893 96.660187 \r\nL 258.978937 95.239898 \r\nL 259.181982 20.759457 \r\nL 259.385026 28.897245 \r\nL 259.588071 53.695872 \r\nL 259.791115 30.948261 \r\nL 259.994159 94.238656 \r\nL 260.197204 27.473174 \r\nL 260.400248 28.077198 \r\nL 260.603293 90.171076 \r\nL 260.806337 64.019996 \r\nL 261.009382 21.716477 \r\nL 261.212426 46.879602 \r\nL 261.415471 48.779208 \r\nL 261.618515 58.941055 \r\nL 261.82156 88.209856 \r\nL 262.024604 17.083636 \r\nL 262.227648 70.476835 \r\nL 262.430693 84.261953 \r\nL 262.633737 42.547036 \r\nL 262.836782 54.847968 \r\nL 263.039826 81.679918 \r\nL 263.242871 85.747721 \r\nL 263.64896 108.836471 \r\nL 263.852004 54.18265 \r\nL 264.055049 66.514609 \r\nL 264.461137 112.365852 \r\nL 264.664182 116.345158 \r\nL 264.867226 44.486939 \r\nL 265.070271 100.092273 \r\nL 265.273315 92.624488 \r\nL 265.47636 118.387396 \r\nL 265.679404 105.121349 \r\nL 265.882449 32.932035 \r\nL 266.085493 96.872193 \r\nL 266.288538 25.91356 \r\nL 266.491582 105.668505 \r\nL 266.694626 97.269028 \r\nL 266.897671 36.142321 \r\nL 267.100715 80.970751 \r\nL 267.30376 97.481001 \r\nL 267.506804 55.419172 \r\nL 267.709849 120.417796 \r\nL 267.912893 36.798247 \r\nL 268.115938 42.358986 \r\nL 268.318982 118.86382 \r\nL 268.522027 47.9918 \r\nL 268.725071 32.361443 \r\nL 268.928115 80.14028 \r\nL 269.334204 62.738727 \r\nL 269.537249 104.936076 \r\nL 269.740293 67.257342 \r\nL 269.943338 85.567059 \r\nL 270.146382 93.304463 \r\nL 270.349427 44.190045 \r\nL 270.552471 55.522291 \r\nL 270.755516 42.618344 \r\nL 270.95856 53.277165 \r\nL 271.161604 133.888794 \r\nL 271.364649 78.061538 \r\nL 271.567693 69.777919 \r\nL 271.770738 73.938146 \r\nL 271.973782 114.251137 \r\nL 272.176827 99.717606 \r\nL 272.379871 139.416903 \r\nL 272.582916 134.797938 \r\nL 272.78596 88.902697 \r\nL 272.989005 87.628698 \r\nL 273.192049 126.816968 \r\nL 273.395093 102.968808 \r\nL 273.598138 101.518462 \r\nL 273.801182 148.712134 \r\nL 274.004227 136.504542 \r\nL 274.410316 53.099614 \r\nL 274.816405 142.630598 \r\nL 275.019449 73.23696 \r\nL 275.425538 149.256689 \r\nL 275.628582 98.450452 \r\nL 275.831627 136.759573 \r\nL 276.034671 118.815952 \r\nL 276.237716 129.700781 \r\nL 276.44076 98.128684 \r\nL 276.846849 154.21772 \r\nL 277.049894 144.011425 \r\nL 277.455982 88.458579 \r\nL 277.659027 167.687612 \r\nL 277.862071 108.200838 \r\nL 278.065116 159.03443 \r\nL 278.471205 88.670523 \r\nL 278.674249 150.714886 \r\nL 279.080338 97.931207 \r\nL 279.283383 158.975768 \r\nL 279.486427 162.260882 \r\nL 279.689471 87.709319 \r\nL 279.892516 109.790496 \r\nL 280.09556 106.541729 \r\nL 280.298605 96.71623 \r\nL 280.501649 128.227658 \r\nL 280.704694 134.2879 \r\nL 280.907738 128.410522 \r\nL 281.110783 113.200918 \r\nL 281.516872 177.437091 \r\nL 281.719916 174.279348 \r\nL 281.92296 91.035037 \r\nL 282.126005 184.469771 \r\nL 282.329049 119.111484 \r\nL 282.532094 96.682391 \r\nL 282.735138 179.271282 \r\nL 282.938183 120.595563 \r\nL 283.141227 163.557766 \r\nL 283.344272 170.948197 \r\nL 283.547316 109.964541 \r\nL 283.750361 105.064385 \r\nL 283.953405 162.280015 \r\nL 284.156449 134.384945 \r\nL 284.359494 180.977075 \r\nL 284.562538 120.113896 \r\nL 284.765583 111.660879 \r\nL 284.968627 168.836227 \r\nL 285.374716 114.244725 \r\nL 285.577761 201.332431 \r\nL 285.780805 117.646882 \r\nL 286.186894 163.244385 \r\nL 286.389938 152.953827 \r\nL 286.592983 123.292589 \r\nL 286.796027 134.099389 \r\nL 286.999072 156.826061 \r\nL 287.202116 158.735482 \r\nL 287.405161 117.951705 \r\nL 287.608205 185.394495 \r\nL 287.81125 199.599812 \r\nL 288.014294 141.568521 \r\nL 288.217339 139.658864 \r\nL 288.420383 153.528327 \r\nL 288.623427 184.644497 \r\nL 288.826472 181.69255 \r\nL 289.029516 149.850294 \r\nL 289.232561 184.748482 \r\nL 289.435605 162.345851 \r\nL 289.63865 179.488443 \r\nL 289.841694 161.895306 \r\nL 290.044739 190.393664 \r\nL 290.247783 193.80495 \r\nL 290.450828 140.266724 \r\nL 290.653872 175.450982 \r\nL 290.856916 191.033861 \r\nL 291.059961 128.412615 \r\nL 291.46605 203.260926 \r\nL 291.669094 143.960131 \r\nL 291.872139 187.035302 \r\nL 292.075183 158.496826 \r\nL 292.278228 152.702662 \r\nL 292.481272 118.743571 \r\nL 292.684317 196.203109 \r\nL 292.887361 186.874212 \r\nL 293.090405 121.826007 \r\nL 293.496494 170.213892 \r\nL 293.699539 141.497743 \r\nL 293.902583 173.665026 \r\nL 294.105628 173.891362 \r\nL 294.308672 199.21878 \r\nL 294.511717 162.374802 \r\nL 294.714761 188.239512 \r\nL 294.917806 150.82428 \r\nL 295.12085 174.201039 \r\nL 295.323894 128.297375 \r\nL 295.526939 136.316721 \r\nL 295.729983 198.620246 \r\nL 295.933028 153.858322 \r\nL 296.136072 141.244614 \r\nL 296.339117 160.923594 \r\nL 296.542161 200.776096 \r\nL 296.745206 161.343606 \r\nL 296.94825 168.024237 \r\nL 297.151295 178.379344 \r\nL 297.354339 152.191376 \r\nL 297.557383 177.616492 \r\nL 297.760428 186.12771 \r\nL 297.963472 135.440944 \r\nL 298.166517 187.395492 \r\nL 298.369561 127.483134 \r\nL 298.572606 109.509804 \r\nL 298.77565 162.957445 \r\nL 298.978695 125.150542 \r\nL 299.181739 189.213552 \r\nL 299.384784 125.501877 \r\nL 299.587828 108.319712 \r\nL 299.993917 177.992076 \r\nL 300.196961 186.863182 \r\nL 300.400006 110.340828 \r\nL 300.60305 169.078592 \r\nL 300.806095 151.075604 \r\nL 301.009139 156.744363 \r\nL 301.212184 155.83976 \r\nL 301.618273 104.171936 \r\nL 301.821317 133.352828 \r\nL 302.024361 100.421481 \r\nL 302.227406 176.578108 \r\nL 302.43045 138.289862 \r\nL 302.633495 125.273523 \r\nL 303.039584 116.549194 \r\nL 303.242628 158.123581 \r\nL 303.445673 102.160353 \r\nL 303.648717 176.612213 \r\nL 304.25785 127.749375 \r\nL 304.460895 156.621673 \r\nL 304.663939 94.229814 \r\nL 305.070028 173.417576 \r\nL 305.273073 100.34682 \r\nL 305.476117 84.708198 \r\nL 305.679162 145.893865 \r\nL 305.882206 124.028647 \r\nL 306.08525 120.211856 \r\nL 306.288295 97.308284 \r\nL 306.491339 161.54833 \r\nL 306.694384 91.377564 \r\nL 306.897428 102.402411 \r\nL 307.100473 170.333823 \r\nL 307.303517 115.950764 \r\nL 307.506562 169.041195 \r\nL 307.709606 121.034408 \r\nL 307.912651 109.701373 \r\nL 308.115695 105.141653 \r\nL 308.318739 74.834075 \r\nL 308.521784 137.042266 \r\nL 308.724828 81.089195 \r\nL 308.927873 119.462531 \r\nL 309.333962 81.754743 \r\nL 309.537006 89.173469 \r\nL 309.740051 81.000954 \r\nL 309.943095 96.003089 \r\nL 310.349184 66.618672 \r\nL 310.552228 66.088573 \r\nL 310.755273 122.963118 \r\nL 310.958317 57.336601 \r\nL 311.161362 148.119199 \r\nL 311.364406 91.067221 \r\nL 311.567451 102.258454 \r\nL 311.770495 127.864162 \r\nL 311.97354 96.326721 \r\nL 312.176584 142.462922 \r\nL 312.582673 61.438169 \r\nL 312.785717 132.113543 \r\nL 312.988762 112.683148 \r\nL 313.191806 81.077489 \r\nL 313.394851 107.449212 \r\nL 313.597895 100.958299 \r\nL 313.80094 107.749844 \r\nL 314.003984 92.3935 \r\nL 314.207029 102.50833 \r\nL 314.410073 124.624017 \r\nL 314.613118 118.295978 \r\nL 314.816162 129.455029 \r\nL 315.222251 50.912774 \r\nL 315.425295 125.865554 \r\nL 315.62834 68.047244 \r\nL 315.831384 91.201981 \r\nL 316.034429 45.152978 \r\nL 316.237473 95.387899 \r\nL 316.440518 61.411672 \r\nL 316.643562 90.322691 \r\nL 316.846607 75.271782 \r\nL 317.252695 31.138354 \r\nL 317.45574 114.065895 \r\nL 317.658784 73.844895 \r\nL 317.861829 113.030275 \r\nL 318.064873 122.617715 \r\nL 318.267918 50.002282 \r\nL 318.470962 25.790614 \r\nL 318.877051 116.066096 \r\nL 319.080096 116.595881 \r\nL 319.28314 90.69453 \r\nL 319.486184 83.526348 \r\nL 319.689229 120.871985 \r\nL 319.892273 36.210265 \r\nL 320.095318 73.298751 \r\nL 320.298362 19.954797 \r\nL 320.501407 30.729783 \r\nL 320.704451 68.802766 \r\nL 320.907496 55.74388 \r\nL 321.11054 86.741751 \r\nL 321.313585 87.517936 \r\nL 321.516629 104.56736 \r\nL 321.719673 62.587513 \r\nL 321.922718 108.838428 \r\nL 322.125762 71.915853 \r\nL 322.328807 84.223084 \r\nL 322.531851 36.939684 \r\nL 322.734896 77.784335 \r\nL 322.93794 25.397479 \r\nL 323.140985 96.679229 \r\nL 323.344029 22.155022 \r\nL 323.750118 103.232461 \r\nL 323.953162 64.809173 \r\nL 324.156207 88.243697 \r\nL 324.359251 39.90344 \r\nL 324.562296 49.677983 \r\nL 324.76534 108.735434 \r\nL 325.171429 26.029119 \r\nL 325.374474 74.180718 \r\nL 325.577518 40.545066 \r\nL 325.780563 103.885411 \r\nL 325.983607 28.365 \r\nL 326.186651 65.072433 \r\nL 326.389696 20.543203 \r\nL 326.59274 61.883582 \r\nL 326.998829 18.638205 \r\nL 327.811007 112.952727 \r\nL 328.014052 74.111805 \r\nL 328.217096 76.44747 \r\nL 328.42014 35.580985 \r\nL 328.623185 99.551722 \r\nL 328.826229 44.389816 \r\nL 329.029274 115.550787 \r\nL 329.232318 30.777515 \r\nL 329.841452 94.44263 \r\nL 330.044496 103.069593 \r\nL 330.247541 63.303763 \r\nL 330.450585 81.429656 \r\nL 330.856674 32.689756 \r\nL 331.059718 94.596015 \r\nL 331.262763 59.630888 \r\nL 331.465807 83.03575 \r\nL 331.668852 121.792507 \r\nL 331.871896 64.951258 \r\nL 332.277985 126.658558 \r\nL 332.481029 81.318138 \r\nL 332.684074 120.213566 \r\nL 332.887118 67.079075 \r\nL 333.090163 78.00778 \r\nL 333.293207 81.370236 \r\nL 333.496252 38.310309 \r\nL 333.699296 44.74079 \r\nL 334.105385 76.707267 \r\nL 334.511474 135.468511 \r\nL 334.714518 125.106687 \r\nL 334.917563 105.804962 \r\nL 335.120607 119.054474 \r\nL 335.323652 82.449883 \r\nL 335.526696 86.836801 \r\nL 335.729741 102.284015 \r\nL 335.932785 61.947723 \r\nL 336.338874 75.058316 \r\nL 336.541919 94.560945 \r\nL 336.744963 141.573407 \r\nL 336.948007 103.905893 \r\nL 337.151052 97.702381 \r\nL 337.354096 103.799151 \r\nL 337.557141 149.248751 \r\nL 337.760185 85.175515 \r\nL 338.166274 148.105308 \r\nL 338.572363 62.15064 \r\nL 338.775408 152.567698 \r\nL 338.978452 155.12988 \r\nL 339.181496 98.51087 \r\nL 339.384541 103.99649 \r\nL 339.587585 157.911832 \r\nL 339.79063 150.142022 \r\nL 339.993674 77.543169 \r\nL 340.399763 151.006644 \r\nL 340.602808 148.845189 \r\nL 340.805852 104.13315 \r\nL 341.211941 164.924076 \r\nL 341.414985 104.673171 \r\nL 341.61803 166.259696 \r\nL 342.024119 155.56819 \r\nL 342.227163 158.117242 \r\nL 342.430208 97.055684 \r\nL 342.633252 165.098234 \r\nL 342.836297 160.54304 \r\nL 343.039341 131.57765 \r\nL 343.242386 163.358177 \r\nL 343.44543 103.423553 \r\nL 343.648474 130.40242 \r\nL 343.851519 92.030411 \r\nL 344.054563 177.442796 \r\nL 344.257608 96.385419 \r\nL 344.460652 167.71968 \r\nL 344.663697 91.190635 \r\nL 344.866741 152.293819 \r\nL 345.069786 134.670691 \r\nL 345.27283 184.466343 \r\nL 345.475875 114.566887 \r\nL 345.678919 167.18301 \r\nL 345.881963 97.526053 \r\nL 346.491097 165.92376 \r\nL 346.694141 175.8414 \r\nL 346.897186 113.303744 \r\nL 347.303275 167.613788 \r\nL 347.506319 100.576457 \r\nL 347.912408 138.914723 \r\nL 348.115452 117.979048 \r\nL 348.318497 187.203093 \r\nL 348.521541 132.52936 \r\nL 348.724586 168.173499 \r\nL 349.130675 105.581629 \r\nL 349.536764 146.666498 \r\nL 349.739808 129.246502 \r\nL 350.348941 201.826558 \r\nL 350.551986 138.517634 \r\nL 350.75503 192.735586 \r\nL 351.161119 141.203792 \r\nL 351.364164 119.180099 \r\nL 351.770253 187.752935 \r\nL 352.176342 143.50029 \r\nL 352.379386 191.325117 \r\nL 352.58243 137.849494 \r\nL 352.785475 135.059075 \r\nL 352.988519 159.643909 \r\nL 353.191564 126.243571 \r\nL 353.394608 190.210056 \r\nL 353.800697 123.627492 \r\nL 354.003742 142.970418 \r\nL 354.206786 132.914117 \r\nL 354.409831 191.838425 \r\nL 354.612875 156.856561 \r\nL 354.815919 182.015273 \r\nL 355.018964 148.581156 \r\nL 355.222008 162.416403 \r\nL 355.425053 152.226332 \r\nL 355.628097 153.126341 \r\nL 356.034186 135.109967 \r\nL 356.237231 209.133368 \r\nL 356.440275 120.196772 \r\nL 356.64332 174.601956 \r\nL 356.846364 198.31769 \r\nL 357.049408 122.831371 \r\nL 357.252453 136.635336 \r\nL 357.455497 173.066096 \r\nL 357.658542 154.959742 \r\nL 357.861586 192.362129 \r\nL 358.064631 173.475941 \r\nL 358.064631 173.475941 \r\n\" style=\"fill:none;stroke:#1f77b4;stroke-linecap:square;stroke-width:1.5;\"/>\r\n   </g>\r\n   <g id=\"line2d_19\">\r\n    <path clip-path=\"url(#pb054ab7350)\" d=\"M 53.700994 115.031554 \r\nL 57.761883 95.489927 \r\nL 59.995372 85.874293 \r\nL 61.619728 79.739883 \r\nL 63.041039 75.107009 \r\nL 64.259306 71.754749 \r\nL 65.477573 69.024927 \r\nL 66.492795 67.254158 \r\nL 67.508017 65.960765 \r\nL 68.320195 65.27861 \r\nL 69.132373 64.914703 \r\nL 69.741506 64.852101 \r\nL 70.35064 64.970092 \r\nL 70.959773 65.268249 \r\nL 71.771951 65.944105 \r\nL 72.584129 66.933953 \r\nL 73.599351 68.60298 \r\nL 74.614573 70.735906 \r\nL 75.83284 73.877444 \r\nL 77.254151 78.287025 \r\nL 78.878507 84.201284 \r\nL 80.705907 91.787886 \r\nL 82.939396 102.053627 \r\nL 91.467263 142.465374 \r\nL 93.294663 149.544746 \r\nL 94.919018 154.907631 \r\nL 96.137285 158.267847 \r\nL 97.355552 161.006207 \r\nL 98.370774 162.784449 \r\nL 99.385996 164.085559 \r\nL 100.198174 164.774012 \r\nL 101.010352 165.144284 \r\nL 101.619485 165.211679 \r\nL 102.228619 165.09848 \r\nL 102.837752 164.805094 \r\nL 103.64993 164.13554 \r\nL 104.462108 163.151888 \r\nL 105.47733 161.490397 \r\nL 106.492552 159.364704 \r\nL 107.710819 156.231345 \r\nL 109.13213 151.830469 \r\nL 110.756486 145.924845 \r\nL 112.583886 138.346025 \r\nL 114.817375 128.086668 \r\nL 123.548286 86.828972 \r\nL 125.375687 79.853697 \r\nL 126.796998 75.204048 \r\nL 128.218309 71.333745 \r\nL 129.436576 68.694489 \r\nL 130.451798 67.00288 \r\nL 131.263976 65.99446 \r\nL 132.076154 65.299709 \r\nL 132.888331 64.923073 \r\nL 133.497465 64.850885 \r\nL 134.106598 64.959293 \r\nL 134.715731 65.247907 \r\nL 135.527909 65.911157 \r\nL 136.340087 66.888611 \r\nL 137.355309 68.542563 \r\nL 138.370532 70.661017 \r\nL 139.588798 73.786188 \r\nL 141.010109 78.178349 \r\nL 142.634465 84.075322 \r\nL 144.461865 91.646341 \r\nL 146.695354 101.899288 \r\nL 151.568421 125.748551 \r\nL 154.207999 137.991428 \r\nL 156.238444 146.398586 \r\nL 157.862799 152.238461 \r\nL 159.28411 156.573193 \r\nL 160.502377 159.64448 \r\nL 161.517599 161.715332 \r\nL 162.532822 163.319736 \r\nL 163.344999 164.256483 \r\nL 164.157177 164.878358 \r\nL 164.969355 165.181383 \r\nL 165.578488 165.198164 \r\nL 166.187622 165.034399 \r\nL 166.9998 164.53631 \r\nL 167.811977 163.721559 \r\nL 168.624155 162.595358 \r\nL 169.639377 160.760791 \r\nL 170.6546 158.469313 \r\nL 171.872866 155.148961 \r\nL 173.294178 150.549778 \r\nL 174.918533 144.448409 \r\nL 176.745933 136.694671 \r\nL 179.182467 125.314206 \r\nL 186.492067 90.37526 \r\nL 188.319467 82.948859 \r\nL 189.943823 77.211165 \r\nL 191.365134 72.978796 \r\nL 192.583401 70.003291 \r\nL 193.598623 68.016881 \r\nL 194.613845 66.500226 \r\nL 195.426023 65.635471 \r\nL 196.238201 65.086682 \r\nL 197.050379 64.85737 \r\nL 197.659512 64.896002 \r\nL 198.268645 65.115068 \r\nL 199.080823 65.686375 \r\nL 199.893001 66.573323 \r\nL 200.705179 67.770238 \r\nL 201.720401 69.690425 \r\nL 202.735623 72.063645 \r\nL 203.95389 75.475822 \r\nL 205.375201 80.171837 \r\nL 206.999557 86.367994 \r\nL 209.030002 95.122486 \r\nL 211.669579 107.633587 \r\nL 217.760913 136.950798 \r\nL 219.791358 145.482065 \r\nL 221.415713 151.447824 \r\nL 222.837024 155.909395 \r\nL 224.055291 159.099841 \r\nL 225.273558 161.656464 \r\nL 226.28878 163.275998 \r\nL 227.100958 164.225171 \r\nL 227.913136 164.859672 \r\nL 228.725314 165.175444 \r\nL 229.334447 165.201813 \r\nL 229.94358 165.047625 \r\nL 230.755758 164.562223 \r\nL 231.567936 163.759994 \r\nL 232.380114 162.646069 \r\nL 233.395336 160.826382 \r\nL 234.410558 158.549129 \r\nL 235.628825 155.244782 \r\nL 237.050136 150.662514 \r\nL 238.674492 144.577759 \r\nL 240.501892 136.838743 \r\nL 242.938425 125.470605 \r\nL 250.248026 90.514603 \r\nL 252.075426 83.07193 \r\nL 253.699781 77.316414 \r\nL 255.121093 73.066228 \r\nL 256.339359 70.074076 \r\nL 257.354582 68.073004 \r\nL 258.369804 66.541127 \r\nL 259.181982 65.663893 \r\nL 259.994159 65.102443 \r\nL 260.806337 64.860369 \r\nL 261.415471 64.889412 \r\nL 262.024604 65.098913 \r\nL 262.836782 65.657564 \r\nL 263.64896 66.532039 \r\nL 264.461137 67.716745 \r\nL 265.47636 69.622162 \r\nL 266.491582 71.981294 \r\nL 267.709849 75.377662 \r\nL 269.13116 80.057034 \r\nL 270.755516 86.236938 \r\nL 272.78596 94.975862 \r\nL 275.425538 107.475528 \r\nL 281.516872 136.806898 \r\nL 283.547316 145.354859 \r\nL 285.171672 151.337663 \r\nL 286.592983 155.816475 \r\nL 287.81125 159.023158 \r\nL 289.029516 161.597122 \r\nL 290.044739 163.23177 \r\nL 290.856916 164.193359 \r\nL 291.669094 164.840481 \r\nL 292.481272 165.168995 \r\nL 293.090405 165.204954 \r\nL 293.699539 165.060342 \r\nL 294.511717 164.587633 \r\nL 295.323894 163.797934 \r\nL 296.136072 162.696297 \r\nL 297.151295 160.891509 \r\nL 298.166517 158.628503 \r\nL 299.384784 155.340195 \r\nL 300.806095 150.774889 \r\nL 302.43045 144.706809 \r\nL 304.25785 136.982594 \r\nL 306.694384 125.626899 \r\nL 314.207029 89.781876 \r\nL 316.034429 82.425949 \r\nL 317.658784 76.765168 \r\nL 319.080096 72.609518 \r\nL 320.298362 69.705585 \r\nL 321.313585 67.782134 \r\nL 322.328807 66.330784 \r\nL 323.140985 65.519523 \r\nL 323.953162 65.024971 \r\nL 324.562296 64.863876 \r\nL 325.171429 64.883331 \r\nL 325.780563 65.083265 \r\nL 326.59274 65.629253 \r\nL 327.404918 66.491247 \r\nL 328.217096 67.663733 \r\nL 329.232318 69.554359 \r\nL 330.247541 71.899379 \r\nL 331.465807 75.279905 \r\nL 332.887118 79.942586 \r\nL 334.511474 86.106174 \r\nL 336.541919 94.829441 \r\nL 339.181496 107.317545 \r\nL 345.475875 137.563991 \r\nL 347.506319 146.022853 \r\nL 349.130675 151.914995 \r\nL 350.551986 156.302291 \r\nL 351.770253 159.422893 \r\nL 352.988519 161.905026 \r\nL 354.003742 163.459708 \r\nL 354.815919 164.355645 \r\nL 355.628097 164.936076 \r\nL 356.440275 165.197288 \r\nL 357.049408 165.182628 \r\nL 357.658542 164.987478 \r\nL 358.064631 164.757426 \r\nL 358.064631 164.757426 \r\n\" style=\"fill:none;stroke:#ff7f0e;stroke-linecap:square;stroke-width:1.5;\"/>\r\n   </g>\r\n   <g id=\"patch_3\">\r\n    <path d=\"M 38.482813 224.64 \r\nL 38.482813 7.2 \r\n\" style=\"fill:none;stroke:#000000;stroke-linecap:square;stroke-linejoin:miter;stroke-width:0.8;\"/>\r\n   </g>\r\n   <g id=\"patch_4\">\r\n    <path d=\"M 373.282813 224.64 \r\nL 373.282813 7.2 \r\n\" style=\"fill:none;stroke:#000000;stroke-linecap:square;stroke-linejoin:miter;stroke-width:0.8;\"/>\r\n   </g>\r\n   <g id=\"patch_5\">\r\n    <path d=\"M 38.482813 224.64 \r\nL 373.282812 224.64 \r\n\" style=\"fill:none;stroke:#000000;stroke-linecap:square;stroke-linejoin:miter;stroke-width:0.8;\"/>\r\n   </g>\r\n   <g id=\"patch_6\">\r\n    <path d=\"M 38.482813 7.2 \r\nL 373.282812 7.2 \r\n\" style=\"fill:none;stroke:#000000;stroke-linecap:square;stroke-linejoin:miter;stroke-width:0.8;\"/>\r\n   </g>\r\n  </g>\r\n </g>\r\n <defs>\r\n  <clipPath id=\"pb054ab7350\">\r\n   <rect height=\"217.44\" width=\"334.8\" x=\"38.482813\" y=\"7.2\"/>\r\n  </clipPath>\r\n </defs>\r\n</svg>\r\n",
      "image/png": "[encoded data removed]"
     },
     "metadata": {
      "needs_background": "light"
     }
    }
   ],
   "source": [
    "t=np.arange(0,1500)\n",
    "# x=np.sin(0.02*t)\n",
    "x=np.sin(0.02*t) + np.random.uniform(low=-1,high=1,size=(1500,))\n",
    "plt.plot(x)\n",
    "x_without_noise=np.sin(0.02*t)\n",
    "plt.plot(x_without_noise)"
   ]
  },
  {
   "cell_type": "code",
   "execution_count": 17,
   "metadata": {},
   "outputs": [
    {
     "output_type": "stream",
     "name": "stdout",
     "text": [
      "[[0.46081124]\n [0.57538173]\n [0.65609017]\n ...\n [0.30250314]\n [0.11328945]\n [0.20883216]]\n(1000, 1)\n"
     ]
    }
   ],
   "source": [
    "from sklearn.preprocessing import MinMaxScaler\n",
    "normalizer = MinMaxScaler(feature_range=(0, 1))\n",
    "x = (np.reshape(x, (-1, 1)))\n",
    "x = normalizer.fit_transform(x)\n",
    "\n",
    "print(x)\n",
    "train = x[0:1000]\n",
    "test = x[1000:]\n",
    "\n",
    "print(train.shape)"
   ]
  },
  {
   "cell_type": "code",
   "execution_count": 18,
   "metadata": {},
   "outputs": [
    {
     "output_type": "stream",
     "name": "stdout",
     "text": [
      "[[0.46081124]\n [0.57538173]\n [0.65609017]\n [0.69821138]\n [0.6854321 ]\n [0.36029781]\n [0.7016161 ]\n [0.31582466]\n [0.39270886]\n [0.61235615]]\n"
     ]
    }
   ],
   "source": [
    "def createDataset(data, step):\n",
    "    X, Y =[], []\n",
    "    for i in range(len(data)-step): \n",
    "        X.append(data[i:i+step])\n",
    "        Y.append(data[i+step])\n",
    "    return np.array(X), np.array(Y)\n",
    "    \n",
    "step = 10\n",
    "trainX,trainY = createDataset(train,step)\n",
    "testX,testY = createDataset(test,step)\n",
    "\n",
    "print(trainX[0])\n"
   ]
  },
  {
   "cell_type": "code",
   "execution_count": 20,
   "metadata": {},
   "outputs": [
    {
     "output_type": "stream",
     "name": "stdout",
     "text": [
      "Epoch 1/500\n",
      "62/62 - 3s - loss: 0.1425\n",
      "Epoch 2/500\n",
      "62/62 - 0s - loss: 0.0833\n",
      "Epoch 3/500\n",
      "62/62 - 0s - loss: 0.0576\n",
      "Epoch 4/500\n",
      "62/62 - 0s - loss: 0.0492\n",
      "Epoch 5/500\n",
      "62/62 - 0s - loss: 0.0462\n",
      "Epoch 6/500\n",
      "62/62 - 0s - loss: 0.0440\n",
      "Epoch 7/500\n",
      "62/62 - 0s - loss: 0.0425\n",
      "Epoch 8/500\n",
      "62/62 - 0s - loss: 0.0414\n",
      "Epoch 9/500\n",
      "62/62 - 0s - loss: 0.0405\n",
      "Epoch 10/500\n",
      "62/62 - 0s - loss: 0.0399\n",
      "Epoch 11/500\n",
      "62/62 - 0s - loss: 0.0395\n",
      "Epoch 12/500\n",
      "62/62 - 0s - loss: 0.0390\n",
      "Epoch 13/500\n",
      "62/62 - 0s - loss: 0.0386\n",
      "Epoch 14/500\n",
      "62/62 - 0s - loss: 0.0383\n",
      "Epoch 15/500\n",
      "62/62 - 0s - loss: 0.0380\n",
      "Epoch 16/500\n",
      "62/62 - 0s - loss: 0.0378\n",
      "Epoch 17/500\n",
      "62/62 - 0s - loss: 0.0376\n",
      "Epoch 18/500\n",
      "62/62 - 0s - loss: 0.0373\n",
      "Epoch 19/500\n",
      "62/62 - 0s - loss: 0.0371\n",
      "Epoch 20/500\n",
      "62/62 - 0s - loss: 0.0369\n",
      "Epoch 21/500\n",
      "62/62 - 0s - loss: 0.0368\n",
      "Epoch 22/500\n",
      "62/62 - 0s - loss: 0.0366\n",
      "Epoch 23/500\n",
      "62/62 - 0s - loss: 0.0365\n",
      "Epoch 24/500\n",
      "62/62 - 0s - loss: 0.0363\n",
      "Epoch 25/500\n",
      "62/62 - 0s - loss: 0.0361\n",
      "Epoch 26/500\n",
      "62/62 - 0s - loss: 0.0360\n",
      "Epoch 27/500\n",
      "62/62 - 0s - loss: 0.0358\n",
      "Epoch 28/500\n",
      "62/62 - 0s - loss: 0.0357\n",
      "Epoch 29/500\n",
      "62/62 - 0s - loss: 0.0356\n",
      "Epoch 30/500\n",
      "62/62 - 0s - loss: 0.0354\n",
      "Epoch 31/500\n",
      "62/62 - 0s - loss: 0.0353\n",
      "Epoch 32/500\n",
      "62/62 - 0s - loss: 0.0352\n",
      "Epoch 33/500\n",
      "62/62 - 0s - loss: 0.0351\n",
      "Epoch 34/500\n",
      "62/62 - 0s - loss: 0.0350\n",
      "Epoch 35/500\n",
      "62/62 - 0s - loss: 0.0348\n",
      "Epoch 36/500\n",
      "62/62 - 0s - loss: 0.0347\n",
      "Epoch 37/500\n",
      "62/62 - 0s - loss: 0.0346\n",
      "Epoch 38/500\n",
      "62/62 - 0s - loss: 0.0345\n",
      "Epoch 39/500\n",
      "62/62 - 0s - loss: 0.0344\n",
      "Epoch 40/500\n",
      "62/62 - 0s - loss: 0.0343\n",
      "Epoch 41/500\n",
      "62/62 - 0s - loss: 0.0342\n",
      "Epoch 42/500\n",
      "62/62 - 0s - loss: 0.0341\n",
      "Epoch 43/500\n",
      "62/62 - 0s - loss: 0.0340\n",
      "Epoch 44/500\n",
      "62/62 - 0s - loss: 0.0339\n",
      "Epoch 45/500\n",
      "62/62 - 0s - loss: 0.0338\n",
      "Epoch 46/500\n",
      "62/62 - 0s - loss: 0.0337\n",
      "Epoch 47/500\n",
      "62/62 - 0s - loss: 0.0336\n",
      "Epoch 48/500\n",
      "62/62 - 0s - loss: 0.0334\n",
      "Epoch 49/500\n",
      "62/62 - 0s - loss: 0.0334\n",
      "Epoch 50/500\n",
      "62/62 - 0s - loss: 0.0333\n",
      "Epoch 51/500\n",
      "62/62 - 0s - loss: 0.0331\n",
      "Epoch 52/500\n",
      "62/62 - 0s - loss: 0.0331\n",
      "Epoch 53/500\n",
      "62/62 - 0s - loss: 0.0331\n",
      "Epoch 54/500\n",
      "62/62 - 0s - loss: 0.0329\n",
      "Epoch 55/500\n",
      "62/62 - 0s - loss: 0.0329\n",
      "Epoch 56/500\n",
      "62/62 - 0s - loss: 0.0328\n",
      "Epoch 57/500\n",
      "62/62 - 0s - loss: 0.0327\n",
      "Epoch 58/500\n",
      "62/62 - 0s - loss: 0.0326\n",
      "Epoch 59/500\n",
      "62/62 - 0s - loss: 0.0325\n",
      "Epoch 60/500\n",
      "62/62 - 0s - loss: 0.0324\n",
      "Epoch 61/500\n",
      "62/62 - 0s - loss: 0.0324\n",
      "Epoch 62/500\n",
      "62/62 - 0s - loss: 0.0323\n",
      "Epoch 63/500\n",
      "62/62 - 0s - loss: 0.0322\n",
      "Epoch 64/500\n",
      "62/62 - 0s - loss: 0.0321\n",
      "Epoch 65/500\n",
      "62/62 - 0s - loss: 0.0320\n",
      "Epoch 66/500\n",
      "62/62 - 0s - loss: 0.0319\n",
      "Epoch 67/500\n",
      "62/62 - 0s - loss: 0.0318\n",
      "Epoch 68/500\n",
      "62/62 - 0s - loss: 0.0317\n",
      "Epoch 69/500\n",
      "62/62 - 0s - loss: 0.0317\n",
      "Epoch 70/500\n",
      "62/62 - 0s - loss: 0.0316\n",
      "Epoch 71/500\n",
      "62/62 - 0s - loss: 0.0315\n",
      "Epoch 72/500\n",
      "62/62 - 0s - loss: 0.0314\n",
      "Epoch 73/500\n",
      "62/62 - 0s - loss: 0.0314\n",
      "Epoch 74/500\n",
      "62/62 - 0s - loss: 0.0313\n",
      "Epoch 75/500\n",
      "62/62 - 0s - loss: 0.0312\n",
      "Epoch 76/500\n",
      "62/62 - 0s - loss: 0.0311\n",
      "Epoch 77/500\n",
      "62/62 - 0s - loss: 0.0310\n",
      "Epoch 78/500\n",
      "62/62 - 0s - loss: 0.0309\n",
      "Epoch 79/500\n",
      "62/62 - 0s - loss: 0.0308\n",
      "Epoch 80/500\n",
      "62/62 - 0s - loss: 0.0308\n",
      "Epoch 81/500\n",
      "62/62 - 0s - loss: 0.0307\n",
      "Epoch 82/500\n",
      "62/62 - 0s - loss: 0.0306\n",
      "Epoch 83/500\n",
      "62/62 - 0s - loss: 0.0305\n",
      "Epoch 84/500\n",
      "62/62 - 0s - loss: 0.0304\n",
      "Epoch 85/500\n",
      "62/62 - 0s - loss: 0.0302\n",
      "Epoch 86/500\n",
      "62/62 - 0s - loss: 0.0302\n",
      "Epoch 87/500\n",
      "62/62 - 0s - loss: 0.0302\n",
      "Epoch 88/500\n",
      "62/62 - 0s - loss: 0.0301\n",
      "Epoch 89/500\n",
      "62/62 - 0s - loss: 0.0300\n",
      "Epoch 90/500\n",
      "62/62 - 0s - loss: 0.0297\n",
      "Epoch 91/500\n",
      "62/62 - 0s - loss: 0.0299\n",
      "Epoch 92/500\n",
      "62/62 - 0s - loss: 0.0298\n",
      "Epoch 93/500\n",
      "62/62 - 0s - loss: 0.0297\n",
      "Epoch 94/500\n",
      "62/62 - 0s - loss: 0.0295\n",
      "Epoch 95/500\n",
      "62/62 - 0s - loss: 0.0295\n",
      "Epoch 96/500\n",
      "62/62 - 0s - loss: 0.0294\n",
      "Epoch 97/500\n",
      "62/62 - 0s - loss: 0.0294\n",
      "Epoch 98/500\n",
      "62/62 - 0s - loss: 0.0293\n",
      "Epoch 99/500\n",
      "62/62 - 0s - loss: 0.0292\n",
      "Epoch 100/500\n",
      "62/62 - 0s - loss: 0.0291\n",
      "Epoch 101/500\n",
      "62/62 - 0s - loss: 0.0291\n",
      "Epoch 102/500\n",
      "62/62 - 0s - loss: 0.0290\n",
      "Epoch 103/500\n",
      "62/62 - 0s - loss: 0.0289\n",
      "Epoch 104/500\n",
      "62/62 - 0s - loss: 0.0288\n",
      "Epoch 105/500\n",
      "62/62 - 0s - loss: 0.0287\n",
      "Epoch 106/500\n",
      "62/62 - 0s - loss: 0.0287\n",
      "Epoch 107/500\n",
      "62/62 - 0s - loss: 0.0287\n",
      "Epoch 108/500\n",
      "62/62 - 0s - loss: 0.0286\n",
      "Epoch 109/500\n",
      "62/62 - 0s - loss: 0.0284\n",
      "Epoch 110/500\n",
      "62/62 - 0s - loss: 0.0284\n",
      "Epoch 111/500\n",
      "62/62 - 0s - loss: 0.0283\n",
      "Epoch 112/500\n",
      "62/62 - 0s - loss: 0.0283\n",
      "Epoch 113/500\n",
      "62/62 - 0s - loss: 0.0282\n",
      "Epoch 114/500\n",
      "62/62 - 0s - loss: 0.0281\n",
      "Epoch 115/500\n",
      "62/62 - 0s - loss: 0.0281\n",
      "Epoch 116/500\n",
      "62/62 - 0s - loss: 0.0280\n",
      "Epoch 117/500\n",
      "62/62 - 0s - loss: 0.0279\n",
      "Epoch 118/500\n",
      "62/62 - 0s - loss: 0.0278\n",
      "Epoch 119/500\n",
      "62/62 - 0s - loss: 0.0278\n",
      "Epoch 120/500\n",
      "62/62 - 0s - loss: 0.0277\n",
      "Epoch 121/500\n",
      "62/62 - 0s - loss: 0.0276\n",
      "Epoch 122/500\n",
      "62/62 - 0s - loss: 0.0275\n",
      "Epoch 123/500\n",
      "62/62 - 0s - loss: 0.0275\n",
      "Epoch 124/500\n",
      "62/62 - 0s - loss: 0.0274\n",
      "Epoch 125/500\n",
      "62/62 - 0s - loss: 0.0273\n",
      "Epoch 126/500\n",
      "62/62 - 0s - loss: 0.0273\n",
      "Epoch 127/500\n",
      "62/62 - 0s - loss: 0.0272\n",
      "Epoch 128/500\n",
      "62/62 - 0s - loss: 0.0271\n",
      "Epoch 129/500\n",
      "62/62 - 0s - loss: 0.0270\n",
      "Epoch 130/500\n",
      "62/62 - 0s - loss: 0.0270\n",
      "Epoch 131/500\n",
      "62/62 - 0s - loss: 0.0269\n",
      "Epoch 132/500\n",
      "62/62 - 0s - loss: 0.0268\n",
      "Epoch 133/500\n",
      "62/62 - 0s - loss: 0.0267\n",
      "Epoch 134/500\n",
      "62/62 - 0s - loss: 0.0267\n",
      "Epoch 135/500\n",
      "62/62 - 0s - loss: 0.0266\n",
      "Epoch 136/500\n",
      "62/62 - 0s - loss: 0.0266\n",
      "Epoch 137/500\n",
      "62/62 - 0s - loss: 0.0265\n",
      "Epoch 138/500\n",
      "62/62 - 0s - loss: 0.0264\n",
      "Epoch 139/500\n",
      "62/62 - 0s - loss: 0.0262\n",
      "Epoch 140/500\n",
      "62/62 - 0s - loss: 0.0263\n",
      "Epoch 141/500\n",
      "62/62 - 0s - loss: 0.0262\n",
      "Epoch 142/500\n",
      "62/62 - 0s - loss: 0.0261\n",
      "Epoch 143/500\n",
      "62/62 - 0s - loss: 0.0261\n",
      "Epoch 144/500\n",
      "62/62 - 0s - loss: 0.0261\n",
      "Epoch 145/500\n",
      "62/62 - 0s - loss: 0.0259\n",
      "Epoch 146/500\n",
      "62/62 - 0s - loss: 0.0259\n",
      "Epoch 147/500\n",
      "62/62 - 0s - loss: 0.0258\n",
      "Epoch 148/500\n",
      "62/62 - 0s - loss: 0.0257\n",
      "Epoch 149/500\n",
      "62/62 - 0s - loss: 0.0256\n",
      "Epoch 150/500\n",
      "62/62 - 0s - loss: 0.0257\n",
      "Epoch 151/500\n",
      "62/62 - 0s - loss: 0.0256\n",
      "Epoch 152/500\n",
      "62/62 - 0s - loss: 0.0256\n",
      "Epoch 153/500\n",
      "62/62 - 0s - loss: 0.0255\n",
      "Epoch 154/500\n",
      "62/62 - 0s - loss: 0.0254\n",
      "Epoch 155/500\n",
      "62/62 - 0s - loss: 0.0253\n",
      "Epoch 156/500\n",
      "62/62 - 0s - loss: 0.0253\n",
      "Epoch 157/500\n",
      "62/62 - 0s - loss: 0.0252\n",
      "Epoch 158/500\n",
      "62/62 - 0s - loss: 0.0252\n",
      "Epoch 159/500\n",
      "62/62 - 0s - loss: 0.0252\n",
      "Epoch 160/500\n",
      "62/62 - 0s - loss: 0.0250\n",
      "Epoch 161/500\n",
      "62/62 - 0s - loss: 0.0250\n",
      "Epoch 162/500\n",
      "62/62 - 0s - loss: 0.0249\n",
      "Epoch 163/500\n",
      "62/62 - 0s - loss: 0.0248\n",
      "Epoch 164/500\n",
      "62/62 - 0s - loss: 0.0247\n",
      "Epoch 165/500\n",
      "62/62 - 0s - loss: 0.0248\n",
      "Epoch 166/500\n",
      "62/62 - 0s - loss: 0.0247\n",
      "Epoch 167/500\n",
      "62/62 - 0s - loss: 0.0246\n",
      "Epoch 168/500\n",
      "62/62 - 0s - loss: 0.0246\n",
      "Epoch 169/500\n",
      "62/62 - 0s - loss: 0.0245\n",
      "Epoch 170/500\n",
      "62/62 - 0s - loss: 0.0245\n",
      "Epoch 171/500\n",
      "62/62 - 0s - loss: 0.0243\n",
      "Epoch 172/500\n",
      "62/62 - 0s - loss: 0.0243\n",
      "Epoch 173/500\n",
      "62/62 - 0s - loss: 0.0243\n",
      "Epoch 174/500\n",
      "62/62 - 0s - loss: 0.0243\n",
      "Epoch 175/500\n",
      "62/62 - 0s - loss: 0.0243\n",
      "Epoch 176/500\n",
      "62/62 - 0s - loss: 0.0242\n",
      "Epoch 177/500\n",
      "62/62 - 0s - loss: 0.0242\n",
      "Epoch 178/500\n",
      "62/62 - 0s - loss: 0.0241\n",
      "Epoch 179/500\n",
      "62/62 - 0s - loss: 0.0240\n",
      "Epoch 180/500\n",
      "62/62 - 0s - loss: 0.0240\n",
      "Epoch 181/500\n",
      "62/62 - 0s - loss: 0.0240\n",
      "Epoch 182/500\n",
      "62/62 - 0s - loss: 0.0239\n",
      "Epoch 183/500\n",
      "62/62 - 0s - loss: 0.0239\n",
      "Epoch 184/500\n",
      "62/62 - 0s - loss: 0.0239\n",
      "Epoch 185/500\n",
      "62/62 - 0s - loss: 0.0239\n",
      "Epoch 186/500\n",
      "62/62 - 0s - loss: 0.0237\n",
      "Epoch 187/500\n",
      "62/62 - 0s - loss: 0.0238\n",
      "Epoch 188/500\n",
      "62/62 - 0s - loss: 0.0238\n",
      "Epoch 189/500\n",
      "62/62 - 0s - loss: 0.0236\n",
      "Epoch 190/500\n",
      "62/62 - 0s - loss: 0.0236\n",
      "Epoch 191/500\n",
      "62/62 - 0s - loss: 0.0237\n",
      "Epoch 192/500\n",
      "62/62 - 0s - loss: 0.0237\n",
      "Epoch 193/500\n",
      "62/62 - 0s - loss: 0.0236\n",
      "Epoch 194/500\n",
      "62/62 - 0s - loss: 0.0236\n",
      "Epoch 195/500\n",
      "62/62 - 0s - loss: 0.0235\n",
      "Epoch 196/500\n",
      "62/62 - 0s - loss: 0.0236\n",
      "Epoch 197/500\n",
      "62/62 - 0s - loss: 0.0236\n",
      "Epoch 198/500\n",
      "62/62 - 0s - loss: 0.0235\n",
      "Epoch 199/500\n",
      "62/62 - 0s - loss: 0.0235\n",
      "Epoch 200/500\n",
      "62/62 - 0s - loss: 0.0235\n",
      "Epoch 201/500\n",
      "62/62 - 0s - loss: 0.0235\n",
      "Epoch 202/500\n",
      "62/62 - 0s - loss: 0.0235\n",
      "Epoch 203/500\n",
      "62/62 - 0s - loss: 0.0234\n",
      "Epoch 204/500\n",
      "62/62 - 0s - loss: 0.0235\n",
      "Epoch 205/500\n",
      "62/62 - 0s - loss: 0.0234\n",
      "Epoch 206/500\n",
      "62/62 - 0s - loss: 0.0235\n",
      "Epoch 207/500\n",
      "62/62 - 0s - loss: 0.0234\n",
      "Epoch 208/500\n",
      "62/62 - 0s - loss: 0.0234\n",
      "Epoch 209/500\n",
      "62/62 - 0s - loss: 0.0234\n",
      "Epoch 210/500\n",
      "62/62 - 0s - loss: 0.0234\n",
      "Epoch 211/500\n",
      "62/62 - 0s - loss: 0.0234\n",
      "Epoch 212/500\n",
      "62/62 - 0s - loss: 0.0233\n",
      "Epoch 213/500\n",
      "62/62 - 0s - loss: 0.0234\n",
      "Epoch 214/500\n",
      "62/62 - 0s - loss: 0.0234\n",
      "Epoch 215/500\n",
      "62/62 - 0s - loss: 0.0233\n",
      "Epoch 216/500\n",
      "62/62 - 0s - loss: 0.0233\n",
      "Epoch 217/500\n",
      "62/62 - 0s - loss: 0.0233\n",
      "Epoch 218/500\n",
      "62/62 - 0s - loss: 0.0233\n",
      "Epoch 219/500\n",
      "62/62 - 0s - loss: 0.0233\n",
      "Epoch 220/500\n",
      "62/62 - 0s - loss: 0.0232\n",
      "Epoch 221/500\n",
      "62/62 - 0s - loss: 0.0233\n",
      "Epoch 222/500\n",
      "62/62 - 0s - loss: 0.0232\n",
      "Epoch 223/500\n",
      "62/62 - 0s - loss: 0.0233\n",
      "Epoch 224/500\n",
      "62/62 - 0s - loss: 0.0233\n",
      "Epoch 225/500\n",
      "62/62 - 0s - loss: 0.0233\n",
      "Epoch 226/500\n",
      "62/62 - 0s - loss: 0.0232\n",
      "Epoch 227/500\n",
      "62/62 - 0s - loss: 0.0231\n",
      "Epoch 228/500\n",
      "62/62 - 0s - loss: 0.0233\n",
      "Epoch 229/500\n",
      "62/62 - 0s - loss: 0.0233\n",
      "Epoch 230/500\n",
      "62/62 - 0s - loss: 0.0233\n",
      "Epoch 231/500\n",
      "62/62 - 0s - loss: 0.0232\n",
      "Epoch 232/500\n",
      "62/62 - 0s - loss: 0.0233\n",
      "Epoch 233/500\n",
      "62/62 - 0s - loss: 0.0233\n",
      "Epoch 234/500\n",
      "62/62 - 0s - loss: 0.0232\n",
      "Epoch 235/500\n",
      "62/62 - 0s - loss: 0.0233\n",
      "Epoch 236/500\n",
      "62/62 - 0s - loss: 0.0233\n",
      "Epoch 237/500\n",
      "62/62 - 0s - loss: 0.0233\n",
      "Epoch 238/500\n",
      "62/62 - 0s - loss: 0.0233\n",
      "Epoch 239/500\n",
      "62/62 - 0s - loss: 0.0233\n",
      "Epoch 240/500\n",
      "62/62 - 0s - loss: 0.0232\n",
      "Epoch 241/500\n",
      "62/62 - 0s - loss: 0.0233\n",
      "Epoch 242/500\n",
      "62/62 - 0s - loss: 0.0232\n",
      "Epoch 243/500\n",
      "62/62 - 0s - loss: 0.0233\n",
      "Epoch 244/500\n",
      "62/62 - 0s - loss: 0.0232\n",
      "Epoch 245/500\n",
      "62/62 - 0s - loss: 0.0231\n",
      "Epoch 246/500\n",
      "62/62 - 0s - loss: 0.0232\n",
      "Epoch 247/500\n",
      "62/62 - 0s - loss: 0.0232\n",
      "Epoch 248/500\n",
      "62/62 - 0s - loss: 0.0233\n",
      "Epoch 249/500\n",
      "62/62 - 0s - loss: 0.0232\n",
      "Epoch 250/500\n",
      "62/62 - 0s - loss: 0.0232\n",
      "Epoch 251/500\n",
      "62/62 - 0s - loss: 0.0233\n",
      "Epoch 252/500\n",
      "62/62 - 0s - loss: 0.0232\n",
      "Epoch 253/500\n",
      "62/62 - 0s - loss: 0.0232\n",
      "Epoch 254/500\n",
      "62/62 - 0s - loss: 0.0232\n",
      "Epoch 255/500\n",
      "62/62 - 0s - loss: 0.0232\n",
      "Epoch 256/500\n",
      "62/62 - 0s - loss: 0.0232\n",
      "Epoch 257/500\n",
      "62/62 - 0s - loss: 0.0231\n",
      "Epoch 258/500\n",
      "62/62 - 0s - loss: 0.0232\n",
      "Epoch 259/500\n",
      "62/62 - 0s - loss: 0.0232\n",
      "Epoch 260/500\n",
      "62/62 - 0s - loss: 0.0233\n",
      "Epoch 261/500\n",
      "62/62 - 0s - loss: 0.0233\n",
      "Epoch 262/500\n",
      "62/62 - 0s - loss: 0.0232\n",
      "Epoch 263/500\n",
      "62/62 - 0s - loss: 0.0232\n",
      "Epoch 264/500\n",
      "62/62 - 0s - loss: 0.0232\n",
      "Epoch 265/500\n",
      "62/62 - 0s - loss: 0.0232\n",
      "Epoch 266/500\n",
      "62/62 - 0s - loss: 0.0233\n",
      "Epoch 267/500\n",
      "62/62 - 0s - loss: 0.0232\n",
      "Epoch 268/500\n",
      "62/62 - 0s - loss: 0.0231\n",
      "Epoch 269/500\n",
      "62/62 - 0s - loss: 0.0231\n",
      "Epoch 270/500\n",
      "62/62 - 0s - loss: 0.0231\n",
      "Epoch 271/500\n",
      "62/62 - 0s - loss: 0.0233\n",
      "Epoch 272/500\n",
      "62/62 - 0s - loss: 0.0232\n",
      "Epoch 273/500\n",
      "62/62 - 0s - loss: 0.0232\n",
      "Epoch 274/500\n",
      "62/62 - 0s - loss: 0.0232\n",
      "Epoch 275/500\n",
      "62/62 - 0s - loss: 0.0233\n",
      "Epoch 276/500\n",
      "62/62 - 0s - loss: 0.0232\n",
      "Epoch 277/500\n",
      "62/62 - 0s - loss: 0.0232\n",
      "Epoch 278/500\n",
      "62/62 - 0s - loss: 0.0233\n",
      "Epoch 279/500\n",
      "62/62 - 0s - loss: 0.0233\n",
      "Epoch 280/500\n",
      "62/62 - 0s - loss: 0.0232\n",
      "Epoch 281/500\n",
      "62/62 - 0s - loss: 0.0232\n",
      "Epoch 282/500\n",
      "62/62 - 0s - loss: 0.0231\n",
      "Epoch 283/500\n",
      "62/62 - 0s - loss: 0.0233\n",
      "Epoch 284/500\n",
      "62/62 - 0s - loss: 0.0233\n",
      "Epoch 285/500\n",
      "62/62 - 0s - loss: 0.0232\n",
      "Epoch 286/500\n",
      "62/62 - 0s - loss: 0.0233\n",
      "Epoch 287/500\n",
      "62/62 - 0s - loss: 0.0232\n",
      "Epoch 288/500\n",
      "62/62 - 0s - loss: 0.0232\n",
      "Epoch 289/500\n",
      "62/62 - 0s - loss: 0.0232\n",
      "Epoch 290/500\n",
      "62/62 - 0s - loss: 0.0232\n",
      "Epoch 291/500\n",
      "62/62 - 0s - loss: 0.0232\n",
      "Epoch 292/500\n",
      "62/62 - 0s - loss: 0.0232\n",
      "Epoch 293/500\n",
      "62/62 - 0s - loss: 0.0231\n",
      "Epoch 294/500\n",
      "62/62 - 0s - loss: 0.0232\n",
      "Epoch 295/500\n",
      "62/62 - 0s - loss: 0.0232\n",
      "Epoch 296/500\n",
      "62/62 - 0s - loss: 0.0232\n",
      "Epoch 297/500\n",
      "62/62 - 0s - loss: 0.0231\n",
      "Epoch 298/500\n",
      "62/62 - 0s - loss: 0.0232\n",
      "Epoch 299/500\n",
      "62/62 - 0s - loss: 0.0232\n",
      "Epoch 300/500\n",
      "62/62 - 0s - loss: 0.0232\n",
      "Epoch 301/500\n",
      "62/62 - 0s - loss: 0.0232\n",
      "Epoch 302/500\n",
      "62/62 - 0s - loss: 0.0233\n",
      "Epoch 303/500\n",
      "62/62 - 0s - loss: 0.0232\n",
      "Epoch 304/500\n",
      "62/62 - 0s - loss: 0.0232\n",
      "Epoch 305/500\n",
      "62/62 - 0s - loss: 0.0233\n",
      "Epoch 306/500\n",
      "62/62 - 0s - loss: 0.0231\n",
      "Epoch 307/500\n",
      "62/62 - 0s - loss: 0.0232\n",
      "Epoch 308/500\n",
      "62/62 - 0s - loss: 0.0232\n",
      "Epoch 309/500\n",
      "62/62 - 0s - loss: 0.0231\n",
      "Epoch 310/500\n",
      "62/62 - 0s - loss: 0.0233\n",
      "Epoch 311/500\n",
      "62/62 - 0s - loss: 0.0232\n",
      "Epoch 312/500\n",
      "62/62 - 0s - loss: 0.0232\n",
      "Epoch 313/500\n",
      "62/62 - 0s - loss: 0.0232\n",
      "Epoch 314/500\n",
      "62/62 - 0s - loss: 0.0232\n",
      "Epoch 315/500\n",
      "62/62 - 0s - loss: 0.0232\n",
      "Epoch 316/500\n",
      "62/62 - 0s - loss: 0.0232\n",
      "Epoch 317/500\n",
      "62/62 - 0s - loss: 0.0231\n",
      "Epoch 318/500\n",
      "62/62 - 0s - loss: 0.0232\n",
      "Epoch 319/500\n",
      "62/62 - 0s - loss: 0.0232\n",
      "Epoch 320/500\n",
      "62/62 - 0s - loss: 0.0232\n",
      "Epoch 321/500\n",
      "62/62 - 0s - loss: 0.0231\n",
      "Epoch 322/500\n",
      "62/62 - 0s - loss: 0.0232\n",
      "Epoch 323/500\n",
      "62/62 - 0s - loss: 0.0232\n",
      "Epoch 324/500\n",
      "62/62 - 0s - loss: 0.0231\n",
      "Epoch 325/500\n",
      "62/62 - 0s - loss: 0.0232\n",
      "Epoch 326/500\n",
      "62/62 - 0s - loss: 0.0231\n",
      "Epoch 327/500\n",
      "62/62 - 0s - loss: 0.0232\n",
      "Epoch 328/500\n",
      "62/62 - 0s - loss: 0.0232\n",
      "Epoch 329/500\n",
      "62/62 - 0s - loss: 0.0232\n",
      "Epoch 330/500\n",
      "62/62 - 0s - loss: 0.0232\n",
      "Epoch 331/500\n",
      "62/62 - 0s - loss: 0.0232\n",
      "Epoch 332/500\n",
      "62/62 - 0s - loss: 0.0232\n",
      "Epoch 333/500\n",
      "62/62 - 0s - loss: 0.0232\n",
      "Epoch 334/500\n",
      "62/62 - 0s - loss: 0.0232\n",
      "Epoch 335/500\n",
      "62/62 - 0s - loss: 0.0233\n",
      "Epoch 336/500\n",
      "62/62 - 0s - loss: 0.0233\n",
      "Epoch 337/500\n",
      "62/62 - 0s - loss: 0.0232\n",
      "Epoch 338/500\n",
      "62/62 - 0s - loss: 0.0231\n",
      "Epoch 339/500\n",
      "62/62 - 0s - loss: 0.0232\n",
      "Epoch 340/500\n",
      "62/62 - 0s - loss: 0.0232\n",
      "Epoch 341/500\n",
      "62/62 - 0s - loss: 0.0232\n",
      "Epoch 342/500\n",
      "62/62 - 0s - loss: 0.0231\n",
      "Epoch 343/500\n",
      "62/62 - 0s - loss: 0.0233\n",
      "Epoch 344/500\n",
      "62/62 - 0s - loss: 0.0232\n",
      "Epoch 345/500\n",
      "62/62 - 0s - loss: 0.0231\n",
      "Epoch 346/500\n",
      "62/62 - 0s - loss: 0.0233\n",
      "Epoch 347/500\n",
      "62/62 - 0s - loss: 0.0232\n",
      "Epoch 348/500\n",
      "62/62 - 0s - loss: 0.0232\n",
      "Epoch 349/500\n",
      "62/62 - 0s - loss: 0.0232\n",
      "Epoch 350/500\n",
      "62/62 - 0s - loss: 0.0231\n",
      "Epoch 351/500\n",
      "62/62 - 0s - loss: 0.0234\n",
      "Epoch 352/500\n",
      "62/62 - 0s - loss: 0.0232\n",
      "Epoch 353/500\n",
      "62/62 - 0s - loss: 0.0233\n",
      "Epoch 354/500\n",
      "62/62 - 0s - loss: 0.0233\n",
      "Epoch 355/500\n",
      "62/62 - 0s - loss: 0.0232\n",
      "Epoch 356/500\n",
      "62/62 - 0s - loss: 0.0232\n",
      "Epoch 357/500\n",
      "62/62 - 0s - loss: 0.0232\n",
      "Epoch 358/500\n",
      "62/62 - 0s - loss: 0.0232\n",
      "Epoch 359/500\n",
      "62/62 - 0s - loss: 0.0232\n",
      "Epoch 360/500\n",
      "62/62 - 0s - loss: 0.0231\n",
      "Epoch 361/500\n",
      "62/62 - 0s - loss: 0.0233\n",
      "Epoch 362/500\n",
      "62/62 - 0s - loss: 0.0232\n",
      "Epoch 363/500\n",
      "62/62 - 0s - loss: 0.0232\n",
      "Epoch 364/500\n",
      "62/62 - 0s - loss: 0.0232\n",
      "Epoch 365/500\n",
      "62/62 - 0s - loss: 0.0232\n",
      "Epoch 366/500\n",
      "62/62 - 0s - loss: 0.0232\n",
      "Epoch 367/500\n",
      "62/62 - 0s - loss: 0.0232\n",
      "Epoch 368/500\n",
      "62/62 - 0s - loss: 0.0232\n",
      "Epoch 369/500\n",
      "62/62 - 0s - loss: 0.0232\n",
      "Epoch 370/500\n",
      "62/62 - 0s - loss: 0.0232\n",
      "Epoch 371/500\n",
      "62/62 - 0s - loss: 0.0232\n",
      "Epoch 372/500\n",
      "62/62 - 0s - loss: 0.0232\n",
      "Epoch 373/500\n",
      "62/62 - 0s - loss: 0.0232\n",
      "Epoch 374/500\n",
      "62/62 - 0s - loss: 0.0233\n",
      "Epoch 375/500\n",
      "62/62 - 0s - loss: 0.0232\n",
      "Epoch 376/500\n",
      "62/62 - 0s - loss: 0.0232\n",
      "Epoch 377/500\n",
      "62/62 - 0s - loss: 0.0232\n",
      "Epoch 378/500\n",
      "62/62 - 0s - loss: 0.0232\n",
      "Epoch 379/500\n",
      "62/62 - 0s - loss: 0.0232\n",
      "Epoch 380/500\n",
      "62/62 - 0s - loss: 0.0232\n",
      "Epoch 381/500\n",
      "62/62 - 0s - loss: 0.0233\n",
      "Epoch 382/500\n",
      "62/62 - 0s - loss: 0.0230\n",
      "Epoch 383/500\n",
      "62/62 - 0s - loss: 0.0232\n",
      "Epoch 384/500\n",
      "62/62 - 0s - loss: 0.0232\n",
      "Epoch 385/500\n",
      "62/62 - 0s - loss: 0.0230\n",
      "Epoch 386/500\n",
      "62/62 - 0s - loss: 0.0232\n",
      "Epoch 387/500\n",
      "62/62 - 0s - loss: 0.0232\n",
      "Epoch 388/500\n",
      "62/62 - 0s - loss: 0.0231\n",
      "Epoch 389/500\n",
      "62/62 - 0s - loss: 0.0233\n",
      "Epoch 390/500\n",
      "62/62 - 0s - loss: 0.0232\n",
      "Epoch 391/500\n",
      "62/62 - 0s - loss: 0.0232\n",
      "Epoch 392/500\n",
      "62/62 - 0s - loss: 0.0231\n",
      "Epoch 393/500\n",
      "62/62 - 0s - loss: 0.0232\n",
      "Epoch 394/500\n",
      "62/62 - 0s - loss: 0.0232\n",
      "Epoch 395/500\n",
      "62/62 - 0s - loss: 0.0232\n",
      "Epoch 396/500\n",
      "62/62 - 0s - loss: 0.0233\n",
      "Epoch 397/500\n",
      "62/62 - 0s - loss: 0.0232\n",
      "Epoch 398/500\n",
      "62/62 - 0s - loss: 0.0232\n",
      "Epoch 399/500\n",
      "62/62 - 0s - loss: 0.0233\n",
      "Epoch 400/500\n",
      "62/62 - 0s - loss: 0.0232\n",
      "Epoch 401/500\n",
      "62/62 - 0s - loss: 0.0233\n",
      "Epoch 402/500\n",
      "62/62 - 0s - loss: 0.0232\n",
      "Epoch 403/500\n",
      "62/62 - 0s - loss: 0.0232\n",
      "Epoch 404/500\n",
      "62/62 - 0s - loss: 0.0232\n",
      "Epoch 405/500\n",
      "62/62 - 0s - loss: 0.0230\n",
      "Epoch 406/500\n",
      "62/62 - 0s - loss: 0.0231\n",
      "Epoch 407/500\n",
      "62/62 - 0s - loss: 0.0232\n",
      "Epoch 408/500\n",
      "62/62 - 0s - loss: 0.0232\n",
      "Epoch 409/500\n",
      "62/62 - 0s - loss: 0.0232\n",
      "Epoch 410/500\n",
      "62/62 - 0s - loss: 0.0233\n",
      "Epoch 411/500\n",
      "62/62 - 0s - loss: 0.0232\n",
      "Epoch 412/500\n",
      "62/62 - 0s - loss: 0.0232\n",
      "Epoch 413/500\n",
      "62/62 - 0s - loss: 0.0232\n",
      "Epoch 414/500\n",
      "62/62 - 0s - loss: 0.0232\n",
      "Epoch 415/500\n",
      "62/62 - 0s - loss: 0.0232\n",
      "Epoch 416/500\n",
      "62/62 - 0s - loss: 0.0233\n",
      "Epoch 417/500\n",
      "62/62 - 0s - loss: 0.0232\n",
      "Epoch 418/500\n",
      "62/62 - 0s - loss: 0.0231\n",
      "Epoch 419/500\n",
      "62/62 - 0s - loss: 0.0231\n",
      "Epoch 420/500\n",
      "62/62 - 0s - loss: 0.0232\n",
      "Epoch 421/500\n",
      "62/62 - 0s - loss: 0.0232\n",
      "Epoch 422/500\n",
      "62/62 - 0s - loss: 0.0232\n",
      "Epoch 423/500\n",
      "62/62 - 0s - loss: 0.0232\n",
      "Epoch 424/500\n",
      "62/62 - 0s - loss: 0.0232\n",
      "Epoch 425/500\n",
      "62/62 - 0s - loss: 0.0232\n",
      "Epoch 426/500\n",
      "62/62 - 0s - loss: 0.0232\n",
      "Epoch 427/500\n",
      "62/62 - 0s - loss: 0.0231\n",
      "Epoch 428/500\n",
      "62/62 - 0s - loss: 0.0231\n",
      "Epoch 429/500\n",
      "62/62 - 0s - loss: 0.0231\n",
      "Epoch 430/500\n",
      "62/62 - 0s - loss: 0.0233\n",
      "Epoch 431/500\n",
      "62/62 - 0s - loss: 0.0232\n",
      "Epoch 432/500\n",
      "62/62 - 0s - loss: 0.0232\n",
      "Epoch 433/500\n",
      "62/62 - 0s - loss: 0.0232\n",
      "Epoch 434/500\n",
      "62/62 - 0s - loss: 0.0232\n",
      "Epoch 435/500\n",
      "62/62 - 0s - loss: 0.0232\n",
      "Epoch 436/500\n",
      "62/62 - 0s - loss: 0.0232\n",
      "Epoch 437/500\n",
      "62/62 - 0s - loss: 0.0233\n",
      "Epoch 438/500\n",
      "62/62 - 0s - loss: 0.0232\n",
      "Epoch 439/500\n",
      "62/62 - 0s - loss: 0.0232\n",
      "Epoch 440/500\n",
      "62/62 - 0s - loss: 0.0232\n",
      "Epoch 441/500\n",
      "62/62 - 0s - loss: 0.0232\n",
      "Epoch 442/500\n",
      "62/62 - 0s - loss: 0.0232\n",
      "Epoch 443/500\n",
      "62/62 - 0s - loss: 0.0232\n",
      "Epoch 444/500\n",
      "62/62 - 0s - loss: 0.0232\n",
      "Epoch 445/500\n",
      "62/62 - 0s - loss: 0.0232\n",
      "Epoch 446/500\n",
      "62/62 - 0s - loss: 0.0232\n",
      "Epoch 447/500\n",
      "62/62 - 0s - loss: 0.0232\n",
      "Epoch 448/500\n",
      "62/62 - 0s - loss: 0.0232\n",
      "Epoch 449/500\n",
      "62/62 - 0s - loss: 0.0232\n",
      "Epoch 450/500\n",
      "62/62 - 0s - loss: 0.0232\n",
      "Epoch 451/500\n",
      "62/62 - 0s - loss: 0.0233\n",
      "Epoch 452/500\n",
      "62/62 - 0s - loss: 0.0232\n",
      "Epoch 453/500\n",
      "62/62 - 0s - loss: 0.0232\n",
      "Epoch 454/500\n",
      "62/62 - 0s - loss: 0.0232\n",
      "Epoch 455/500\n",
      "62/62 - 0s - loss: 0.0232\n",
      "Epoch 456/500\n",
      "62/62 - 0s - loss: 0.0233\n",
      "Epoch 457/500\n",
      "62/62 - 0s - loss: 0.0232\n",
      "Epoch 458/500\n",
      "62/62 - 0s - loss: 0.0232\n",
      "Epoch 459/500\n",
      "62/62 - 0s - loss: 0.0232\n",
      "Epoch 460/500\n",
      "62/62 - 0s - loss: 0.0232\n",
      "Epoch 461/500\n",
      "62/62 - 0s - loss: 0.0232\n",
      "Epoch 462/500\n",
      "62/62 - 0s - loss: 0.0232\n",
      "Epoch 463/500\n",
      "62/62 - 0s - loss: 0.0232\n",
      "Epoch 464/500\n",
      "62/62 - 0s - loss: 0.0232\n",
      "Epoch 465/500\n",
      "62/62 - 0s - loss: 0.0232\n",
      "Epoch 466/500\n",
      "62/62 - 0s - loss: 0.0232\n",
      "Epoch 467/500\n",
      "62/62 - 0s - loss: 0.0232\n",
      "Epoch 468/500\n",
      "62/62 - 0s - loss: 0.0232\n",
      "Epoch 469/500\n",
      "62/62 - 0s - loss: 0.0232\n",
      "Epoch 470/500\n",
      "62/62 - 0s - loss: 0.0232\n",
      "Epoch 471/500\n",
      "62/62 - 0s - loss: 0.0232\n",
      "Epoch 472/500\n",
      "62/62 - 0s - loss: 0.0233\n",
      "Epoch 473/500\n",
      "62/62 - 0s - loss: 0.0232\n",
      "Epoch 474/500\n",
      "62/62 - 0s - loss: 0.0232\n",
      "Epoch 475/500\n",
      "62/62 - 0s - loss: 0.0233\n",
      "Epoch 476/500\n",
      "62/62 - 0s - loss: 0.0232\n",
      "Epoch 477/500\n",
      "62/62 - 0s - loss: 0.0233\n",
      "Epoch 478/500\n",
      "62/62 - 0s - loss: 0.0232\n",
      "Epoch 479/500\n",
      "62/62 - 0s - loss: 0.0232\n",
      "Epoch 480/500\n",
      "62/62 - 0s - loss: 0.0232\n",
      "Epoch 481/500\n",
      "62/62 - 0s - loss: 0.0233\n",
      "Epoch 482/500\n",
      "62/62 - 0s - loss: 0.0232\n",
      "Epoch 483/500\n",
      "62/62 - 0s - loss: 0.0233\n",
      "Epoch 484/500\n",
      "62/62 - 0s - loss: 0.0232\n",
      "Epoch 485/500\n",
      "62/62 - 0s - loss: 0.0231\n",
      "Epoch 486/500\n",
      "62/62 - 0s - loss: 0.0232\n",
      "Epoch 487/500\n",
      "62/62 - 0s - loss: 0.0232\n",
      "Epoch 488/500\n",
      "62/62 - 0s - loss: 0.0231\n",
      "Epoch 489/500\n",
      "62/62 - 0s - loss: 0.0231\n",
      "Epoch 490/500\n",
      "62/62 - 0s - loss: 0.0231\n",
      "Epoch 491/500\n",
      "62/62 - 0s - loss: 0.0232\n",
      "Epoch 492/500\n",
      "62/62 - 0s - loss: 0.0232\n",
      "Epoch 493/500\n",
      "62/62 - 0s - loss: 0.0232\n",
      "Epoch 494/500\n",
      "62/62 - 0s - loss: 0.0233\n",
      "Epoch 495/500\n",
      "62/62 - 0s - loss: 0.0233\n",
      "Epoch 496/500\n",
      "62/62 - 0s - loss: 0.0233\n",
      "Epoch 497/500\n",
      "62/62 - 0s - loss: 0.0232\n",
      "Epoch 498/500\n",
      "62/62 - 0s - loss: 0.0232\n",
      "Epoch 499/500\n",
      "62/62 - 0s - loss: 0.0233\n",
      "Epoch 500/500\n",
      "62/62 - 0s - loss: 0.0232\n"
     ]
    }
   ],
   "source": [
    "model = Sequential()\n",
    "model.add(SimpleRNN(units=1, activation=\"tanh\"))\n",
    "model.add(Dense(1))\n",
    "model.compile(loss='mean_squared_error', optimizer='rmsprop')\n",
    "\n",
    "history = model.fit(trainX,trainY, epochs=500, batch_size=16, verbose=2)"
   ]
  },
  {
   "cell_type": "code",
   "execution_count": 19,
   "metadata": {},
   "outputs": [
    {
     "output_type": "error",
     "ename": "TypeError",
     "evalue": "__init__() missing 1 required positional argument: 'units'",
     "traceback": [
      "\u001b[1;31m---------------------------------------------------------------------------\u001b[0m",
      "\u001b[1;31mTypeError\u001b[0m                                 Traceback (most recent call last)",
      "\u001b[1;32m<ipython-input-19-0a0de37eb83f>\u001b[0m in \u001b[0;36m<module>\u001b[1;34m\u001b[0m\n\u001b[0;32m      3\u001b[0m \u001b[0mmodel\u001b[0m \u001b[1;33m=\u001b[0m \u001b[0mSequential\u001b[0m\u001b[1;33m(\u001b[0m\u001b[1;33m)\u001b[0m\u001b[1;33m\u001b[0m\u001b[1;33m\u001b[0m\u001b[0m\n\u001b[0;32m      4\u001b[0m \u001b[0mmodel\u001b[0m\u001b[1;33m.\u001b[0m\u001b[0madd\u001b[0m\u001b[1;33m(\u001b[0m\u001b[0mSimpleRNN\u001b[0m\u001b[1;33m(\u001b[0m\u001b[0munits\u001b[0m\u001b[1;33m=\u001b[0m\u001b[1;36m1\u001b[0m\u001b[1;33m,\u001b[0m\u001b[0mactivation\u001b[0m\u001b[1;33m=\u001b[0m\u001b[1;34m\"tanh\"\u001b[0m\u001b[1;33m)\u001b[0m\u001b[1;33m)\u001b[0m\u001b[1;33m\u001b[0m\u001b[1;33m\u001b[0m\u001b[0m\n\u001b[1;32m----> 5\u001b[1;33m \u001b[0mmodel\u001b[0m\u001b[1;33m.\u001b[0m\u001b[0madd\u001b[0m\u001b[1;33m(\u001b[0m\u001b[0mDense\u001b[0m\u001b[1;33m(\u001b[0m\u001b[1;33m)\u001b[0m\u001b[1;33m)\u001b[0m\u001b[1;33m\u001b[0m\u001b[1;33m\u001b[0m\u001b[0m\n\u001b[0m\u001b[0;32m      6\u001b[0m \u001b[0mmodel\u001b[0m\u001b[1;33m.\u001b[0m\u001b[0mcompile\u001b[0m\u001b[1;33m(\u001b[0m\u001b[0mloss\u001b[0m\u001b[1;33m=\u001b[0m\u001b[1;34m'mean_squared_error'\u001b[0m\u001b[1;33m,\u001b[0m\u001b[0moptimizer\u001b[0m\u001b[1;33m=\u001b[0m\u001b[1;34m'rmsprop'\u001b[0m\u001b[1;33m)\u001b[0m\u001b[1;33m\u001b[0m\u001b[1;33m\u001b[0m\u001b[0m\n\u001b[0;32m      7\u001b[0m \u001b[0mhistory\u001b[0m\u001b[1;33m=\u001b[0m\u001b[0mmodel\u001b[0m\u001b[1;33m.\u001b[0m\u001b[0mfit\u001b[0m\u001b[1;33m(\u001b[0m\u001b[0mx\u001b[0m\u001b[1;33m,\u001b[0m\u001b[0mx_without_noise\u001b[0m\u001b[1;33m,\u001b[0m\u001b[0mepochs\u001b[0m\u001b[1;33m=\u001b[0m\u001b[1;36m200\u001b[0m\u001b[1;33m,\u001b[0m\u001b[0mbatch_size\u001b[0m\u001b[1;33m=\u001b[0m\u001b[1;36m16\u001b[0m\u001b[1;33m,\u001b[0m\u001b[0mverbose\u001b[0m\u001b[1;33m=\u001b[0m\u001b[1;36m2\u001b[0m\u001b[1;33m)\u001b[0m\u001b[1;33m\u001b[0m\u001b[1;33m\u001b[0m\u001b[0m\n",
      "\u001b[1;31mTypeError\u001b[0m: __init__() missing 1 required positional argument: 'units'"
     ]
    }
   ],
   "source": [
    "from tensorflow.keras.models import Sequential\n",
    "from tensorflow.keras.layers import Dense, SimpleRNN\n",
    "model = Sequential()\n",
    "model.add(SimpleRNN(units=1,activation=\"tanh\"))\n",
    "model.add(Dense(1))\n",
    "model.compile(loss='mean_squared_error',optimizer='rmsprop')\n",
    "history=model.fit(x,x_without_noise,epochs=200,batch_size=16,verbose=2)"
   ]
  },
  {
   "cell_type": "code",
   "execution_count": 21,
   "metadata": {},
   "outputs": [
    {
     "output_type": "execute_result",
     "data": {
      "text/plain": [
       "[<matplotlib.lines.Line2D at 0x1d831249a20>]"
      ]
     },
     "metadata": {},
     "execution_count": 21
    },
    {
     "output_type": "display_data",
     "data": {
      "text/plain": "<Figure size 432x288 with 1 Axes>",
      "image/svg+xml": "<?xml version=\"1.0\" encoding=\"utf-8\" standalone=\"no\"?>\r\n<!DOCTYPE svg PUBLIC \"-//W3C//DTD SVG 1.1//EN\"\r\n  \"http://www.w3.org/Graphics/SVG/1.1/DTD/svg11.dtd\">\r\n<!-- Created with matplotlib (https://matplotlib.org/) -->\r\n<svg height=\"248.518125pt\" version=\"1.1\" viewBox=\"0 0 380.482812 248.518125\" width=\"380.482812pt\" xmlns=\"http://www.w3.org/2000/svg\" xmlns:xlink=\"http://www.w3.org/1999/xlink\">\r\n <metadata>\r\n  <rdf:RDF xmlns:cc=\"http://creativecommons.org/ns#\" xmlns:dc=\"http://purl.org/dc/elements/1.1/\" xmlns:rdf=\"http://www.w3.org/1999/02/22-rdf-syntax-ns#\">\r\n   <cc:Work>\r\n    <dc:type rdf:resource=\"http://purl.org/dc/dcmitype/StillImage\"/>\r\n    <dc:date>2021-03-14T00:53:54.612789</dc:date>\r\n    <dc:format>image/svg+xml</dc:format>\r\n    <dc:creator>\r\n     <cc:Agent>\r\n      <dc:title>Matplotlib v3.3.4, https://matplotlib.org/</dc:title>\r\n     </cc:Agent>\r\n    </dc:creator>\r\n   </cc:Work>\r\n  </rdf:RDF>\r\n </metadata>\r\n <defs>\r\n  <style type=\"text/css\">*{stroke-linecap:butt;stroke-linejoin:round;}</style>\r\n </defs>\r\n <g id=\"figure_1\">\r\n  <g id=\"patch_1\">\r\n   <path d=\"M -0 248.518125 \r\nL 380.482812 248.518125 \r\nL 380.482812 0 \r\nL -0 0 \r\nz\r\n\" style=\"fill:none;\"/>\r\n  </g>\r\n  <g id=\"axes_1\">\r\n   <g id=\"patch_2\">\r\n    <path d=\"M 38.482813 224.64 \r\nL 373.282813 224.64 \r\nL 373.282813 7.2 \r\nL 38.482813 7.2 \r\nz\r\n\" style=\"fill:#ffffff;\"/>\r\n   </g>\r\n   <g id=\"matplotlib.axis_1\">\r\n    <g id=\"xtick_1\">\r\n     <g id=\"line2d_1\">\r\n      <defs>\r\n       <path d=\"M 0 0 \r\nL 0 3.5 \r\n\" id=\"mdc185e17a7\" style=\"stroke:#000000;stroke-width:0.8;\"/>\r\n      </defs>\r\n      <g>\r\n       <use style=\"stroke:#000000;stroke-width:0.8;\" x=\"53.700994\" xlink:href=\"#mdc185e17a7\" y=\"224.64\"/>\r\n      </g>\r\n     </g>\r\n     <g id=\"text_1\">\r\n      <!-- 0 -->\r\n      <g transform=\"translate(50.519744 239.238437)scale(0.1 -0.1)\">\r\n       <defs>\r\n        <path d=\"M 31.78125 66.40625 \r\nQ 24.171875 66.40625 20.328125 58.90625 \r\nQ 16.5 51.421875 16.5 36.375 \r\nQ 16.5 21.390625 20.328125 13.890625 \r\nQ 24.171875 6.390625 31.78125 6.390625 \r\nQ 39.453125 6.390625 43.28125 13.890625 \r\nQ 47.125 21.390625 47.125 36.375 \r\nQ 47.125 51.421875 43.28125 58.90625 \r\nQ 39.453125 66.40625 31.78125 66.40625 \r\nz\r\nM 31.78125 74.21875 \r\nQ 44.046875 74.21875 50.515625 64.515625 \r\nQ 56.984375 54.828125 56.984375 36.375 \r\nQ 56.984375 17.96875 50.515625 8.265625 \r\nQ 44.046875 -1.421875 31.78125 -1.421875 \r\nQ 19.53125 -1.421875 13.0625 8.265625 \r\nQ 6.59375 17.96875 6.59375 36.375 \r\nQ 6.59375 54.828125 13.0625 64.515625 \r\nQ 19.53125 74.21875 31.78125 74.21875 \r\nz\r\n\" id=\"DejaVuSans-48\"/>\r\n       </defs>\r\n       <use xlink:href=\"#DejaVuSans-48\"/>\r\n      </g>\r\n     </g>\r\n    </g>\r\n    <g id=\"xtick_2\">\r\n     <g id=\"line2d_2\">\r\n      <g>\r\n       <use style=\"stroke:#000000;stroke-width:0.8;\" x=\"94.309885\" xlink:href=\"#mdc185e17a7\" y=\"224.64\"/>\r\n      </g>\r\n     </g>\r\n     <g id=\"text_2\">\r\n      <!-- 200 -->\r\n      <g transform=\"translate(84.766135 239.238437)scale(0.1 -0.1)\">\r\n       <defs>\r\n        <path d=\"M 19.1875 8.296875 \r\nL 53.609375 8.296875 \r\nL 53.609375 0 \r\nL 7.328125 0 \r\nL 7.328125 8.296875 \r\nQ 12.9375 14.109375 22.625 23.890625 \r\nQ 32.328125 33.6875 34.8125 36.53125 \r\nQ 39.546875 41.84375 41.421875 45.53125 \r\nQ 43.3125 49.21875 43.3125 52.78125 \r\nQ 43.3125 58.59375 39.234375 62.25 \r\nQ 35.15625 65.921875 28.609375 65.921875 \r\nQ 23.96875 65.921875 18.8125 64.3125 \r\nQ 13.671875 62.703125 7.8125 59.421875 \r\nL 7.8125 69.390625 \r\nQ 13.765625 71.78125 18.9375 73 \r\nQ 24.125 74.21875 28.421875 74.21875 \r\nQ 39.75 74.21875 46.484375 68.546875 \r\nQ 53.21875 62.890625 53.21875 53.421875 \r\nQ 53.21875 48.921875 51.53125 44.890625 \r\nQ 49.859375 40.875 45.40625 35.40625 \r\nQ 44.1875 33.984375 37.640625 27.21875 \r\nQ 31.109375 20.453125 19.1875 8.296875 \r\nz\r\n\" id=\"DejaVuSans-50\"/>\r\n       </defs>\r\n       <use xlink:href=\"#DejaVuSans-50\"/>\r\n       <use x=\"63.623047\" xlink:href=\"#DejaVuSans-48\"/>\r\n       <use x=\"127.246094\" xlink:href=\"#DejaVuSans-48\"/>\r\n      </g>\r\n     </g>\r\n    </g>\r\n    <g id=\"xtick_3\">\r\n     <g id=\"line2d_3\">\r\n      <g>\r\n       <use style=\"stroke:#000000;stroke-width:0.8;\" x=\"134.918776\" xlink:href=\"#mdc185e17a7\" y=\"224.64\"/>\r\n      </g>\r\n     </g>\r\n     <g id=\"text_3\">\r\n      <!-- 400 -->\r\n      <g transform=\"translate(125.375026 239.238437)scale(0.1 -0.1)\">\r\n       <defs>\r\n        <path d=\"M 37.796875 64.3125 \r\nL 12.890625 25.390625 \r\nL 37.796875 25.390625 \r\nz\r\nM 35.203125 72.90625 \r\nL 47.609375 72.90625 \r\nL 47.609375 25.390625 \r\nL 58.015625 25.390625 \r\nL 58.015625 17.1875 \r\nL 47.609375 17.1875 \r\nL 47.609375 0 \r\nL 37.796875 0 \r\nL 37.796875 17.1875 \r\nL 4.890625 17.1875 \r\nL 4.890625 26.703125 \r\nz\r\n\" id=\"DejaVuSans-52\"/>\r\n       </defs>\r\n       <use xlink:href=\"#DejaVuSans-52\"/>\r\n       <use x=\"63.623047\" xlink:href=\"#DejaVuSans-48\"/>\r\n       <use x=\"127.246094\" xlink:href=\"#DejaVuSans-48\"/>\r\n      </g>\r\n     </g>\r\n    </g>\r\n    <g id=\"xtick_4\">\r\n     <g id=\"line2d_4\">\r\n      <g>\r\n       <use style=\"stroke:#000000;stroke-width:0.8;\" x=\"175.527667\" xlink:href=\"#mdc185e17a7\" y=\"224.64\"/>\r\n      </g>\r\n     </g>\r\n     <g id=\"text_4\">\r\n      <!-- 600 -->\r\n      <g transform=\"translate(165.983917 239.238437)scale(0.1 -0.1)\">\r\n       <defs>\r\n        <path d=\"M 33.015625 40.375 \r\nQ 26.375 40.375 22.484375 35.828125 \r\nQ 18.609375 31.296875 18.609375 23.390625 \r\nQ 18.609375 15.53125 22.484375 10.953125 \r\nQ 26.375 6.390625 33.015625 6.390625 \r\nQ 39.65625 6.390625 43.53125 10.953125 \r\nQ 47.40625 15.53125 47.40625 23.390625 \r\nQ 47.40625 31.296875 43.53125 35.828125 \r\nQ 39.65625 40.375 33.015625 40.375 \r\nz\r\nM 52.59375 71.296875 \r\nL 52.59375 62.3125 \r\nQ 48.875 64.0625 45.09375 64.984375 \r\nQ 41.3125 65.921875 37.59375 65.921875 \r\nQ 27.828125 65.921875 22.671875 59.328125 \r\nQ 17.53125 52.734375 16.796875 39.40625 \r\nQ 19.671875 43.65625 24.015625 45.921875 \r\nQ 28.375 48.1875 33.59375 48.1875 \r\nQ 44.578125 48.1875 50.953125 41.515625 \r\nQ 57.328125 34.859375 57.328125 23.390625 \r\nQ 57.328125 12.15625 50.6875 5.359375 \r\nQ 44.046875 -1.421875 33.015625 -1.421875 \r\nQ 20.359375 -1.421875 13.671875 8.265625 \r\nQ 6.984375 17.96875 6.984375 36.375 \r\nQ 6.984375 53.65625 15.1875 63.9375 \r\nQ 23.390625 74.21875 37.203125 74.21875 \r\nQ 40.921875 74.21875 44.703125 73.484375 \r\nQ 48.484375 72.75 52.59375 71.296875 \r\nz\r\n\" id=\"DejaVuSans-54\"/>\r\n       </defs>\r\n       <use xlink:href=\"#DejaVuSans-54\"/>\r\n       <use x=\"63.623047\" xlink:href=\"#DejaVuSans-48\"/>\r\n       <use x=\"127.246094\" xlink:href=\"#DejaVuSans-48\"/>\r\n      </g>\r\n     </g>\r\n    </g>\r\n    <g id=\"xtick_5\">\r\n     <g id=\"line2d_5\">\r\n      <g>\r\n       <use style=\"stroke:#000000;stroke-width:0.8;\" x=\"216.136557\" xlink:href=\"#mdc185e17a7\" y=\"224.64\"/>\r\n      </g>\r\n     </g>\r\n     <g id=\"text_5\">\r\n      <!-- 800 -->\r\n      <g transform=\"translate(206.592807 239.238437)scale(0.1 -0.1)\">\r\n       <defs>\r\n        <path d=\"M 31.78125 34.625 \r\nQ 24.75 34.625 20.71875 30.859375 \r\nQ 16.703125 27.09375 16.703125 20.515625 \r\nQ 16.703125 13.921875 20.71875 10.15625 \r\nQ 24.75 6.390625 31.78125 6.390625 \r\nQ 38.8125 6.390625 42.859375 10.171875 \r\nQ 46.921875 13.96875 46.921875 20.515625 \r\nQ 46.921875 27.09375 42.890625 30.859375 \r\nQ 38.875 34.625 31.78125 34.625 \r\nz\r\nM 21.921875 38.8125 \r\nQ 15.578125 40.375 12.03125 44.71875 \r\nQ 8.5 49.078125 8.5 55.328125 \r\nQ 8.5 64.0625 14.71875 69.140625 \r\nQ 20.953125 74.21875 31.78125 74.21875 \r\nQ 42.671875 74.21875 48.875 69.140625 \r\nQ 55.078125 64.0625 55.078125 55.328125 \r\nQ 55.078125 49.078125 51.53125 44.71875 \r\nQ 48 40.375 41.703125 38.8125 \r\nQ 48.828125 37.15625 52.796875 32.3125 \r\nQ 56.78125 27.484375 56.78125 20.515625 \r\nQ 56.78125 9.90625 50.3125 4.234375 \r\nQ 43.84375 -1.421875 31.78125 -1.421875 \r\nQ 19.734375 -1.421875 13.25 4.234375 \r\nQ 6.78125 9.90625 6.78125 20.515625 \r\nQ 6.78125 27.484375 10.78125 32.3125 \r\nQ 14.796875 37.15625 21.921875 38.8125 \r\nz\r\nM 18.3125 54.390625 \r\nQ 18.3125 48.734375 21.84375 45.5625 \r\nQ 25.390625 42.390625 31.78125 42.390625 \r\nQ 38.140625 42.390625 41.71875 45.5625 \r\nQ 45.3125 48.734375 45.3125 54.390625 \r\nQ 45.3125 60.0625 41.71875 63.234375 \r\nQ 38.140625 66.40625 31.78125 66.40625 \r\nQ 25.390625 66.40625 21.84375 63.234375 \r\nQ 18.3125 60.0625 18.3125 54.390625 \r\nz\r\n\" id=\"DejaVuSans-56\"/>\r\n       </defs>\r\n       <use xlink:href=\"#DejaVuSans-56\"/>\r\n       <use x=\"63.623047\" xlink:href=\"#DejaVuSans-48\"/>\r\n       <use x=\"127.246094\" xlink:href=\"#DejaVuSans-48\"/>\r\n      </g>\r\n     </g>\r\n    </g>\r\n    <g id=\"xtick_6\">\r\n     <g id=\"line2d_6\">\r\n      <g>\r\n       <use style=\"stroke:#000000;stroke-width:0.8;\" x=\"256.745448\" xlink:href=\"#mdc185e17a7\" y=\"224.64\"/>\r\n      </g>\r\n     </g>\r\n     <g id=\"text_6\">\r\n      <!-- 1000 -->\r\n      <g transform=\"translate(244.020448 239.238437)scale(0.1 -0.1)\">\r\n       <defs>\r\n        <path d=\"M 12.40625 8.296875 \r\nL 28.515625 8.296875 \r\nL 28.515625 63.921875 \r\nL 10.984375 60.40625 \r\nL 10.984375 69.390625 \r\nL 28.421875 72.90625 \r\nL 38.28125 72.90625 \r\nL 38.28125 8.296875 \r\nL 54.390625 8.296875 \r\nL 54.390625 0 \r\nL 12.40625 0 \r\nz\r\n\" id=\"DejaVuSans-49\"/>\r\n       </defs>\r\n       <use xlink:href=\"#DejaVuSans-49\"/>\r\n       <use x=\"63.623047\" xlink:href=\"#DejaVuSans-48\"/>\r\n       <use x=\"127.246094\" xlink:href=\"#DejaVuSans-48\"/>\r\n       <use x=\"190.869141\" xlink:href=\"#DejaVuSans-48\"/>\r\n      </g>\r\n     </g>\r\n    </g>\r\n    <g id=\"xtick_7\">\r\n     <g id=\"line2d_7\">\r\n      <g>\r\n       <use style=\"stroke:#000000;stroke-width:0.8;\" x=\"297.354339\" xlink:href=\"#mdc185e17a7\" y=\"224.64\"/>\r\n      </g>\r\n     </g>\r\n     <g id=\"text_7\">\r\n      <!-- 1200 -->\r\n      <g transform=\"translate(284.629339 239.238437)scale(0.1 -0.1)\">\r\n       <use xlink:href=\"#DejaVuSans-49\"/>\r\n       <use x=\"63.623047\" xlink:href=\"#DejaVuSans-50\"/>\r\n       <use x=\"127.246094\" xlink:href=\"#DejaVuSans-48\"/>\r\n       <use x=\"190.869141\" xlink:href=\"#DejaVuSans-48\"/>\r\n      </g>\r\n     </g>\r\n    </g>\r\n    <g id=\"xtick_8\">\r\n     <g id=\"line2d_8\">\r\n      <g>\r\n       <use style=\"stroke:#000000;stroke-width:0.8;\" x=\"337.96323\" xlink:href=\"#mdc185e17a7\" y=\"224.64\"/>\r\n      </g>\r\n     </g>\r\n     <g id=\"text_8\">\r\n      <!-- 1400 -->\r\n      <g transform=\"translate(325.23823 239.238437)scale(0.1 -0.1)\">\r\n       <use xlink:href=\"#DejaVuSans-49\"/>\r\n       <use x=\"63.623047\" xlink:href=\"#DejaVuSans-52\"/>\r\n       <use x=\"127.246094\" xlink:href=\"#DejaVuSans-48\"/>\r\n       <use x=\"190.869141\" xlink:href=\"#DejaVuSans-48\"/>\r\n      </g>\r\n     </g>\r\n    </g>\r\n   </g>\r\n   <g id=\"matplotlib.axis_2\">\r\n    <g id=\"ytick_1\">\r\n     <g id=\"line2d_9\">\r\n      <defs>\r\n       <path d=\"M 0 0 \r\nL -3.5 0 \r\n\" id=\"ma701f7d0e0\" style=\"stroke:#000000;stroke-width:0.8;\"/>\r\n      </defs>\r\n      <g>\r\n       <use style=\"stroke:#000000;stroke-width:0.8;\" x=\"38.482813\" xlink:href=\"#ma701f7d0e0\" y=\"215.394711\"/>\r\n      </g>\r\n     </g>\r\n     <g id=\"text_9\">\r\n      <!-- −2.0 -->\r\n      <g transform=\"translate(7.2 219.19393)scale(0.1 -0.1)\">\r\n       <defs>\r\n        <path d=\"M 10.59375 35.5 \r\nL 73.1875 35.5 \r\nL 73.1875 27.203125 \r\nL 10.59375 27.203125 \r\nz\r\n\" id=\"DejaVuSans-8722\"/>\r\n        <path d=\"M 10.6875 12.40625 \r\nL 21 12.40625 \r\nL 21 0 \r\nL 10.6875 0 \r\nz\r\n\" id=\"DejaVuSans-46\"/>\r\n       </defs>\r\n       <use xlink:href=\"#DejaVuSans-8722\"/>\r\n       <use x=\"83.789062\" xlink:href=\"#DejaVuSans-50\"/>\r\n       <use x=\"147.412109\" xlink:href=\"#DejaVuSans-46\"/>\r\n       <use x=\"179.199219\" xlink:href=\"#DejaVuSans-48\"/>\r\n      </g>\r\n     </g>\r\n    </g>\r\n    <g id=\"ytick_2\">\r\n     <g id=\"line2d_10\">\r\n      <g>\r\n       <use style=\"stroke:#000000;stroke-width:0.8;\" x=\"38.482813\" xlink:href=\"#ma701f7d0e0\" y=\"190.303922\"/>\r\n      </g>\r\n     </g>\r\n     <g id=\"text_10\">\r\n      <!-- −1.5 -->\r\n      <g transform=\"translate(7.2 194.103141)scale(0.1 -0.1)\">\r\n       <defs>\r\n        <path d=\"M 10.796875 72.90625 \r\nL 49.515625 72.90625 \r\nL 49.515625 64.59375 \r\nL 19.828125 64.59375 \r\nL 19.828125 46.734375 \r\nQ 21.96875 47.46875 24.109375 47.828125 \r\nQ 26.265625 48.1875 28.421875 48.1875 \r\nQ 40.625 48.1875 47.75 41.5 \r\nQ 54.890625 34.8125 54.890625 23.390625 \r\nQ 54.890625 11.625 47.5625 5.09375 \r\nQ 40.234375 -1.421875 26.90625 -1.421875 \r\nQ 22.3125 -1.421875 17.546875 -0.640625 \r\nQ 12.796875 0.140625 7.71875 1.703125 \r\nL 7.71875 11.625 \r\nQ 12.109375 9.234375 16.796875 8.0625 \r\nQ 21.484375 6.890625 26.703125 6.890625 \r\nQ 35.15625 6.890625 40.078125 11.328125 \r\nQ 45.015625 15.765625 45.015625 23.390625 \r\nQ 45.015625 31 40.078125 35.4375 \r\nQ 35.15625 39.890625 26.703125 39.890625 \r\nQ 22.75 39.890625 18.8125 39.015625 \r\nQ 14.890625 38.140625 10.796875 36.28125 \r\nz\r\n\" id=\"DejaVuSans-53\"/>\r\n       </defs>\r\n       <use xlink:href=\"#DejaVuSans-8722\"/>\r\n       <use x=\"83.789062\" xlink:href=\"#DejaVuSans-49\"/>\r\n       <use x=\"147.412109\" xlink:href=\"#DejaVuSans-46\"/>\r\n       <use x=\"179.199219\" xlink:href=\"#DejaVuSans-53\"/>\r\n      </g>\r\n     </g>\r\n    </g>\r\n    <g id=\"ytick_3\">\r\n     <g id=\"line2d_11\">\r\n      <g>\r\n       <use style=\"stroke:#000000;stroke-width:0.8;\" x=\"38.482813\" xlink:href=\"#ma701f7d0e0\" y=\"165.213133\"/>\r\n      </g>\r\n     </g>\r\n     <g id=\"text_11\">\r\n      <!-- −1.0 -->\r\n      <g transform=\"translate(7.2 169.012352)scale(0.1 -0.1)\">\r\n       <use xlink:href=\"#DejaVuSans-8722\"/>\r\n       <use x=\"83.789062\" xlink:href=\"#DejaVuSans-49\"/>\r\n       <use x=\"147.412109\" xlink:href=\"#DejaVuSans-46\"/>\r\n       <use x=\"179.199219\" xlink:href=\"#DejaVuSans-48\"/>\r\n      </g>\r\n     </g>\r\n    </g>\r\n    <g id=\"ytick_4\">\r\n     <g id=\"line2d_12\">\r\n      <g>\r\n       <use style=\"stroke:#000000;stroke-width:0.8;\" x=\"38.482813\" xlink:href=\"#ma701f7d0e0\" y=\"140.122344\"/>\r\n      </g>\r\n     </g>\r\n     <g id=\"text_12\">\r\n      <!-- −0.5 -->\r\n      <g transform=\"translate(7.2 143.921562)scale(0.1 -0.1)\">\r\n       <use xlink:href=\"#DejaVuSans-8722\"/>\r\n       <use x=\"83.789062\" xlink:href=\"#DejaVuSans-48\"/>\r\n       <use x=\"147.412109\" xlink:href=\"#DejaVuSans-46\"/>\r\n       <use x=\"179.199219\" xlink:href=\"#DejaVuSans-53\"/>\r\n      </g>\r\n     </g>\r\n    </g>\r\n    <g id=\"ytick_5\">\r\n     <g id=\"line2d_13\">\r\n      <g>\r\n       <use style=\"stroke:#000000;stroke-width:0.8;\" x=\"38.482813\" xlink:href=\"#ma701f7d0e0\" y=\"115.031554\"/>\r\n      </g>\r\n     </g>\r\n     <g id=\"text_13\">\r\n      <!-- 0.0 -->\r\n      <g transform=\"translate(15.579688 118.830773)scale(0.1 -0.1)\">\r\n       <use xlink:href=\"#DejaVuSans-48\"/>\r\n       <use x=\"63.623047\" xlink:href=\"#DejaVuSans-46\"/>\r\n       <use x=\"95.410156\" xlink:href=\"#DejaVuSans-48\"/>\r\n      </g>\r\n     </g>\r\n    </g>\r\n    <g id=\"ytick_6\">\r\n     <g id=\"line2d_14\">\r\n      <g>\r\n       <use style=\"stroke:#000000;stroke-width:0.8;\" x=\"38.482813\" xlink:href=\"#ma701f7d0e0\" y=\"89.940765\"/>\r\n      </g>\r\n     </g>\r\n     <g id=\"text_14\">\r\n      <!-- 0.5 -->\r\n      <g transform=\"translate(15.579688 93.739984)scale(0.1 -0.1)\">\r\n       <use xlink:href=\"#DejaVuSans-48\"/>\r\n       <use x=\"63.623047\" xlink:href=\"#DejaVuSans-46\"/>\r\n       <use x=\"95.410156\" xlink:href=\"#DejaVuSans-53\"/>\r\n      </g>\r\n     </g>\r\n    </g>\r\n    <g id=\"ytick_7\">\r\n     <g id=\"line2d_15\">\r\n      <g>\r\n       <use style=\"stroke:#000000;stroke-width:0.8;\" x=\"38.482813\" xlink:href=\"#ma701f7d0e0\" y=\"64.849976\"/>\r\n      </g>\r\n     </g>\r\n     <g id=\"text_15\">\r\n      <!-- 1.0 -->\r\n      <g transform=\"translate(15.579688 68.649195)scale(0.1 -0.1)\">\r\n       <use xlink:href=\"#DejaVuSans-49\"/>\r\n       <use x=\"63.623047\" xlink:href=\"#DejaVuSans-46\"/>\r\n       <use x=\"95.410156\" xlink:href=\"#DejaVuSans-48\"/>\r\n      </g>\r\n     </g>\r\n    </g>\r\n    <g id=\"ytick_8\">\r\n     <g id=\"line2d_16\">\r\n      <g>\r\n       <use style=\"stroke:#000000;stroke-width:0.8;\" x=\"38.482813\" xlink:href=\"#ma701f7d0e0\" y=\"39.759187\"/>\r\n      </g>\r\n     </g>\r\n     <g id=\"text_16\">\r\n      <!-- 1.5 -->\r\n      <g transform=\"translate(15.579688 43.558406)scale(0.1 -0.1)\">\r\n       <use xlink:href=\"#DejaVuSans-49\"/>\r\n       <use x=\"63.623047\" xlink:href=\"#DejaVuSans-46\"/>\r\n       <use x=\"95.410156\" xlink:href=\"#DejaVuSans-53\"/>\r\n      </g>\r\n     </g>\r\n    </g>\r\n    <g id=\"ytick_9\">\r\n     <g id=\"line2d_17\">\r\n      <g>\r\n       <use style=\"stroke:#000000;stroke-width:0.8;\" x=\"38.482813\" xlink:href=\"#ma701f7d0e0\" y=\"14.668398\"/>\r\n      </g>\r\n     </g>\r\n     <g id=\"text_17\">\r\n      <!-- 2.0 -->\r\n      <g transform=\"translate(15.579688 18.467616)scale(0.1 -0.1)\">\r\n       <use xlink:href=\"#DejaVuSans-50\"/>\r\n       <use x=\"63.623047\" xlink:href=\"#DejaVuSans-46\"/>\r\n       <use x=\"95.410156\" xlink:href=\"#DejaVuSans-48\"/>\r\n      </g>\r\n     </g>\r\n    </g>\r\n   </g>\r\n   <g id=\"line2d_18\">\r\n    <path clip-path=\"url(#p55c2d0690f)\" d=\"M 53.700994 107.883119 \r\nL 53.904039 110.851012 \r\nL 54.107083 112.140901 \r\nL 54.310128 112.562402 \r\nL 54.919261 112.898222 \r\nL 55.934483 113.073998 \r\nL 58.574061 113.218293 \r\nL 66.695839 113.426002 \r\nL 75.629795 113.604913 \r\nL 84.766796 113.755439 \r\nL 90.045952 113.826285 \r\nL 103.040797 113.864855 \r\nL 106.086463 113.867009 \r\nL 115.426508 113.864333 \r\nL 118.67522 113.870107 \r\nL 123.345242 113.869652 \r\nL 155.020177 113.867914 \r\nL 155.020177 113.867914 \r\n\" style=\"fill:none;stroke:#1f77b4;stroke-linecap:square;stroke-width:1.5;\"/>\r\n   </g>\r\n   <g id=\"line2d_19\">\r\n    <path clip-path=\"url(#p55c2d0690f)\" d=\"M 53.700994 123.66655 \r\nL 54.107083 85.06523 \r\nL 54.310128 76.739016 \r\nL 54.513172 79.26513 \r\nL 54.716217 143.535314 \r\nL 54.919261 76.065995 \r\nL 55.122305 152.326442 \r\nL 55.32535 137.128532 \r\nL 55.528394 93.710254 \r\nL 55.731439 143.732688 \r\nL 55.934483 93.708157 \r\nL 56.137528 122.376431 \r\nL 56.340572 109.209803 \r\nL 56.543617 119.71557 \r\nL 56.746661 143.340622 \r\nL 57.15275 51.768342 \r\nL 57.558839 116.487612 \r\nL 57.761883 49.70929 \r\nL 57.964928 105.68599 \r\nL 58.167972 73.833736 \r\nL 58.371017 79.293553 \r\nL 58.574061 46.403184 \r\nL 58.777106 49.362389 \r\nL 58.98015 125.424749 \r\nL 59.183195 130.813272 \r\nL 59.386239 57.299111 \r\nL 59.589283 46.889469 \r\nL 59.792328 87.402095 \r\nL 59.995372 66.728889 \r\nL 60.198417 128.240751 \r\nL 60.401461 112.385698 \r\nL 60.604506 118.66744 \r\nL 60.80755 72.550899 \r\nL 61.010595 112.298442 \r\nL 61.213639 125.369936 \r\nL 61.619728 61.954284 \r\nL 61.822772 71.218844 \r\nL 62.025817 95.33048 \r\nL 62.228861 44.195195 \r\nL 62.431906 99.456157 \r\nL 62.63495 100.386856 \r\nL 62.837995 69.706462 \r\nL 63.041039 77.293357 \r\nL 63.244084 79.929369 \r\nL 63.447128 108.46967 \r\nL 63.650173 72.889579 \r\nL 63.853217 96.990834 \r\nL 64.056261 83.092596 \r\nL 64.46235 27.410447 \r\nL 64.665395 43.287768 \r\nL 64.868439 79.780243 \r\nL 65.274528 44.695592 \r\nL 65.477573 77.633974 \r\nL 65.680617 82.659301 \r\nL 65.883662 104.868496 \r\nL 66.086706 44.194187 \r\nL 66.28975 33.59683 \r\nL 66.492795 85.662326 \r\nL 66.695839 38.503072 \r\nL 66.898884 55.617353 \r\nL 67.101928 37.90843 \r\nL 67.304973 75.079024 \r\nL 67.508017 41.11322 \r\nL 67.914106 106.853678 \r\nL 68.117151 60.343189 \r\nL 68.320195 69.862323 \r\nL 68.523239 89.959426 \r\nL 68.726284 25.70295 \r\nL 69.132373 111.169461 \r\nL 69.335417 76.703 \r\nL 69.538462 72.429335 \r\nL 69.741506 28.556998 \r\nL 69.944551 34.844402 \r\nL 70.147595 95.023009 \r\nL 70.35064 30.944048 \r\nL 70.553684 90.348318 \r\nL 70.756728 81.012885 \r\nL 70.959773 107.740085 \r\nL 71.162817 110.033349 \r\nL 71.365862 47.414918 \r\nL 71.568906 23.257653 \r\nL 71.771951 66.644955 \r\nL 71.974995 31.628012 \r\nL 72.17804 36.918326 \r\nL 72.381084 50.12969 \r\nL 72.584129 18.937387 \r\nL 72.787173 36.901244 \r\nL 72.990217 90.14205 \r\nL 73.193262 38.872279 \r\nL 73.396306 48.89533 \r\nL 73.802395 111.467012 \r\nL 74.00544 98.069354 \r\nL 74.208484 39.996597 \r\nL 74.411529 95.515977 \r\nL 74.614573 20.769307 \r\nL 75.020662 74.00037 \r\nL 75.223706 65.160406 \r\nL 75.426751 61.634547 \r\nL 75.629795 26.246638 \r\nL 75.83284 107.826165 \r\nL 76.035884 97.303005 \r\nL 76.238929 54.023423 \r\nL 76.441973 101.782017 \r\nL 76.645018 39.039232 \r\nL 76.848062 92.352037 \r\nL 77.254151 123.689233 \r\nL 77.457195 69.383637 \r\nL 77.66024 47.036763 \r\nL 77.863284 103.10534 \r\nL 78.066329 39.230165 \r\nL 78.269373 56.015522 \r\nL 78.472418 126.671856 \r\nL 78.675462 76.125946 \r\nL 78.878507 77.432699 \r\nL 79.081551 114.870133 \r\nL 79.48764 90.818239 \r\nL 79.690684 132.820368 \r\nL 79.893729 123.457657 \r\nL 80.096773 122.884462 \r\nL 80.299818 102.14828 \r\nL 80.502862 66.077541 \r\nL 80.705907 58.537205 \r\nL 80.908951 126.519486 \r\nL 81.111996 68.302872 \r\nL 81.31504 77.363551 \r\nL 81.518084 56.205719 \r\nL 81.721129 49.294613 \r\nL 81.924173 134.96942 \r\nL 82.127218 140.306215 \r\nL 82.330262 69.088401 \r\nL 82.533307 134.031148 \r\nL 82.736351 131.740265 \r\nL 82.939396 63.711296 \r\nL 83.14244 58.969743 \r\nL 83.345485 122.221265 \r\nL 83.548529 70.642627 \r\nL 83.751573 69.952936 \r\nL 83.954618 96.380503 \r\nL 84.157662 101.317084 \r\nL 84.360707 101.333485 \r\nL 84.563751 129.885484 \r\nL 84.766796 99.011777 \r\nL 84.96984 137.677785 \r\nL 85.172885 145.298812 \r\nL 85.578974 94.29886 \r\nL 85.782018 103.768346 \r\nL 85.985062 70.301389 \r\nL 86.188107 103.262084 \r\nL 86.391151 154.960983 \r\nL 86.594196 153.963034 \r\nL 86.79724 161.800614 \r\nL 87.000285 152.949675 \r\nL 87.406374 89.9854 \r\nL 87.609418 85.392953 \r\nL 87.812463 135.936563 \r\nL 88.015507 121.002624 \r\nL 88.218551 96.822763 \r\nL 88.421596 147.683886 \r\nL 88.62464 120.183211 \r\nL 88.827685 163.451224 \r\nL 89.030729 134.045581 \r\nL 89.233774 165.44591 \r\nL 89.436818 137.341691 \r\nL 89.639863 144.855045 \r\nL 89.842907 142.118369 \r\nL 90.248996 173.765768 \r\nL 90.45204 160.648379 \r\nL 90.655085 165.156286 \r\nL 90.858129 116.381688 \r\nL 91.061174 118.986824 \r\nL 91.264218 133.140588 \r\nL 91.467263 183.480404 \r\nL 91.670307 136.649958 \r\nL 91.873352 186.352833 \r\nL 92.076396 193.293298 \r\nL 92.279441 160.529468 \r\nL 92.482485 172.562927 \r\nL 92.888574 105.040477 \r\nL 93.091618 126.74428 \r\nL 93.294663 122.711566 \r\nL 93.497707 105.013308 \r\nL 93.700752 137.516083 \r\nL 93.903796 143.865713 \r\nL 94.106841 142.121738 \r\nL 94.309885 116.295728 \r\nL 94.51293 164.888211 \r\nL 94.715974 124.649529 \r\nL 94.919018 139.626644 \r\nL 95.325107 204.901758 \r\nL 95.528152 185.775998 \r\nL 95.731196 137.143157 \r\nL 95.934241 149.751826 \r\nL 96.137285 180.890234 \r\nL 96.543374 143.078465 \r\nL 96.746419 197.14425 \r\nL 96.949463 166.961773 \r\nL 97.152507 168.962642 \r\nL 97.355552 156.730634 \r\nL 97.558596 159.199914 \r\nL 97.761641 175.049095 \r\nL 97.964685 135.760741 \r\nL 98.16773 205.90073 \r\nL 98.370774 209.399274 \r\nL 98.776863 123.549498 \r\nL 98.979908 185.947153 \r\nL 99.182952 196.752272 \r\nL 99.385996 121.109212 \r\nL 99.589041 197.585457 \r\nL 99.792085 177.030729 \r\nL 99.99513 141.646872 \r\nL 100.198174 188.768434 \r\nL 100.401219 192.009692 \r\nL 100.604263 175.269557 \r\nL 100.807308 136.24087 \r\nL 101.010352 123.896698 \r\nL 101.213397 212.227775 \r\nL 101.416441 198.820087 \r\nL 101.619485 119.185006 \r\nL 101.82253 155.881179 \r\nL 102.025574 159.996571 \r\nL 102.228619 133.630247 \r\nL 102.431663 211.209468 \r\nL 102.634708 213.715787 \r\nL 102.837752 117.885916 \r\nL 103.243841 139.681878 \r\nL 103.446886 198.887535 \r\nL 103.852974 120.030702 \r\nL 104.056019 120.165206 \r\nL 104.259063 212.680447 \r\nL 104.462108 137.811053 \r\nL 104.665152 212.413128 \r\nL 104.868197 113.938114 \r\nL 105.071241 170.545167 \r\nL 105.274286 114.336593 \r\nL 105.47733 174.763744 \r\nL 105.680375 181.858156 \r\nL 105.883419 179.132254 \r\nL 106.086463 137.117748 \r\nL 106.289508 189.967806 \r\nL 106.492552 122.826724 \r\nL 106.695597 149.795489 \r\nL 106.898641 111.227302 \r\nL 107.101686 108.989741 \r\nL 107.30473 188.940174 \r\nL 107.507775 111.052323 \r\nL 107.710819 201.742174 \r\nL 107.913864 203.03525 \r\nL 108.116908 110.505083 \r\nL 108.319952 108.0317 \r\nL 108.522997 189.213433 \r\nL 108.726041 158.944716 \r\nL 108.929086 153.098314 \r\nL 109.13213 115.671506 \r\nL 109.335175 138.302618 \r\nL 109.538219 122.880329 \r\nL 109.741264 151.214133 \r\nL 110.147352 124.614095 \r\nL 110.350397 123.606989 \r\nL 110.553441 196.716675 \r\nL 110.756486 186.079334 \r\nL 110.95953 158.811291 \r\nL 111.162575 188.358371 \r\nL 111.365619 155.241509 \r\nL 111.568664 153.749244 \r\nL 111.771708 99.646645 \r\nL 111.974753 134.237135 \r\nL 112.380841 100.369556 \r\nL 112.78693 187.437338 \r\nL 112.989975 158.094734 \r\nL 113.193019 104.109506 \r\nL 113.396064 94.39026 \r\nL 113.599108 148.696243 \r\nL 113.802153 153.534427 \r\nL 114.005197 89.312388 \r\nL 114.208242 145.91536 \r\nL 114.411286 114.734046 \r\nL 114.817375 168.440807 \r\nL 115.223464 83.661713 \r\nL 115.629553 153.395836 \r\nL 115.832597 104.874947 \r\nL 116.035642 95.258721 \r\nL 116.238686 139.186601 \r\nL 116.644775 100.939721 \r\nL 116.847819 152.288214 \r\nL 117.050864 70.619352 \r\nL 117.253908 121.087433 \r\nL 117.456953 67.050765 \r\nL 117.659997 145.343153 \r\nL 117.863042 114.81309 \r\nL 118.269131 160.34046 \r\nL 118.67522 118.899356 \r\nL 118.878264 115.099312 \r\nL 119.081308 68.40368 \r\nL 119.487397 111.798364 \r\nL 119.690442 55.259504 \r\nL 120.096531 120.083488 \r\nL 120.299575 82.116717 \r\nL 120.50262 100.786233 \r\nL 120.705664 61.142724 \r\nL 120.908709 58.652302 \r\nL 121.111753 110.816697 \r\nL 121.314797 90.310171 \r\nL 121.517842 119.144969 \r\nL 121.923931 44.388471 \r\nL 122.126975 59.517245 \r\nL 122.533064 131.722527 \r\nL 122.736109 43.398489 \r\nL 122.939153 100.450249 \r\nL 123.142198 109.248302 \r\nL 123.345242 106.097851 \r\nL 123.548286 87.840295 \r\nL 123.751331 40.163522 \r\nL 123.954375 36.352754 \r\nL 124.15742 104.852179 \r\nL 124.360464 98.509247 \r\nL 124.563509 81.641169 \r\nL 124.766553 131.422806 \r\nL 124.969598 113.947363 \r\nL 125.172642 36.812165 \r\nL 125.375687 127.081062 \r\nL 125.578731 119.19232 \r\nL 125.98482 54.541989 \r\nL 126.187864 100.30241 \r\nL 126.390909 95.930607 \r\nL 126.593953 95.345879 \r\nL 126.796998 37.808543 \r\nL 127.000042 102.091203 \r\nL 127.406131 23.270465 \r\nL 127.81222 88.779667 \r\nL 128.015264 45.193584 \r\nL 128.218309 25.777331 \r\nL 128.421353 83.541228 \r\nL 128.624398 49.505429 \r\nL 128.827442 112.506587 \r\nL 129.030487 29.828634 \r\nL 129.233531 109.609942 \r\nL 129.63962 64.052499 \r\nL 129.842665 91.689329 \r\nL 130.045709 52.641637 \r\nL 130.248753 61.840645 \r\nL 130.451798 45.205484 \r\nL 130.654842 81.360721 \r\nL 131.060931 34.885464 \r\nL 131.263976 34.811994 \r\nL 131.46702 44.289357 \r\nL 131.670065 61.398732 \r\nL 131.873109 48.054682 \r\nL 132.076154 106.761708 \r\nL 132.482242 28.92629 \r\nL 132.685287 54.21177 \r\nL 132.888331 20.594362 \r\nL 133.091376 88.747461 \r\nL 133.29442 105.371306 \r\nL 133.497465 52.143561 \r\nL 133.700509 105.922925 \r\nL 133.903554 36.587105 \r\nL 134.106598 89.373392 \r\nL 134.512687 33.880947 \r\nL 134.715731 36.339768 \r\nL 134.918776 65.787955 \r\nL 135.12182 17.782496 \r\nL 135.527909 88.112349 \r\nL 135.730954 85.954898 \r\nL 135.933998 41.9082 \r\nL 136.137043 72.927235 \r\nL 136.340087 75.039255 \r\nL 136.543132 115.306859 \r\nL 136.746176 87.036186 \r\nL 136.94922 31.655027 \r\nL 137.355309 43.801955 \r\nL 137.558354 116.790045 \r\nL 137.761398 116.808035 \r\nL 138.370532 29.53809 \r\nL 138.573576 82.717581 \r\nL 138.77662 92.858168 \r\nL 139.182709 31.05612 \r\nL 139.385754 49.272272 \r\nL 139.588798 37.990034 \r\nL 139.791843 106.261714 \r\nL 139.994887 112.531709 \r\nL 140.197932 71.151264 \r\nL 140.400976 56.393577 \r\nL 140.604021 31.181784 \r\nL 140.807065 90.397792 \r\nL 141.010109 93.578388 \r\nL 141.416198 61.008879 \r\nL 141.619243 73.660639 \r\nL 141.822287 58.633986 \r\nL 142.025332 93.774683 \r\nL 142.228376 46.169383 \r\nL 142.431421 115.109224 \r\nL 142.634465 102.551713 \r\nL 142.83751 57.404218 \r\nL 143.040554 102.171938 \r\nL 143.243598 69.622814 \r\nL 143.446643 108.62791 \r\nL 143.649687 119.576151 \r\nL 143.852732 109.025154 \r\nL 144.055776 51.049668 \r\nL 144.461865 119.204543 \r\nL 144.66491 110.459937 \r\nL 144.867954 143.344033 \r\nL 145.070999 68.677071 \r\nL 145.274043 122.801189 \r\nL 145.477087 86.368067 \r\nL 145.680132 144.79119 \r\nL 145.883176 64.499479 \r\nL 146.086221 130.387726 \r\nL 146.289265 149.676006 \r\nL 146.49231 120.886742 \r\nL 146.695354 59.697873 \r\nL 146.898399 126.695292 \r\nL 147.101443 103.49744 \r\nL 147.507532 126.461573 \r\nL 147.710576 63.90955 \r\nL 147.913621 78.787281 \r\nL 148.116665 82.499788 \r\nL 148.31971 107.163053 \r\nL 148.522754 78.178214 \r\nL 148.725799 115.955398 \r\nL 148.928843 116.278963 \r\nL 149.131888 114.413139 \r\nL 149.334932 141.19631 \r\nL 149.537977 73.276353 \r\nL 149.741021 141.01123 \r\nL 149.944065 148.094941 \r\nL 150.14711 144.520635 \r\nL 150.350154 87.952269 \r\nL 150.553199 93.848705 \r\nL 150.959288 171.587983 \r\nL 151.162332 76.033278 \r\nL 151.365377 161.646347 \r\nL 151.568421 90.478661 \r\nL 151.771466 98.4522 \r\nL 151.97451 83.73374 \r\nL 152.177554 101.229791 \r\nL 152.380599 146.556079 \r\nL 152.583643 157.495181 \r\nL 152.786688 143.815568 \r\nL 152.989732 162.283744 \r\nL 153.192777 111.384841 \r\nL 153.395821 101.58168 \r\nL 153.598866 120.577388 \r\nL 153.80191 167.693422 \r\nL 154.004955 183.524006 \r\nL 154.207999 129.922103 \r\nL 154.411043 142.625442 \r\nL 154.614088 169.896089 \r\nL 155.223221 128.991411 \r\nL 155.426266 145.512099 \r\nL 155.62931 96.682872 \r\nL 155.832355 190.349259 \r\nL 156.035399 129.730717 \r\nL 156.238444 105.294062 \r\nL 156.441488 173.614911 \r\nL 156.644532 176.673134 \r\nL 156.847577 122.372429 \r\nL 157.050621 150.796104 \r\nL 157.253666 100.755883 \r\nL 157.45671 141.917431 \r\nL 157.659755 109.059646 \r\nL 157.862799 201.194553 \r\nL 158.065844 187.575919 \r\nL 158.268888 135.046363 \r\nL 158.471933 162.574345 \r\nL 158.674977 121.091925 \r\nL 158.878021 162.550234 \r\nL 159.081066 134.62488 \r\nL 159.28411 149.933165 \r\nL 159.487155 195.275547 \r\nL 159.690199 135.791436 \r\nL 159.893244 137.474367 \r\nL 160.096288 197.257755 \r\nL 160.299333 152.962447 \r\nL 160.502377 176.139163 \r\nL 160.705422 164.225004 \r\nL 160.908466 168.279754 \r\nL 161.11151 200.607997 \r\nL 161.314555 195.659774 \r\nL 161.517599 203.184524 \r\nL 161.720644 192.941099 \r\nL 161.923688 127.041641 \r\nL 162.126733 210.455489 \r\nL 162.532822 133.11681 \r\nL 162.735866 203.702497 \r\nL 162.938911 191.154665 \r\nL 163.141955 141.225048 \r\nL 163.548044 158.11639 \r\nL 163.751088 197.56224 \r\nL 163.954133 135.192598 \r\nL 164.157177 200.867169 \r\nL 164.360222 201.636953 \r\nL 164.563266 135.459247 \r\nL 164.766311 178.26082 \r\nL 165.172399 187.420219 \r\nL 165.375444 182.778993 \r\nL 165.578488 181.197296 \r\nL 165.781533 145.455539 \r\nL 165.984577 191.177131 \r\nL 166.187622 182.565188 \r\nL 166.390666 137.218314 \r\nL 166.593711 123.360088 \r\nL 166.796755 153.366104 \r\nL 166.9998 204.167891 \r\nL 167.202844 160.188572 \r\nL 167.405888 151.343947 \r\nL 167.608933 182.616941 \r\nL 167.811977 130.802406 \r\nL 168.015022 135.158639 \r\nL 168.218066 155.638967 \r\nL 168.421111 198.533102 \r\nL 168.624155 142.785531 \r\nL 168.8272 122.587505 \r\nL 169.030244 186.99828 \r\nL 169.233289 115.515414 \r\nL 169.436333 133.936146 \r\nL 169.639377 180.801148 \r\nL 169.842422 148.613843 \r\nL 170.248511 199.638036 \r\nL 170.451555 126.430543 \r\nL 170.6546 141.828395 \r\nL 170.857644 146.516659 \r\nL 171.060689 193.342426 \r\nL 171.263733 169.19127 \r\nL 171.466778 118.522006 \r\nL 171.669822 189.535646 \r\nL 171.872866 200.522855 \r\nL 172.075911 185.53507 \r\nL 172.278955 178.984074 \r\nL 172.482 124.801834 \r\nL 172.685044 137.743596 \r\nL 172.888089 200.379963 \r\nL 173.091133 199.697946 \r\nL 173.294178 143.835841 \r\nL 173.497222 136.456088 \r\nL 173.700267 186.69762 \r\nL 173.903311 137.273858 \r\nL 174.106355 173.66237 \r\nL 174.512444 155.200601 \r\nL 174.715489 183.775476 \r\nL 174.918533 97.970873 \r\nL 175.121578 96.080982 \r\nL 175.324622 148.318911 \r\nL 175.527667 166.29906 \r\nL 175.730711 95.079397 \r\nL 176.1368 116.865656 \r\nL 176.339844 142.320141 \r\nL 176.542889 146.570178 \r\nL 176.745933 108.658296 \r\nL 176.948978 133.816613 \r\nL 177.152022 118.750704 \r\nL 177.355067 127.298095 \r\nL 177.558111 111.712468 \r\nL 177.761156 172.804411 \r\nL 177.9642 143.402471 \r\nL 178.167245 163.578311 \r\nL 178.370289 155.09576 \r\nL 178.573333 158.267161 \r\nL 178.776378 126.936691 \r\nL 178.979422 174.569801 \r\nL 179.182467 78.748952 \r\nL 179.588556 168.247169 \r\nL 179.7916 104.078965 \r\nL 179.994645 144.551291 \r\nL 180.197689 159.825385 \r\nL 180.400734 86.210061 \r\nL 180.603778 148.678639 \r\nL 181.009867 160.824987 \r\nL 181.212911 92.412463 \r\nL 181.415956 98.764119 \r\nL 181.619 162.702984 \r\nL 181.822045 140.294729 \r\nL 182.025089 90.797518 \r\nL 182.228134 145.252188 \r\nL 182.431178 101.638764 \r\nL 182.634223 137.134283 \r\nL 182.837267 112.447487 \r\nL 183.040311 69.486532 \r\nL 183.243356 125.187575 \r\nL 183.4464 85.727874 \r\nL 183.852489 142.971183 \r\nL 184.055534 115.458221 \r\nL 184.258578 66.255647 \r\nL 184.461623 52.073471 \r\nL 184.664667 63.964884 \r\nL 184.867712 131.553254 \r\nL 185.070756 112.220612 \r\nL 185.2738 62.545684 \r\nL 185.476845 89.452642 \r\nL 185.679889 66.228031 \r\nL 185.882934 65.161239 \r\nL 186.085978 135.189748 \r\nL 186.695112 44.821961 \r\nL 186.898156 48.679689 \r\nL 187.304245 127.54157 \r\nL 187.507289 95.715507 \r\nL 187.710334 81.716999 \r\nL 187.913378 43.930978 \r\nL 188.116423 104.313511 \r\nL 188.319467 102.131857 \r\nL 188.522512 69.419093 \r\nL 188.725556 80.910446 \r\nL 188.928601 111.216361 \r\nL 189.131645 115.624163 \r\nL 189.537734 50.519785 \r\nL 189.740778 49.893939 \r\nL 189.943823 29.458005 \r\nL 190.146867 88.329906 \r\nL 190.349912 86.762783 \r\nL 190.552956 125.30046 \r\nL 190.756001 41.584835 \r\nL 190.959045 59.391315 \r\nL 191.16209 46.444567 \r\nL 191.365134 75.927144 \r\nL 191.568179 30.267664 \r\nL 191.771223 119.177084 \r\nL 191.974267 110.024148 \r\nL 192.177312 83.368386 \r\nL 192.380356 112.095359 \r\nL 192.583401 111.364165 \r\nL 192.786445 62.857762 \r\nL 192.98949 97.644414 \r\nL 193.395579 25.28123 \r\nL 193.598623 35.51104 \r\nL 193.801667 92.923737 \r\nL 194.004712 108.535617 \r\nL 194.207756 21.866703 \r\nL 194.410801 17.136008 \r\nL 194.613845 79.096314 \r\nL 194.81689 70.201238 \r\nL 195.019934 101.624085 \r\nL 195.222979 44.727812 \r\nL 195.426023 73.480497 \r\nL 195.629068 35.056924 \r\nL 195.832112 57.563572 \r\nL 196.035156 111.081691 \r\nL 196.238201 81.651166 \r\nL 196.441245 34.027625 \r\nL 196.847334 51.583307 \r\nL 197.050379 47.54426 \r\nL 197.253423 54.308345 \r\nL 197.456468 50.699374 \r\nL 197.659512 52.81016 \r\nL 197.862557 61.594068 \r\nL 198.065601 39.153718 \r\nL 198.268645 78.213207 \r\nL 198.47169 67.713228 \r\nL 198.674734 75.251824 \r\nL 198.877779 94.698333 \r\nL 199.080823 83.562161 \r\nL 199.283868 110.5388 \r\nL 199.486912 83.601299 \r\nL 199.689957 77.303697 \r\nL 199.893001 107.382579 \r\nL 200.096046 94.899764 \r\nL 200.29909 92.270248 \r\nL 200.502134 94.794285 \r\nL 200.705179 82.802461 \r\nL 200.908223 103.7584 \r\nL 201.111268 45.24841 \r\nL 201.517357 107.170081 \r\nL 201.720401 60.296455 \r\nL 201.923446 102.281042 \r\nL 202.12649 114.94144 \r\nL 202.329535 104.854475 \r\nL 202.735623 52.642474 \r\nL 202.938668 58.389168 \r\nL 203.141712 122.793708 \r\nL 203.344757 44.259775 \r\nL 203.547801 90.76351 \r\nL 203.750846 56.829352 \r\nL 203.95389 122.378217 \r\nL 204.156935 86.761026 \r\nL 204.359979 124.955713 \r\nL 204.563024 45.649214 \r\nL 204.766068 109.487009 \r\nL 204.969112 61.238048 \r\nL 205.172157 101.831261 \r\nL 205.375201 116.76915 \r\nL 205.578246 37.714901 \r\nL 205.78129 72.106244 \r\nL 205.984335 43.194119 \r\nL 206.187379 102.578301 \r\nL 206.390424 50.846358 \r\nL 206.593468 40.41514 \r\nL 206.796513 96.069669 \r\nL 206.999557 45.808126 \r\nL 207.202601 103.748781 \r\nL 207.405646 105.641768 \r\nL 207.60869 39.136176 \r\nL 207.811735 44.34599 \r\nL 208.014779 117.86002 \r\nL 208.217824 57.662374 \r\nL 208.420868 108.207602 \r\nL 208.623913 45.197996 \r\nL 208.826957 59.096464 \r\nL 209.030002 54.483507 \r\nL 209.43609 117.640069 \r\nL 209.639135 128.277792 \r\nL 209.842179 96.069975 \r\nL 210.045224 82.606737 \r\nL 210.248268 76.513318 \r\nL 210.451313 134.826463 \r\nL 210.654357 99.113656 \r\nL 210.857402 110.103041 \r\nL 211.060446 133.95423 \r\nL 211.263491 100.339238 \r\nL 211.466535 129.132474 \r\nL 211.669579 104.115401 \r\nL 211.872624 138.725639 \r\nL 212.075668 69.484811 \r\nL 212.278713 126.871621 \r\nL 212.481757 100.550146 \r\nL 212.684802 150.569604 \r\nL 212.887846 100.579561 \r\nL 213.090891 137.5107 \r\nL 213.293935 69.81661 \r\nL 213.49698 127.261945 \r\nL 213.700024 106.862 \r\nL 213.903068 147.165213 \r\nL 214.106113 83.364692 \r\nL 214.309157 90.098168 \r\nL 214.512202 147.166974 \r\nL 214.715246 81.377513 \r\nL 214.918291 169.773601 \r\nL 215.121335 99.260104 \r\nL 215.32438 129.820762 \r\nL 215.527424 92.903554 \r\nL 215.933513 172.114587 \r\nL 216.136557 156.923751 \r\nL 216.339602 80.820162 \r\nL 216.542646 148.031662 \r\nL 216.745691 166.427523 \r\nL 216.948735 102.579093 \r\nL 217.15178 179.862729 \r\nL 217.354824 178.64468 \r\nL 217.557869 156.365302 \r\nL 217.760913 182.375065 \r\nL 217.963958 88.09789 \r\nL 218.370046 137.652451 \r\nL 218.573091 109.860685 \r\nL 218.776135 125.040215 \r\nL 218.97918 174.989295 \r\nL 219.182224 171.173935 \r\nL 219.385269 106.959702 \r\nL 219.588313 161.041368 \r\nL 219.791358 150.737046 \r\nL 219.994402 157.199622 \r\nL 220.197446 192.012457 \r\nL 220.400491 127.287379 \r\nL 220.603535 144.550256 \r\nL 220.80658 131.634001 \r\nL 221.009624 172.29542 \r\nL 221.212669 160.09248 \r\nL 221.415713 182.294464 \r\nL 222.024847 108.822217 \r\nL 222.430935 152.187635 \r\nL 222.63398 163.712777 \r\nL 222.837024 195.497674 \r\nL 223.040069 158.784209 \r\nL 223.243113 191.655091 \r\nL 223.446158 149.332619 \r\nL 223.852247 113.799277 \r\nL 224.055291 179.488328 \r\nL 224.258336 169.917955 \r\nL 224.46138 191.844426 \r\nL 224.664424 122.528596 \r\nL 225.070513 133.68021 \r\nL 225.273558 206.088233 \r\nL 225.476602 156.325683 \r\nL 225.679647 188.956069 \r\nL 225.882691 200.854824 \r\nL 226.085736 134.726626 \r\nL 226.28878 192.222602 \r\nL 226.491825 163.461029 \r\nL 226.694869 161.170474 \r\nL 226.897913 192.793098 \r\nL 227.100958 165.001864 \r\nL 227.304002 209.293896 \r\nL 227.507047 214.756364 \r\nL 227.710091 126.560494 \r\nL 227.913136 173.331456 \r\nL 228.11618 124.078673 \r\nL 228.319225 165.428178 \r\nL 228.522269 172.040716 \r\nL 228.725314 185.658345 \r\nL 228.928358 207.187322 \r\nL 229.537491 138.796398 \r\nL 229.740536 161.021684 \r\nL 229.94358 139.128253 \r\nL 230.146625 199.305312 \r\nL 230.552714 126.314164 \r\nL 230.755758 192.868627 \r\nL 230.958803 191.723207 \r\nL 231.161847 139.266967 \r\nL 231.364891 132.671003 \r\nL 231.567936 189.04686 \r\nL 231.77098 180.414676 \r\nL 231.974025 150.016801 \r\nL 232.177069 173.14713 \r\nL 232.380114 150.199937 \r\nL 232.583158 162.67797 \r\nL 232.786203 134.509861 \r\nL 232.989247 126.895811 \r\nL 233.192292 124.712727 \r\nL 233.395336 149.633373 \r\nL 233.59838 149.107577 \r\nL 233.801425 165.022811 \r\nL 234.004469 206.923727 \r\nL 234.207514 179.195064 \r\nL 234.410558 202.337803 \r\nL 234.816647 122.439614 \r\nL 235.019692 147.25707 \r\nL 235.222736 138.796014 \r\nL 235.425781 187.149567 \r\nL 235.628825 179.135915 \r\nL 235.831869 188.445538 \r\nL 236.034914 119.618885 \r\nL 236.237958 175.420893 \r\nL 236.441003 146.462015 \r\nL 236.644047 188.064538 \r\nL 236.847092 189.099719 \r\nL 237.050136 165.959529 \r\nL 237.253181 166.97501 \r\nL 237.456225 166.397784 \r\nL 237.65927 138.349583 \r\nL 237.862314 166.192508 \r\nL 238.065358 119.985625 \r\nL 238.268403 187.257715 \r\nL 238.674492 127.597002 \r\nL 238.877536 133.430088 \r\nL 239.080581 181.118723 \r\nL 239.283625 148.16701 \r\nL 239.48667 160.38896 \r\nL 239.689714 127.145853 \r\nL 239.892759 176.656995 \r\nL 240.095803 121.510105 \r\nL 240.501892 159.431495 \r\nL 240.704936 111.096271 \r\nL 240.907981 166.336312 \r\nL 241.111025 168.991894 \r\nL 241.31407 181.797617 \r\nL 241.517114 95.956528 \r\nL 241.720159 132.03768 \r\nL 241.923203 128.641023 \r\nL 242.126248 168.023373 \r\nL 242.329292 167.759906 \r\nL 242.938425 105.310435 \r\nL 243.14147 124.560137 \r\nL 243.344514 90.223177 \r\nL 243.750603 168.877282 \r\nL 243.953648 127.929843 \r\nL 244.156692 161.170053 \r\nL 244.359737 136.378346 \r\nL 244.562781 68.825676 \r\nL 244.765825 80.6493 \r\nL 244.96887 141.961215 \r\nL 245.171914 126.956266 \r\nL 245.374959 120.412543 \r\nL 245.578003 86.018601 \r\nL 245.781048 158.323198 \r\nL 245.984092 156.804388 \r\nL 246.187137 147.927816 \r\nL 246.390181 95.625112 \r\nL 246.593226 116.086851 \r\nL 246.79627 71.500477 \r\nL 246.999314 127.205066 \r\nL 247.405403 82.815918 \r\nL 248.014537 135.532572 \r\nL 248.217581 95.626922 \r\nL 248.420626 134.663786 \r\nL 248.62367 53.713487 \r\nL 249.029759 128.559017 \r\nL 249.232803 72.863891 \r\nL 249.435848 133.881321 \r\nL 249.638892 65.921105 \r\nL 250.044981 128.26235 \r\nL 250.248026 136.961565 \r\nL 250.45107 40.126896 \r\nL 250.654115 111.428399 \r\nL 250.857159 42.544108 \r\nL 251.060203 86.909665 \r\nL 251.263248 85.963265 \r\nL 251.466292 126.490871 \r\nL 251.669337 39.410349 \r\nL 252.075426 81.192345 \r\nL 252.27847 120.416803 \r\nL 252.481515 114.100504 \r\nL 252.684559 87.617517 \r\nL 252.887604 93.906534 \r\nL 253.090648 73.534311 \r\nL 253.293692 121.189775 \r\nL 253.496737 124.118282 \r\nL 253.699781 76.202073 \r\nL 253.902826 123.983046 \r\nL 254.10587 120.227602 \r\nL 254.308915 87.810099 \r\nL 254.511959 118.772918 \r\nL 254.715004 85.694752 \r\nL 254.918048 99.543627 \r\nL 255.121093 104.402587 \r\nL 255.324137 82.090981 \r\nL 255.527181 110.147114 \r\nL 255.730226 86.582472 \r\nL 255.93327 77.537842 \r\nL 256.136315 37.408777 \r\nL 256.339359 26.636281 \r\nL 256.542404 88.87298 \r\nL 256.745448 90.029619 \r\nL 256.948493 62.142162 \r\nL 257.151537 104.826489 \r\nL 257.354582 83.156364 \r\nL 257.557626 112.56915 \r\nL 257.76067 79.540089 \r\nL 257.963715 105.821477 \r\nL 258.166759 60.605425 \r\nL 258.369804 52.330333 \r\nL 258.572848 17.406442 \r\nL 258.775893 96.660187 \r\nL 258.978937 95.239898 \r\nL 259.181982 20.759457 \r\nL 259.385026 28.897245 \r\nL 259.588071 53.695872 \r\nL 259.791115 30.948261 \r\nL 259.994159 94.238656 \r\nL 260.197204 27.473174 \r\nL 260.400248 28.077198 \r\nL 260.603293 90.171076 \r\nL 260.806337 64.019996 \r\nL 261.009382 21.716477 \r\nL 261.212426 46.879602 \r\nL 261.415471 48.779208 \r\nL 261.618515 58.941055 \r\nL 261.82156 88.209856 \r\nL 262.024604 17.083636 \r\nL 262.227648 70.476835 \r\nL 262.430693 84.261953 \r\nL 262.633737 42.547036 \r\nL 262.836782 54.847968 \r\nL 263.039826 81.679918 \r\nL 263.242871 85.747721 \r\nL 263.64896 108.836471 \r\nL 263.852004 54.18265 \r\nL 264.055049 66.514609 \r\nL 264.461137 112.365852 \r\nL 264.664182 116.345158 \r\nL 264.867226 44.486939 \r\nL 265.070271 100.092273 \r\nL 265.273315 92.624488 \r\nL 265.47636 118.387396 \r\nL 265.679404 105.121349 \r\nL 265.882449 32.932035 \r\nL 266.085493 96.872193 \r\nL 266.288538 25.91356 \r\nL 266.491582 105.668505 \r\nL 266.694626 97.269028 \r\nL 266.897671 36.142321 \r\nL 267.100715 80.970751 \r\nL 267.30376 97.481001 \r\nL 267.506804 55.419172 \r\nL 267.709849 120.417796 \r\nL 267.912893 36.798247 \r\nL 268.115938 42.358986 \r\nL 268.318982 118.86382 \r\nL 268.522027 47.9918 \r\nL 268.725071 32.361443 \r\nL 268.928115 80.14028 \r\nL 269.334204 62.738727 \r\nL 269.537249 104.936076 \r\nL 269.740293 67.257342 \r\nL 269.943338 85.567059 \r\nL 270.146382 93.304463 \r\nL 270.349427 44.190045 \r\nL 270.552471 55.522291 \r\nL 270.755516 42.618344 \r\nL 270.95856 53.277165 \r\nL 271.161604 133.888794 \r\nL 271.364649 78.061538 \r\nL 271.567693 69.777919 \r\nL 271.770738 73.938146 \r\nL 271.973782 114.251137 \r\nL 272.176827 99.717606 \r\nL 272.379871 139.416903 \r\nL 272.582916 134.797938 \r\nL 272.78596 88.902697 \r\nL 272.989005 87.628698 \r\nL 273.192049 126.816968 \r\nL 273.395093 102.968808 \r\nL 273.598138 101.518462 \r\nL 273.801182 148.712134 \r\nL 274.004227 136.504542 \r\nL 274.410316 53.099614 \r\nL 274.816405 142.630598 \r\nL 275.019449 73.23696 \r\nL 275.425538 149.256689 \r\nL 275.628582 98.450452 \r\nL 275.831627 136.759573 \r\nL 276.034671 118.815952 \r\nL 276.237716 129.700781 \r\nL 276.44076 98.128684 \r\nL 276.846849 154.21772 \r\nL 277.049894 144.011425 \r\nL 277.455982 88.458579 \r\nL 277.659027 167.687612 \r\nL 277.862071 108.200838 \r\nL 278.065116 159.03443 \r\nL 278.471205 88.670523 \r\nL 278.674249 150.714886 \r\nL 279.080338 97.931207 \r\nL 279.283383 158.975768 \r\nL 279.486427 162.260882 \r\nL 279.689471 87.709319 \r\nL 279.892516 109.790496 \r\nL 280.09556 106.541729 \r\nL 280.298605 96.71623 \r\nL 280.501649 128.227658 \r\nL 280.704694 134.2879 \r\nL 280.907738 128.410522 \r\nL 281.110783 113.200918 \r\nL 281.516872 177.437091 \r\nL 281.719916 174.279348 \r\nL 281.92296 91.035037 \r\nL 282.126005 184.469771 \r\nL 282.329049 119.111484 \r\nL 282.532094 96.682391 \r\nL 282.735138 179.271282 \r\nL 282.938183 120.595563 \r\nL 283.141227 163.557766 \r\nL 283.344272 170.948197 \r\nL 283.547316 109.964541 \r\nL 283.750361 105.064385 \r\nL 283.953405 162.280015 \r\nL 284.156449 134.384945 \r\nL 284.359494 180.977075 \r\nL 284.562538 120.113896 \r\nL 284.765583 111.660879 \r\nL 284.968627 168.836227 \r\nL 285.374716 114.244725 \r\nL 285.577761 201.332431 \r\nL 285.780805 117.646882 \r\nL 286.186894 163.244385 \r\nL 286.389938 152.953827 \r\nL 286.592983 123.292589 \r\nL 286.796027 134.099389 \r\nL 286.999072 156.826061 \r\nL 287.202116 158.735482 \r\nL 287.405161 117.951705 \r\nL 287.608205 185.394495 \r\nL 287.81125 199.599812 \r\nL 288.014294 141.568521 \r\nL 288.217339 139.658864 \r\nL 288.420383 153.528327 \r\nL 288.623427 184.644497 \r\nL 288.826472 181.69255 \r\nL 289.029516 149.850294 \r\nL 289.232561 184.748482 \r\nL 289.435605 162.345851 \r\nL 289.63865 179.488443 \r\nL 289.841694 161.895306 \r\nL 290.044739 190.393664 \r\nL 290.247783 193.80495 \r\nL 290.450828 140.266724 \r\nL 290.653872 175.450982 \r\nL 290.856916 191.033861 \r\nL 291.059961 128.412615 \r\nL 291.46605 203.260926 \r\nL 291.669094 143.960131 \r\nL 291.872139 187.035302 \r\nL 292.075183 158.496826 \r\nL 292.278228 152.702662 \r\nL 292.481272 118.743571 \r\nL 292.684317 196.203109 \r\nL 292.887361 186.874212 \r\nL 293.090405 121.826007 \r\nL 293.496494 170.213892 \r\nL 293.699539 141.497743 \r\nL 293.902583 173.665026 \r\nL 294.105628 173.891362 \r\nL 294.308672 199.21878 \r\nL 294.511717 162.374802 \r\nL 294.714761 188.239512 \r\nL 294.917806 150.82428 \r\nL 295.12085 174.201039 \r\nL 295.323894 128.297375 \r\nL 295.526939 136.316721 \r\nL 295.729983 198.620246 \r\nL 295.933028 153.858322 \r\nL 296.136072 141.244614 \r\nL 296.339117 160.923594 \r\nL 296.542161 200.776096 \r\nL 296.745206 161.343606 \r\nL 296.94825 168.024237 \r\nL 297.151295 178.379344 \r\nL 297.354339 152.191376 \r\nL 297.557383 177.616492 \r\nL 297.760428 186.12771 \r\nL 297.963472 135.440944 \r\nL 298.166517 187.395492 \r\nL 298.369561 127.483134 \r\nL 298.572606 109.509804 \r\nL 298.77565 162.957445 \r\nL 298.978695 125.150542 \r\nL 299.181739 189.213552 \r\nL 299.384784 125.501877 \r\nL 299.587828 108.319712 \r\nL 299.993917 177.992076 \r\nL 300.196961 186.863182 \r\nL 300.400006 110.340828 \r\nL 300.60305 169.078592 \r\nL 300.806095 151.075604 \r\nL 301.009139 156.744363 \r\nL 301.212184 155.83976 \r\nL 301.618273 104.171936 \r\nL 301.821317 133.352828 \r\nL 302.024361 100.421481 \r\nL 302.227406 176.578108 \r\nL 302.43045 138.289862 \r\nL 302.633495 125.273523 \r\nL 303.039584 116.549194 \r\nL 303.242628 158.123581 \r\nL 303.445673 102.160353 \r\nL 303.648717 176.612213 \r\nL 304.25785 127.749375 \r\nL 304.460895 156.621673 \r\nL 304.663939 94.229814 \r\nL 305.070028 173.417576 \r\nL 305.273073 100.34682 \r\nL 305.476117 84.708198 \r\nL 305.679162 145.893865 \r\nL 305.882206 124.028647 \r\nL 306.08525 120.211856 \r\nL 306.288295 97.308284 \r\nL 306.491339 161.54833 \r\nL 306.694384 91.377564 \r\nL 306.897428 102.402411 \r\nL 307.100473 170.333823 \r\nL 307.303517 115.950764 \r\nL 307.506562 169.041195 \r\nL 307.709606 121.034408 \r\nL 307.912651 109.701373 \r\nL 308.115695 105.141653 \r\nL 308.318739 74.834075 \r\nL 308.521784 137.042266 \r\nL 308.724828 81.089195 \r\nL 308.927873 119.462531 \r\nL 309.333962 81.754743 \r\nL 309.537006 89.173469 \r\nL 309.740051 81.000954 \r\nL 309.943095 96.003089 \r\nL 310.349184 66.618672 \r\nL 310.552228 66.088573 \r\nL 310.755273 122.963118 \r\nL 310.958317 57.336601 \r\nL 311.161362 148.119199 \r\nL 311.364406 91.067221 \r\nL 311.567451 102.258454 \r\nL 311.770495 127.864162 \r\nL 311.97354 96.326721 \r\nL 312.176584 142.462922 \r\nL 312.582673 61.438169 \r\nL 312.785717 132.113543 \r\nL 312.988762 112.683148 \r\nL 313.191806 81.077489 \r\nL 313.394851 107.449212 \r\nL 313.597895 100.958299 \r\nL 313.80094 107.749844 \r\nL 314.003984 92.3935 \r\nL 314.207029 102.50833 \r\nL 314.410073 124.624017 \r\nL 314.613118 118.295978 \r\nL 314.816162 129.455029 \r\nL 315.222251 50.912774 \r\nL 315.425295 125.865554 \r\nL 315.62834 68.047244 \r\nL 315.831384 91.201981 \r\nL 316.034429 45.152978 \r\nL 316.237473 95.387899 \r\nL 316.440518 61.411672 \r\nL 316.643562 90.322691 \r\nL 316.846607 75.271782 \r\nL 317.252695 31.138354 \r\nL 317.45574 114.065895 \r\nL 317.658784 73.844895 \r\nL 317.861829 113.030275 \r\nL 318.064873 122.617715 \r\nL 318.267918 50.002282 \r\nL 318.470962 25.790614 \r\nL 318.877051 116.066096 \r\nL 319.080096 116.595881 \r\nL 319.28314 90.69453 \r\nL 319.486184 83.526348 \r\nL 319.689229 120.871985 \r\nL 319.892273 36.210265 \r\nL 320.095318 73.298751 \r\nL 320.298362 19.954797 \r\nL 320.501407 30.729783 \r\nL 320.704451 68.802766 \r\nL 320.907496 55.74388 \r\nL 321.11054 86.741751 \r\nL 321.313585 87.517936 \r\nL 321.516629 104.56736 \r\nL 321.719673 62.587513 \r\nL 321.922718 108.838428 \r\nL 322.125762 71.915853 \r\nL 322.328807 84.223084 \r\nL 322.531851 36.939684 \r\nL 322.734896 77.784335 \r\nL 322.93794 25.397479 \r\nL 323.140985 96.679229 \r\nL 323.344029 22.155022 \r\nL 323.750118 103.232461 \r\nL 323.953162 64.809173 \r\nL 324.156207 88.243697 \r\nL 324.359251 39.90344 \r\nL 324.562296 49.677983 \r\nL 324.76534 108.735434 \r\nL 325.171429 26.029119 \r\nL 325.374474 74.180718 \r\nL 325.577518 40.545066 \r\nL 325.780563 103.885411 \r\nL 325.983607 28.365 \r\nL 326.186651 65.072433 \r\nL 326.389696 20.543203 \r\nL 326.59274 61.883582 \r\nL 326.998829 18.638205 \r\nL 327.811007 112.952727 \r\nL 328.014052 74.111805 \r\nL 328.217096 76.44747 \r\nL 328.42014 35.580985 \r\nL 328.623185 99.551722 \r\nL 328.826229 44.389816 \r\nL 329.029274 115.550787 \r\nL 329.232318 30.777515 \r\nL 329.841452 94.44263 \r\nL 330.044496 103.069593 \r\nL 330.247541 63.303763 \r\nL 330.450585 81.429656 \r\nL 330.856674 32.689756 \r\nL 331.059718 94.596015 \r\nL 331.262763 59.630888 \r\nL 331.465807 83.03575 \r\nL 331.668852 121.792507 \r\nL 331.871896 64.951258 \r\nL 332.277985 126.658558 \r\nL 332.481029 81.318138 \r\nL 332.684074 120.213566 \r\nL 332.887118 67.079075 \r\nL 333.090163 78.00778 \r\nL 333.293207 81.370236 \r\nL 333.496252 38.310309 \r\nL 333.699296 44.74079 \r\nL 334.105385 76.707267 \r\nL 334.511474 135.468511 \r\nL 334.714518 125.106687 \r\nL 334.917563 105.804962 \r\nL 335.120607 119.054474 \r\nL 335.323652 82.449883 \r\nL 335.526696 86.836801 \r\nL 335.729741 102.284015 \r\nL 335.932785 61.947723 \r\nL 336.338874 75.058316 \r\nL 336.541919 94.560945 \r\nL 336.744963 141.573407 \r\nL 336.948007 103.905893 \r\nL 337.151052 97.702381 \r\nL 337.354096 103.799151 \r\nL 337.557141 149.248751 \r\nL 337.760185 85.175515 \r\nL 338.166274 148.105308 \r\nL 338.572363 62.15064 \r\nL 338.775408 152.567698 \r\nL 338.978452 155.12988 \r\nL 339.181496 98.51087 \r\nL 339.384541 103.99649 \r\nL 339.587585 157.911832 \r\nL 339.79063 150.142022 \r\nL 339.993674 77.543169 \r\nL 340.399763 151.006644 \r\nL 340.602808 148.845189 \r\nL 340.805852 104.13315 \r\nL 341.211941 164.924076 \r\nL 341.414985 104.673171 \r\nL 341.61803 166.259696 \r\nL 342.024119 155.56819 \r\nL 342.227163 158.117242 \r\nL 342.430208 97.055684 \r\nL 342.633252 165.098234 \r\nL 342.836297 160.54304 \r\nL 343.039341 131.57765 \r\nL 343.242386 163.358177 \r\nL 343.44543 103.423553 \r\nL 343.648474 130.40242 \r\nL 343.851519 92.030411 \r\nL 344.054563 177.442796 \r\nL 344.257608 96.385419 \r\nL 344.460652 167.71968 \r\nL 344.663697 91.190635 \r\nL 344.866741 152.293819 \r\nL 345.069786 134.670691 \r\nL 345.27283 184.466343 \r\nL 345.475875 114.566887 \r\nL 345.678919 167.18301 \r\nL 345.881963 97.526053 \r\nL 346.491097 165.92376 \r\nL 346.694141 175.8414 \r\nL 346.897186 113.303744 \r\nL 347.303275 167.613788 \r\nL 347.506319 100.576457 \r\nL 347.912408 138.914723 \r\nL 348.115452 117.979048 \r\nL 348.318497 187.203093 \r\nL 348.521541 132.52936 \r\nL 348.724586 168.173499 \r\nL 349.130675 105.581629 \r\nL 349.536764 146.666498 \r\nL 349.739808 129.246502 \r\nL 350.348941 201.826558 \r\nL 350.551986 138.517634 \r\nL 350.75503 192.735586 \r\nL 351.161119 141.203792 \r\nL 351.364164 119.180099 \r\nL 351.770253 187.752935 \r\nL 352.176342 143.50029 \r\nL 352.379386 191.325117 \r\nL 352.58243 137.849494 \r\nL 352.785475 135.059075 \r\nL 352.988519 159.643909 \r\nL 353.191564 126.243571 \r\nL 353.394608 190.210056 \r\nL 353.800697 123.627492 \r\nL 354.003742 142.970418 \r\nL 354.206786 132.914117 \r\nL 354.409831 191.838425 \r\nL 354.612875 156.856561 \r\nL 354.815919 182.015273 \r\nL 355.018964 148.581156 \r\nL 355.222008 162.416403 \r\nL 355.425053 152.226332 \r\nL 355.628097 153.126341 \r\nL 356.034186 135.109967 \r\nL 356.237231 209.133368 \r\nL 356.440275 120.196772 \r\nL 356.64332 174.601956 \r\nL 356.846364 198.31769 \r\nL 357.049408 122.831371 \r\nL 357.252453 136.635336 \r\nL 357.455497 173.066096 \r\nL 357.658542 154.959742 \r\nL 357.861586 192.362129 \r\nL 358.064631 173.475941 \r\nL 358.064631 173.475941 \r\n\" style=\"fill:none;stroke:#ff7f0e;stroke-linecap:square;stroke-width:1.5;\"/>\r\n   </g>\r\n   <g id=\"line2d_20\">\r\n    <path clip-path=\"url(#p55c2d0690f)\" d=\"M 53.700994 100.296467 \r\nL 53.904039 102.952355 \r\nL 54.107083 101.652978 \r\nL 54.716217 114.94111 \r\nL 54.919261 114.78747 \r\nL 55.122305 117.949516 \r\nL 55.528394 98.895114 \r\nL 55.731439 101.794682 \r\nL 55.934483 90.900318 \r\nL 56.137528 92.572225 \r\nL 56.949706 72.821787 \r\nL 57.355794 83.734529 \r\nL 57.761883 74.858519 \r\nL 57.964928 77.161623 \r\nL 58.167972 74.924771 \r\nL 58.574061 82.975779 \r\nL 58.777106 87.861793 \r\nL 58.98015 88.000303 \r\nL 59.183195 87.714325 \r\nL 59.386239 88.658955 \r\nL 59.589283 90.986811 \r\nL 59.792328 90.711861 \r\nL 59.995372 88.77423 \r\nL 60.198417 91.880868 \r\nL 60.401461 83.311513 \r\nL 60.604506 83.20307 \r\nL 60.80755 82.723615 \r\nL 61.010595 81.831784 \r\nL 61.416684 77.307912 \r\nL 61.619728 79.326874 \r\nL 61.822772 78.810508 \r\nL 62.025817 80.70054 \r\nL 62.228861 79.8187 \r\nL 62.431906 78.09065 \r\nL 62.837995 69.532745 \r\nL 63.041039 71.589957 \r\nL 63.244084 71.035544 \r\nL 63.447128 69.080121 \r\nL 63.650173 69.800154 \r\nL 63.853217 71.33368 \r\nL 64.056261 74.010199 \r\nL 64.46235 67.76889 \r\nL 64.665395 70.83951 \r\nL 64.868439 68.86175 \r\nL 65.071484 68.277046 \r\nL 65.274528 66.690878 \r\nL 65.477573 69.064145 \r\nL 65.680617 67.185541 \r\nL 65.883662 68.592196 \r\nL 66.086706 71.99974 \r\nL 66.28975 70.994659 \r\nL 66.492795 71.482114 \r\nL 66.695839 72.904579 \r\nL 66.898884 68.993476 \r\nL 67.101928 70.564151 \r\nL 67.304973 75.453709 \r\nL 67.508017 75.188938 \r\nL 67.711062 75.711102 \r\nL 68.117151 67.672925 \r\nL 68.320195 71.384214 \r\nL 68.523239 68.169192 \r\nL 69.335417 78.005666 \r\nL 69.741506 69.159826 \r\nL 69.944551 70.512743 \r\nL 70.35064 66.44067 \r\nL 70.553684 67.414327 \r\nL 70.756728 64.229242 \r\nL 70.959773 63.66011 \r\nL 71.162817 67.094841 \r\nL 71.365862 65.078807 \r\nL 71.568906 64.985223 \r\nL 71.771951 67.568711 \r\nL 72.17804 74.285409 \r\nL 72.381084 70.852719 \r\nL 72.584129 73.400987 \r\nL 72.787173 69.339328 \r\nL 72.990217 69.268755 \r\nL 73.599351 71.161061 \r\nL 73.802395 67.574035 \r\nL 74.208484 73.280184 \r\nL 74.411529 71.674281 \r\nL 74.614573 73.998393 \r\nL 74.817618 71.34193 \r\nL 75.223706 77.283251 \r\nL 75.426751 81.702287 \r\nL 75.83284 78.76371 \r\nL 76.035884 79.822519 \r\nL 76.238929 74.716259 \r\nL 76.441973 74.158609 \r\nL 76.645018 78.658517 \r\nL 76.848062 79.952394 \r\nL 77.051107 78.916759 \r\nL 77.254151 81.016752 \r\nL 77.457195 80.863086 \r\nL 77.66024 81.417158 \r\nL 77.863284 87.79369 \r\nL 78.066329 89.996459 \r\nL 78.472418 100.239148 \r\nL 78.675462 93.294381 \r\nL 78.878507 90.82556 \r\nL 79.081551 96.614043 \r\nL 79.48764 88.849108 \r\nL 79.690684 85.247519 \r\nL 79.893729 78.144768 \r\nL 80.299818 85.611342 \r\nL 80.502862 82.082124 \r\nL 80.908951 93.6589 \r\nL 81.111996 87.253311 \r\nL 81.31504 84.687557 \r\nL 81.518084 89.154809 \r\nL 81.721129 89.563782 \r\nL 81.924173 91.441333 \r\nL 82.330262 85.353477 \r\nL 82.533307 88.148405 \r\nL 82.736351 89.214414 \r\nL 82.939396 86.978915 \r\nL 83.345485 101.627304 \r\nL 83.548529 101.814453 \r\nL 83.751573 103.491251 \r\nL 83.954618 107.255785 \r\nL 84.157662 104.022758 \r\nL 84.360707 104.344695 \r\nL 84.563751 111.115049 \r\nL 84.766796 114.121127 \r\nL 84.96984 122.098387 \r\nL 85.172885 124.01028 \r\nL 85.578974 115.845477 \r\nL 85.782018 114.690137 \r\nL 85.985062 118.772586 \r\nL 86.188107 125.127935 \r\nL 86.594196 123.519486 \r\nL 86.79724 119.250443 \r\nL 87.000285 119.291727 \r\nL 87.203329 116.859702 \r\nL 87.812463 136.774168 \r\nL 88.015507 137.430014 \r\nL 88.218551 142.087613 \r\nL 88.421596 149.815283 \r\nL 88.62464 150.889879 \r\nL 88.827685 154.342445 \r\nL 89.030729 149.29993 \r\nL 89.436818 144.470174 \r\nL 89.639863 149.679258 \r\nL 89.842907 148.616055 \r\nL 90.248996 156.691365 \r\nL 90.45204 155.303402 \r\nL 90.655085 156.161653 \r\nL 91.061174 149.90511 \r\nL 91.264218 149.404638 \r\nL 91.467263 147.848679 \r\nL 91.670307 141.720548 \r\nL 91.873352 142.219477 \r\nL 92.076396 139.786599 \r\nL 92.482485 129.97295 \r\nL 92.685529 128.960028 \r\nL 92.888574 127.251578 \r\nL 93.294663 137.486162 \r\nL 93.700752 154.502437 \r\nL 93.903796 153.174516 \r\nL 94.106841 153.076705 \r\nL 94.51293 159.014258 \r\nL 94.715974 156.761344 \r\nL 94.919018 161.964676 \r\nL 95.122063 162.606234 \r\nL 95.325107 162.378226 \r\nL 95.731196 158.423644 \r\nL 95.934241 160.665144 \r\nL 96.137285 158.228041 \r\nL 96.543374 165.700047 \r\nL 96.746419 165.606684 \r\nL 96.949463 159.704318 \r\nL 97.355552 164.43061 \r\nL 97.558596 159.653135 \r\nL 97.761641 163.293213 \r\nL 97.964685 163.702964 \r\nL 98.16773 161.716709 \r\nL 98.573819 163.697137 \r\nL 98.776863 163.604714 \r\nL 98.979908 161.393409 \r\nL 99.182952 156.824204 \r\nL 99.589041 165.477315 \r\nL 99.792085 159.205141 \r\nL 99.99513 158.231104 \r\nL 100.198174 159.005407 \r\nL 100.401219 155.400303 \r\nL 100.807308 163.556193 \r\nL 101.010352 159.082259 \r\nL 101.213397 157.41276 \r\nL 101.416441 153.753417 \r\nL 101.82253 158.928094 \r\nL 102.228619 151.145776 \r\nL 102.431663 158.817623 \r\nL 102.634708 154.015253 \r\nL 102.837752 156.159203 \r\nL 103.040797 153.480892 \r\nL 103.243841 156.420792 \r\nL 103.446886 152.696611 \r\nL 103.64993 152.872626 \r\nL 103.852974 155.039056 \r\nL 104.056019 159.096114 \r\nL 104.259063 158.097188 \r\nL 104.462108 158.812987 \r\nL 105.274286 144.472744 \r\nL 105.47733 151.747175 \r\nL 105.680375 146.269874 \r\nL 106.086463 153.65953 \r\nL 106.289508 149.607344 \r\nL 106.492552 141.287536 \r\nL 106.695597 148.516423 \r\nL 106.898641 149.414511 \r\nL 107.101686 152.427135 \r\nL 107.30473 150.946386 \r\nL 107.507775 147.66227 \r\nL 107.710819 147.470188 \r\nL 107.913864 144.74059 \r\nL 108.116908 138.257178 \r\nL 108.522997 140.54498 \r\nL 109.13213 146.312114 \r\nL 109.335175 153.371354 \r\nL 109.538219 154.062052 \r\nL 109.741264 155.598853 \r\nL 109.944308 149.55472 \r\nL 110.147352 149.095784 \r\nL 110.350397 147.584757 \r\nL 110.756486 141.983662 \r\nL 110.95953 144.395571 \r\nL 111.162575 144.790181 \r\nL 111.568664 128.025145 \r\nL 111.771708 127.449519 \r\nL 111.974753 134.089798 \r\nL 112.177797 128.519815 \r\nL 112.380841 131.803035 \r\nL 112.78693 134.382162 \r\nL 112.989975 132.284644 \r\nL 113.396064 125.745576 \r\nL 113.599108 128.030605 \r\nL 113.802153 128.755048 \r\nL 114.005197 122.628639 \r\nL 114.208242 123.389216 \r\nL 114.411286 122.592026 \r\nL 114.61433 122.553963 \r\nL 114.817375 116.151167 \r\nL 115.020419 113.868328 \r\nL 115.223464 106.756055 \r\nL 115.426508 111.569819 \r\nL 115.629553 105.806137 \r\nL 115.832597 104.817586 \r\nL 116.035642 106.027007 \r\nL 116.238686 112.343545 \r\nL 116.847819 120.088517 \r\nL 117.050864 115.386655 \r\nL 117.253908 115.16648 \r\nL 117.456953 111.554137 \r\nL 117.659997 117.274318 \r\nL 117.863042 105.941385 \r\nL 118.269131 100.163069 \r\nL 118.472175 91.595634 \r\nL 118.67522 88.624997 \r\nL 119.081308 78.547328 \r\nL 119.284353 82.671987 \r\nL 119.487397 82.687564 \r\nL 119.893486 85.54925 \r\nL 120.299575 76.254322 \r\nL 120.705664 83.394132 \r\nL 120.908709 79.6203 \r\nL 121.111753 82.962029 \r\nL 121.314797 83.872372 \r\nL 121.517842 85.367134 \r\nL 121.720886 83.148791 \r\nL 122.126975 75.802143 \r\nL 122.33002 80.439317 \r\nL 122.533064 80.967208 \r\nL 122.736109 78.320875 \r\nL 122.939153 85.373508 \r\nL 123.142198 86.976926 \r\nL 123.345242 79.644572 \r\nL 123.751331 85.840824 \r\nL 123.954375 87.538724 \r\nL 124.15742 87.422434 \r\nL 124.563509 87.469304 \r\nL 124.766553 88.737942 \r\nL 124.969598 79.926707 \r\nL 125.172642 80.433391 \r\nL 125.375687 81.798087 \r\nL 125.578731 73.454679 \r\nL 125.781775 70.233845 \r\nL 125.98482 72.348671 \r\nL 126.187864 70.835068 \r\nL 126.390909 66.832582 \r\nL 126.593953 68.980773 \r\nL 126.796998 67.450687 \r\nL 127.000042 72.73851 \r\nL 127.203087 68.189091 \r\nL 127.406131 72.428532 \r\nL 127.609176 73.753088 \r\nL 127.81222 72.982613 \r\nL 128.015264 74.242532 \r\nL 128.218309 72.483897 \r\nL 128.421353 72.963515 \r\nL 128.624398 70.418121 \r\nL 128.827442 72.795077 \r\nL 129.63962 65.581483 \r\nL 129.842665 66.637398 \r\nL 130.045709 65.785297 \r\nL 130.248753 70.574189 \r\nL 130.451798 70.442687 \r\nL 130.654842 67.253065 \r\nL 130.857887 66.782883 \r\nL 131.060931 63.940151 \r\nL 131.46702 72.262896 \r\nL 131.670065 70.690029 \r\nL 131.873109 74.288236 \r\nL 132.076154 70.939684 \r\nL 132.279198 72.153122 \r\nL 132.482242 71.058306 \r\nL 132.888331 67.059753 \r\nL 133.091376 69.363188 \r\nL 133.29442 65.431979 \r\nL 133.497465 66.36293 \r\nL 133.700509 69.563167 \r\nL 133.903554 70.805071 \r\nL 134.106598 68.682825 \r\nL 134.512687 70.087311 \r\nL 134.715731 74.841446 \r\nL 134.918776 76.072983 \r\nL 135.12182 71.470838 \r\nL 135.527909 68.769658 \r\nL 135.933998 77.373691 \r\nL 136.137043 78.854386 \r\nL 136.340087 77.798628 \r\nL 136.543132 72.837397 \r\nL 136.746176 72.823956 \r\nL 136.94922 74.362112 \r\nL 137.152265 74.386994 \r\nL 137.355309 71.718171 \r\nL 137.558354 71.641197 \r\nL 137.761398 68.017907 \r\nL 138.167487 75.011311 \r\nL 138.573576 73.046215 \r\nL 138.77662 69.054541 \r\nL 139.385754 74.523186 \r\nL 139.588798 73.803562 \r\nL 139.791843 75.221056 \r\nL 139.994887 72.664317 \r\nL 140.197932 73.782637 \r\nL 140.400976 71.11696 \r\nL 140.807065 79.707606 \r\nL 141.010109 76.48265 \r\nL 141.213154 78.187348 \r\nL 141.416198 76.813434 \r\nL 142.025332 87.419772 \r\nL 142.228376 82.388049 \r\nL 142.431421 85.907064 \r\nL 142.83751 88.369064 \r\nL 143.040554 96.540723 \r\nL 143.243598 92.289028 \r\nL 143.446643 97.747786 \r\nL 143.649687 95.087469 \r\nL 143.852732 98.451315 \r\nL 144.055776 93.066135 \r\nL 144.461865 108.492104 \r\nL 144.66491 108.680915 \r\nL 144.867954 102.32917 \r\nL 145.070999 100.602087 \r\nL 145.274043 104.555644 \r\nL 145.477087 103.530603 \r\nL 145.680132 108.46993 \r\nL 145.883176 98.586056 \r\nL 146.086221 100.300944 \r\nL 146.695354 86.654998 \r\nL 146.898399 92.341153 \r\nL 147.101443 91.889824 \r\nL 147.304488 93.163527 \r\nL 147.507532 96.610178 \r\nL 147.710576 90.919817 \r\nL 148.31971 113.418789 \r\nL 148.522754 110.92929 \r\nL 148.928843 114.669424 \r\nL 149.131888 121.6877 \r\nL 149.334932 116.881953 \r\nL 149.741021 121.764779 \r\nL 150.350154 102.659154 \r\nL 150.756243 118.09469 \r\nL 150.959288 119.934618 \r\nL 151.162332 118.766276 \r\nL 151.365377 123.22638 \r\nL 151.568421 115.634882 \r\nL 151.771466 119.427676 \r\nL 152.380599 142.988929 \r\nL 152.583643 142.572416 \r\nL 152.989732 145.165269 \r\nL 153.192777 142.33469 \r\nL 153.395821 143.657355 \r\nL 153.598866 147.382302 \r\nL 153.80191 143.672837 \r\nL 154.004955 147.749131 \r\nL 154.411043 139.564044 \r\nL 154.614088 143.504342 \r\nL 154.817132 144.835789 \r\nL 155.020177 141.078207 \r\nL 155.223221 142.535087 \r\nL 155.426266 138.853453 \r\nL 155.62931 138.684472 \r\nL 155.832355 139.166323 \r\nL 156.035399 141.873158 \r\nL 156.238444 148.19682 \r\nL 156.441488 149.988752 \r\nL 156.644532 149.36072 \r\nL 156.847577 143.441706 \r\nL 157.050621 147.484679 \r\nL 157.253666 145.652634 \r\nL 157.659755 155.120673 \r\nL 157.862799 155.301374 \r\nL 158.065844 150.97129 \r\nL 158.268888 153.467711 \r\nL 158.471933 154.248777 \r\nL 158.674977 155.674736 \r\nL 158.878021 158.065343 \r\nL 159.081066 158.444453 \r\nL 159.487155 165.661025 \r\nL 159.893244 168.41492 \r\nL 160.096288 163.83073 \r\nL 160.299333 166.907584 \r\nL 160.502377 166.345648 \r\nL 160.705422 162.267972 \r\nL 160.908466 165.950488 \r\nL 161.11151 167.395808 \r\nL 161.517599 161.158832 \r\nL 161.720644 159.69309 \r\nL 161.923688 162.199603 \r\nL 162.126733 160.121804 \r\nL 162.532822 165.093805 \r\nL 162.735866 162.179042 \r\nL 162.938911 162.103342 \r\nL 163.141955 162.578866 \r\nL 163.548044 165.932553 \r\nL 163.751088 166.477069 \r\nL 163.954133 162.835029 \r\nL 164.157177 165.665021 \r\nL 164.360222 165.689303 \r\nL 164.766311 158.055998 \r\nL 164.969355 157.490181 \r\nL 165.172399 161.662239 \r\nL 165.578488 158.313827 \r\nL 165.781533 159.608775 \r\nL 166.390666 151.817552 \r\nL 166.593711 157.599872 \r\nL 166.796755 157.343057 \r\nL 166.9998 153.886013 \r\nL 167.202844 155.136436 \r\nL 167.405888 150.41752 \r\nL 167.608933 148.762195 \r\nL 168.015022 151.324808 \r\nL 168.421111 159.508027 \r\nL 168.624155 152.944055 \r\nL 168.8272 152.192238 \r\nL 169.030244 153.317775 \r\nL 169.436333 158.785858 \r\nL 169.639377 155.409348 \r\nL 169.842422 157.999832 \r\nL 170.045466 162.290112 \r\nL 170.248511 162.997222 \r\nL 170.451555 161.881035 \r\nL 170.857644 157.20842 \r\nL 171.060689 161.996283 \r\nL 171.263733 164.10978 \r\nL 171.669822 159.643438 \r\nL 171.872866 161.580233 \r\nL 172.075911 157.576885 \r\nL 172.278955 158.060446 \r\nL 172.482 157.383439 \r\nL 172.685044 158.362878 \r\nL 172.888089 161.502508 \r\nL 173.294178 144.767793 \r\nL 173.497222 145.775187 \r\nL 173.700267 149.144805 \r\nL 173.903311 140.616167 \r\nL 174.106355 137.406202 \r\nL 174.3094 131.895089 \r\nL 174.715489 128.991151 \r\nL 174.918533 119.321637 \r\nL 175.324622 126.916233 \r\nL 175.527667 124.249713 \r\nL 175.730711 117.126999 \r\nL 175.933756 127.094221 \r\nL 176.542889 138.617855 \r\nL 176.948978 141.552971 \r\nL 177.152022 146.063485 \r\nL 177.355067 140.533602 \r\nL 177.558111 139.772443 \r\nL 177.761156 145.642366 \r\nL 177.9642 138.849929 \r\nL 178.370289 139.621699 \r\nL 178.573333 131.462117 \r\nL 178.776378 130.493359 \r\nL 178.979422 134.202035 \r\nL 179.182467 132.458462 \r\nL 179.385511 133.895368 \r\nL 179.588556 130.896552 \r\nL 179.7916 130.550344 \r\nL 179.994645 134.875936 \r\nL 180.197689 128.325833 \r\nL 180.400734 126.598549 \r\nL 180.603778 128.413209 \r\nL 180.806822 127.136478 \r\nL 181.009867 121.494949 \r\nL 181.212911 109.745944 \r\nL 181.415956 114.00876 \r\nL 181.619 112.438274 \r\nL 181.822045 105.62746 \r\nL 182.025089 106.007719 \r\nL 182.228134 109.035948 \r\nL 182.634223 93.49171 \r\nL 182.837267 85.966577 \r\nL 183.243356 93.364014 \r\nL 183.4464 86.867585 \r\nL 183.649445 87.225554 \r\nL 184.055534 77.690681 \r\nL 184.461623 84.583133 \r\nL 184.664667 86.698512 \r\nL 184.867712 83.360812 \r\nL 185.070756 76.816569 \r\nL 185.2738 77.294162 \r\nL 185.476845 83.140649 \r\nL 185.882934 83.848548 \r\nL 186.085978 80.547844 \r\nL 186.289023 80.036365 \r\nL 186.492067 80.730185 \r\nL 186.695112 78.490551 \r\nL 186.898156 80.035928 \r\nL 187.304245 87.48726 \r\nL 188.116423 73.601558 \r\nL 188.522512 74.999975 \r\nL 188.725556 80.350419 \r\nL 189.131645 73.065995 \r\nL 189.33469 69.704094 \r\nL 189.537734 70.576558 \r\nL 189.740778 67.778399 \r\nL 190.146867 78.516284 \r\nL 190.349912 78.068735 \r\nL 190.552956 80.632922 \r\nL 190.756001 81.445872 \r\nL 190.959045 79.605596 \r\nL 191.16209 81.600585 \r\nL 191.365134 80.115906 \r\nL 191.568179 74.880435 \r\nL 191.771223 74.607133 \r\nL 191.974267 75.054517 \r\nL 192.177312 77.258072 \r\nL 192.583401 66.354435 \r\nL 193.192534 71.943362 \r\nL 193.395579 69.476947 \r\nL 193.598623 70.891046 \r\nL 193.801667 68.680764 \r\nL 194.004712 68.034732 \r\nL 194.207756 71.95075 \r\nL 194.410801 73.410283 \r\nL 194.81689 68.947793 \r\nL 195.019934 68.224957 \r\nL 195.222979 66.731407 \r\nL 195.426023 67.097811 \r\nL 195.629068 66.608223 \r\nL 195.832112 67.015688 \r\nL 196.035156 67.739718 \r\nL 196.238201 65.547361 \r\nL 196.64429 68.479747 \r\nL 196.847334 69.738865 \r\nL 197.050379 72.388931 \r\nL 197.253423 73.49216 \r\nL 197.456468 76.968194 \r\nL 197.659512 77.353095 \r\nL 197.862557 77.299298 \r\nL 198.268645 82.944227 \r\nL 198.47169 83.62677 \r\nL 198.674734 85.326378 \r\nL 198.877779 85.386031 \r\nL 199.080823 86.535258 \r\nL 199.283868 82.015812 \r\nL 199.486912 80.588268 \r\nL 199.689957 83.242764 \r\nL 199.893001 81.003083 \r\nL 200.096046 81.70686 \r\nL 200.502134 85.431534 \r\nL 200.705179 83.603736 \r\nL 201.111268 76.470267 \r\nL 201.314312 83.148896 \r\nL 201.517357 78.791715 \r\nL 201.720401 78.680693 \r\nL 201.923446 77.49328 \r\nL 202.12649 81.057236 \r\nL 202.329535 79.64681 \r\nL 202.532579 82.786544 \r\nL 202.735623 78.119116 \r\nL 202.938668 82.132834 \r\nL 203.141712 80.752265 \r\nL 203.344757 80.604528 \r\nL 203.547801 86.059551 \r\nL 203.750846 80.153055 \r\nL 203.95389 80.980781 \r\nL 204.156935 74.970663 \r\nL 204.359979 77.709084 \r\nL 204.563024 73.163222 \r\nL 204.766068 71.539303 \r\nL 204.969112 73.311396 \r\nL 205.172157 71.313733 \r\nL 205.578246 75.785731 \r\nL 205.984335 70.070982 \r\nL 206.187379 75.800058 \r\nL 206.390424 72.973954 \r\nL 206.593468 76.917932 \r\nL 206.999557 72.564251 \r\nL 207.202601 72.165316 \r\nL 207.405646 73.228307 \r\nL 207.60869 76.654657 \r\nL 207.811735 82.363753 \r\nL 208.014779 84.396809 \r\nL 208.217824 81.819814 \r\nL 208.420868 81.547775 \r\nL 209.030002 92.076913 \r\nL 209.233046 100.141555 \r\nL 209.639135 102.670595 \r\nL 209.842179 99.924692 \r\nL 210.045224 104.841445 \r\nL 210.248268 102.89203 \r\nL 210.451313 109.197517 \r\nL 210.654357 104.892203 \r\nL 210.857402 111.353179 \r\nL 211.060446 110.160595 \r\nL 211.263491 110.575953 \r\nL 211.466535 106.758611 \r\nL 211.669579 106.52993 \r\nL 211.872624 106.868092 \r\nL 212.278713 109.7005 \r\nL 212.481757 105.07921 \r\nL 212.684802 110.968125 \r\nL 212.887846 102.350554 \r\nL 213.090891 110.954987 \r\nL 213.293935 106.223357 \r\nL 213.49698 113.666404 \r\nL 213.700024 109.303651 \r\nL 214.106113 115.482491 \r\nL 214.309157 124.84029 \r\nL 214.512202 123.822719 \r\nL 214.715246 123.854395 \r\nL 214.918291 134.540302 \r\nL 215.121335 126.120687 \r\nL 215.527424 141.828262 \r\nL 215.933513 153.056946 \r\nL 216.136557 143.721815 \r\nL 216.339602 139.744612 \r\nL 216.542646 144.611714 \r\nL 216.948735 137.031073 \r\nL 217.15178 144.670402 \r\nL 217.354824 145.067847 \r\nL 217.557869 137.196384 \r\nL 217.760913 137.95609 \r\nL 217.963958 134.160957 \r\nL 218.370046 149.847559 \r\nL 218.573091 147.945987 \r\nL 218.776135 150.375397 \r\nL 218.97918 150.007084 \r\nL 219.182224 151.019377 \r\nL 219.385269 150.465254 \r\nL 219.588313 156.558042 \r\nL 219.791358 156.310604 \r\nL 219.994402 154.330256 \r\nL 220.400491 145.358096 \r\nL 220.80658 149.923825 \r\nL 221.009624 156.021839 \r\nL 221.212669 155.001428 \r\nL 221.415713 158.098101 \r\nL 222.024847 148.65755 \r\nL 222.227891 154.569158 \r\nL 222.63398 160.656138 \r\nL 223.243113 149.424525 \r\nL 223.446158 153.054 \r\nL 223.649202 153.327819 \r\nL 224.055291 163.583035 \r\nL 224.258336 159.114159 \r\nL 224.46138 161.490908 \r\nL 224.664424 159.505186 \r\nL 224.867469 160.683949 \r\nL 225.070513 164.35511 \r\nL 225.273558 164.406918 \r\nL 225.679647 169.970155 \r\nL 225.882691 163.946562 \r\nL 226.085736 163.389983 \r\nL 226.28878 159.817933 \r\nL 226.491825 159.778499 \r\nL 226.694869 160.958058 \r\nL 227.304002 166.56585 \r\nL 227.710091 158.181955 \r\nL 227.913136 159.513656 \r\nL 228.11618 156.864485 \r\nL 228.319225 162.282066 \r\nL 228.522269 161.2763 \r\nL 228.725314 157.344235 \r\nL 228.928358 160.240231 \r\nL 229.131402 161.138789 \r\nL 229.537491 154.470935 \r\nL 229.740536 158.821194 \r\nL 229.94358 160.543234 \r\nL 230.552714 158.155287 \r\nL 230.755758 159.667528 \r\nL 231.364891 149.166977 \r\nL 231.567936 150.606471 \r\nL 231.77098 148.788262 \r\nL 231.974025 148.661603 \r\nL 232.177069 154.839914 \r\nL 232.380114 155.467222 \r\nL 232.583158 159.825013 \r\nL 232.786203 158.930191 \r\nL 232.989247 155.744858 \r\nL 233.192292 156.143186 \r\nL 233.395336 155.72061 \r\nL 233.801425 161.620777 \r\nL 234.004469 163.738836 \r\nL 234.207514 157.390839 \r\nL 234.410558 158.370041 \r\nL 234.613603 154.735057 \r\nL 234.816647 157.496348 \r\nL 235.019692 161.828721 \r\nL 235.222736 162.039094 \r\nL 235.425781 162.672127 \r\nL 235.628825 161.752832 \r\nL 235.831869 158.394571 \r\nL 236.034914 157.900873 \r\nL 236.237958 155.40633 \r\nL 236.441003 158.309864 \r\nL 236.644047 159.161017 \r\nL 237.050136 151.047642 \r\nL 237.253181 153.698677 \r\nL 237.456225 152.212374 \r\nL 237.65927 152.096749 \r\nL 237.862314 150.170351 \r\nL 238.065358 152.10195 \r\nL 238.268403 150.705253 \r\nL 238.471447 147.463978 \r\nL 238.674492 147.738596 \r\nL 238.877536 145.143823 \r\nL 239.080581 148.675496 \r\nL 239.283625 148.616644 \r\nL 239.48667 152.147313 \r\nL 239.689714 144.816802 \r\nL 239.892759 144.896561 \r\nL 240.095803 140.437559 \r\nL 240.501892 148.389441 \r\nL 240.704936 146.89432 \r\nL 240.907981 147.170164 \r\nL 241.517114 126.200352 \r\nL 241.923203 135.444446 \r\nL 242.126248 135.335819 \r\nL 242.329292 134.875695 \r\nL 242.532336 130.970104 \r\nL 242.938425 115.868912 \r\nL 243.14147 120.5362 \r\nL 243.344514 120.847545 \r\nL 243.547559 124.628393 \r\nL 243.750603 118.532134 \r\nL 243.953648 117.104383 \r\nL 244.156692 120.731255 \r\nL 244.359737 118.98344 \r\nL 244.562781 113.871167 \r\nL 244.765825 119.87632 \r\nL 244.96887 118.869388 \r\nL 245.374959 114.221488 \r\nL 245.578003 109.470252 \r\nL 245.781048 111.018988 \r\nL 246.390181 97.808159 \r\nL 246.593226 102.28772 \r\nL 246.79627 94.783653 \r\nL 246.999314 97.025501 \r\nL 247.202359 97.56429 \r\nL 247.405403 93.678175 \r\nL 247.608448 99.637676 \r\nL 248.014537 93.294864 \r\nL 248.217581 93.331247 \r\nL 248.420626 97.959313 \r\nL 248.62367 87.680383 \r\nL 248.826714 93.180518 \r\nL 249.232803 84.075674 \r\nL 249.638892 86.329114 \r\nL 250.044981 79.300954 \r\nL 250.248026 77.074846 \r\nL 250.45107 78.993016 \r\nL 250.654115 83.654883 \r\nL 250.857159 82.006552 \r\nL 251.060203 84.557659 \r\nL 251.263248 82.7165 \r\nL 251.466292 86.350548 \r\nL 251.872381 88.483164 \r\nL 252.27847 98.67097 \r\nL 252.481515 94.978142 \r\nL 252.684559 95.743396 \r\nL 252.887604 95.033482 \r\nL 253.090648 95.551805 \r\nL 253.293692 98.963134 \r\nL 253.496737 94.508938 \r\nL 253.699781 93.369104 \r\nL 253.902826 94.216163 \r\nL 254.10587 89.377409 \r\nL 254.511959 75.699203 \r\nL 254.715004 72.015423 \r\nL 255.121093 77.613553 \r\nL 255.527181 67.835567 \r\nL 255.730226 66.857384 \r\nL 255.93327 64.872561 \r\nL 256.136315 68.286154 \r\nL 256.542404 63.792967 \r\nL 256.745448 68.181964 \r\nL 256.948493 68.026674 \r\nL 257.151537 64.431659 \r\nL 257.557626 65.091486 \r\nL 257.76067 65.953002 \r\nL 257.963715 69.262734 \r\nL 258.166759 64.888453 \r\nL 258.572848 69.765763 \r\nL 258.775893 67.363829 \r\nL 258.978937 67.016891 \r\nL 259.791115 77.349326 \r\nL 259.994159 73.996156 \r\nL 260.197204 74.442736 \r\nL 260.603293 79.348601 \r\nL 260.806337 83.942769 \r\nL 261.009382 80.522157 \r\nL 261.212426 82.381391 \r\nL 261.415471 82.977323 \r\nL 261.618515 85.736694 \r\nL 261.82156 85.877127 \r\nL 262.024604 81.461387 \r\nL 262.227648 84.254231 \r\nL 262.430693 77.545593 \r\nL 262.633737 78.962193 \r\nL 262.836782 78.984037 \r\nL 263.039826 76.191677 \r\nL 263.242871 75.930077 \r\nL 263.445915 77.521477 \r\nL 263.64896 73.674947 \r\nL 263.852004 77.312599 \r\nL 264.258093 70.617616 \r\nL 264.461137 77.34644 \r\nL 264.867226 69.081981 \r\nL 265.070271 71.878821 \r\nL 265.273315 72.178417 \r\nL 265.47636 70.931093 \r\nL 265.679404 74.818236 \r\nL 265.882449 72.704813 \r\nL 266.288538 76.969196 \r\nL 266.491582 72.196351 \r\nL 267.100715 69.404614 \r\nL 267.30376 76.202586 \r\nL 267.506804 76.416458 \r\nL 267.709849 74.549636 \r\nL 267.912893 74.470696 \r\nL 268.115938 77.832184 \r\nL 268.318982 78.810143 \r\nL 268.725071 90.924248 \r\nL 269.13116 94.793526 \r\nL 269.334204 94.785066 \r\nL 269.537249 96.768284 \r\nL 269.740293 99.902223 \r\nL 269.943338 108.977897 \r\nL 270.146382 111.75441 \r\nL 270.349427 110.426908 \r\nL 270.755516 94.480119 \r\nL 270.95856 100.941367 \r\nL 271.364649 97.70973 \r\nL 271.567693 103.348474 \r\nL 271.770738 102.806256 \r\nL 271.973782 101.864339 \r\nL 272.176827 100.216643 \r\nL 272.989005 114.862205 \r\nL 273.192049 124.037185 \r\nL 273.395093 124.491619 \r\nL 273.598138 116.670527 \r\nL 273.801182 125.549426 \r\nL 274.004227 121.894307 \r\nL 274.207271 126.993767 \r\nL 274.61336 123.503792 \r\nL 274.816405 127.338637 \r\nL 275.019449 123.62162 \r\nL 275.222493 117.699768 \r\nL 275.425538 123.112299 \r\nL 275.628582 132.4531 \r\nL 275.831627 122.32338 \r\nL 276.034671 122.594365 \r\nL 276.237716 115.79512 \r\nL 276.44076 114.027423 \r\nL 276.643805 119.152927 \r\nL 276.846849 116.961165 \r\nL 277.049894 117.383133 \r\nL 277.252938 119.423959 \r\nL 277.455982 117.714484 \r\nL 277.659027 119.571549 \r\nL 277.862071 130.493831 \r\nL 278.065116 128.151921 \r\nL 278.26816 137.720422 \r\nL 278.471205 139.905181 \r\nL 278.674249 135.902179 \r\nL 278.877294 141.387288 \r\nL 279.080338 140.198433 \r\nL 279.486427 148.309741 \r\nL 279.892516 133.356602 \r\nL 280.09556 141.3069 \r\nL 280.298605 136.057085 \r\nL 280.501649 143.217751 \r\nL 280.704694 144.710951 \r\nL 280.907738 137.711114 \r\nL 281.110783 143.168766 \r\nL 281.313827 140.346831 \r\nL 281.516872 133.847031 \r\nL 281.719916 144.494106 \r\nL 281.92296 144.855656 \r\nL 282.126005 143.576872 \r\nL 282.329049 146.655729 \r\nL 282.532094 144.026535 \r\nL 282.735138 143.740055 \r\nL 282.938183 145.393537 \r\nL 283.141227 144.910832 \r\nL 283.344272 147.264346 \r\nL 283.547316 146.479191 \r\nL 283.750361 146.563222 \r\nL 283.953405 154.562766 \r\nL 284.156449 153.147058 \r\nL 284.359494 150.63846 \r\nL 284.562538 150.644927 \r\nL 284.968627 159.379241 \r\nL 285.171672 157.982146 \r\nL 285.577761 161.555443 \r\nL 285.780805 162.023469 \r\nL 285.98385 159.874288 \r\nL 286.389938 165.805876 \r\nL 286.592983 162.703964 \r\nL 286.796027 162.948985 \r\nL 286.999072 164.516606 \r\nL 287.202116 160.693771 \r\nL 287.405161 161.309549 \r\nL 287.608205 164.943477 \r\nL 287.81125 161.745797 \r\nL 288.014294 163.813493 \r\nL 288.420383 159.545086 \r\nL 288.623427 155.936214 \r\nL 288.826472 159.674461 \r\nL 289.029516 160.88274 \r\nL 289.435605 155.775657 \r\nL 289.63865 155.359927 \r\nL 289.841694 154.443902 \r\nL 290.044739 154.832248 \r\nL 290.247783 156.41821 \r\nL 290.450828 160.5315 \r\nL 290.653872 161.724318 \r\nL 290.856916 162.230871 \r\nL 291.059961 159.083408 \r\nL 291.263005 161.637096 \r\nL 291.669094 155.945456 \r\nL 291.872139 161.018471 \r\nL 292.075183 159.706893 \r\nL 292.481272 156.103955 \r\nL 292.684317 160.265658 \r\nL 292.887361 158.40262 \r\nL 293.29345 159.878948 \r\nL 293.496494 159.874264 \r\nL 293.699539 162.098694 \r\nL 293.902583 162.613852 \r\nL 294.105628 159.562055 \r\nL 294.308672 162.684262 \r\nL 294.511717 158.861301 \r\nL 294.714761 152.476107 \r\nL 294.917806 153.797352 \r\nL 295.12085 150.462933 \r\nL 295.323894 153.657155 \r\nL 295.526939 150.748468 \r\nL 295.729983 144.526906 \r\nL 295.933028 142.388158 \r\nL 296.136072 147.194299 \r\nL 296.339117 147.831905 \r\nL 296.542161 145.055835 \r\nL 296.745206 150.623543 \r\nL 296.94825 149.620798 \r\nL 297.151295 152.051757 \r\nL 297.760428 146.059445 \r\nL 297.963472 144.766558 \r\nL 298.166517 137.585314 \r\nL 298.369561 137.97533 \r\nL 298.572606 140.800458 \r\nL 299.181739 127.985457 \r\nL 299.384784 128.239794 \r\nL 299.587828 125.761164 \r\nL 299.790872 134.761938 \r\nL 300.196961 142.347428 \r\nL 300.400006 136.851194 \r\nL 300.60305 139.016147 \r\nL 300.806095 135.023025 \r\nL 301.009139 137.028782 \r\nL 301.212184 143.455055 \r\nL 301.415228 136.914189 \r\nL 302.227406 124.540356 \r\nL 302.43045 120.70759 \r\nL 302.633495 121.191621 \r\nL 302.836539 120.968649 \r\nL 303.039584 116.268058 \r\nL 303.242628 115.624761 \r\nL 303.445673 117.666183 \r\nL 303.648717 128.51006 \r\nL 304.054806 123.496399 \r\nL 304.460895 118.837406 \r\nL 304.663939 115.623889 \r\nL 304.866984 114.4158 \r\nL 305.070028 116.559986 \r\nL 305.476117 102.996574 \r\nL 305.679162 93.786784 \r\nL 305.882206 89.658804 \r\nL 306.08525 88.624548 \r\nL 306.288295 86.073947 \r\nL 306.491339 84.924712 \r\nL 306.694384 79.372578 \r\nL 306.897428 84.104445 \r\nL 307.100473 78.947746 \r\nL 307.303517 85.225899 \r\nL 307.506562 85.241321 \r\nL 307.709606 86.180106 \r\nL 307.912651 90.454525 \r\nL 308.115695 89.954407 \r\nL 308.318739 96.201089 \r\nL 308.521784 97.789991 \r\nL 308.724828 96.537494 \r\nL 308.927873 97.976196 \r\nL 309.130917 104.342904 \r\nL 309.333962 96.451461 \r\nL 309.537006 98.347371 \r\nL 309.740051 98.213548 \r\nL 309.943095 96.144768 \r\nL 310.14614 95.570528 \r\nL 310.349184 91.788425 \r\nL 310.552228 95.295602 \r\nL 310.755273 101.281189 \r\nL 310.958317 101.251828 \r\nL 311.364406 94.405278 \r\nL 311.567451 96.835985 \r\nL 311.770495 92.96449 \r\nL 311.97354 91.36396 \r\nL 312.176584 86.167759 \r\nL 312.379629 86.128983 \r\nL 312.582673 80.677823 \r\nL 312.785717 79.612006 \r\nL 313.394851 71.016081 \r\nL 313.597895 74.105446 \r\nL 313.80094 74.161741 \r\nL 314.003984 77.335304 \r\nL 314.207029 82.355811 \r\nL 314.613118 72.762582 \r\nL 314.816162 71.830336 \r\nL 315.425295 83.889974 \r\nL 315.62834 81.72221 \r\nL 315.831384 85.857592 \r\nL 316.034429 78.507789 \r\nL 316.237473 75.983874 \r\nL 316.440518 71.569657 \r\nL 316.643562 70.80097 \r\nL 316.846607 72.353409 \r\nL 317.049651 70.079169 \r\nL 317.45574 72.510583 \r\nL 317.658784 75.179501 \r\nL 317.861829 72.525852 \r\nL 318.064873 76.210668 \r\nL 318.267918 75.005691 \r\nL 318.470962 76.670375 \r\nL 318.674007 74.001693 \r\nL 318.877051 74.92225 \r\nL 319.080096 71.382058 \r\nL 319.28314 74.137612 \r\nL 319.486184 69.23786 \r\nL 319.689229 68.175554 \r\nL 319.892273 72.437921 \r\nL 320.095318 70.991408 \r\nL 320.298362 72.661359 \r\nL 320.501407 69.290963 \r\nL 320.704451 68.570621 \r\nL 320.907496 72.663067 \r\nL 321.11054 73.493183 \r\nL 321.313585 68.572637 \r\nL 321.516629 70.861381 \r\nL 321.719673 69.059761 \r\nL 321.922718 72.243903 \r\nL 322.125762 68.498408 \r\nL 322.328807 68.60002 \r\nL 322.531851 65.721178 \r\nL 322.734896 67.123567 \r\nL 323.140985 62.725878 \r\nL 323.547074 64.766107 \r\nL 324.156207 71.94935 \r\nL 324.359251 72.02829 \r\nL 324.562296 69.100974 \r\nL 324.76534 72.310957 \r\nL 324.968385 70.117263 \r\nL 325.171429 75.86518 \r\nL 325.374474 72.243434 \r\nL 325.577518 71.436103 \r\nL 325.983607 73.677824 \r\nL 326.186651 76.292249 \r\nL 326.389696 74.439873 \r\nL 326.59274 76.0144 \r\nL 326.998829 69.907315 \r\nL 327.201874 71.762272 \r\nL 327.404918 71.910987 \r\nL 327.607963 73.94416 \r\nL 327.811007 78.587378 \r\nL 328.014052 76.083398 \r\nL 328.217096 76.345917 \r\nL 328.42014 81.21455 \r\nL 328.623185 80.1431 \r\nL 328.826229 84.721811 \r\nL 329.029274 84.781285 \r\nL 329.232318 83.080619 \r\nL 329.435363 84.330733 \r\nL 329.841452 74.121365 \r\nL 330.247541 74.537525 \r\nL 330.450585 76.35856 \r\nL 330.653629 81.868227 \r\nL 331.262763 88.283502 \r\nL 331.465807 86.637103 \r\nL 331.668852 88.463971 \r\nL 331.871896 93.082585 \r\nL 332.277985 91.687558 \r\nL 332.684074 85.017426 \r\nL 332.887118 88.343697 \r\nL 333.090163 88.349177 \r\nL 333.293207 86.802996 \r\nL 333.496252 88.235125 \r\nL 333.699296 94.64692 \r\nL 333.902341 92.183766 \r\nL 334.511474 109.930324 \r\nL 334.714518 105.919329 \r\nL 334.917563 107.308723 \r\nL 335.120607 113.711931 \r\nL 335.526696 113.93908 \r\nL 335.729741 114.917593 \r\nL 335.932785 123.274204 \r\nL 336.338874 113.123869 \r\nL 336.541919 119.244263 \r\nL 336.744963 130.366277 \r\nL 337.151052 121.40217 \r\nL 337.354096 129.872566 \r\nL 337.557141 129.938936 \r\nL 337.96323 132.037282 \r\nL 338.369319 145.5365 \r\nL 338.572363 139.118305 \r\nL 338.775408 141.259758 \r\nL 338.978452 146.930545 \r\nL 339.181496 146.238851 \r\nL 339.384541 146.671388 \r\nL 339.587585 145.031275 \r\nL 339.79063 141.973702 \r\nL 339.993674 134.640528 \r\nL 340.196719 137.925562 \r\nL 340.399763 130.677634 \r\nL 340.602808 138.892957 \r\nL 340.805852 130.330311 \r\nL 341.008897 129.492991 \r\nL 341.211941 129.879896 \r\nL 341.821074 138.128116 \r\nL 342.024119 138.12263 \r\nL 342.227163 132.188278 \r\nL 342.430208 139.853727 \r\nL 342.633252 140.016359 \r\nL 342.836297 148.809071 \r\nL 343.039341 144.2299 \r\nL 343.242386 145.823468 \r\nL 343.44543 144.727818 \r\nL 343.648474 142.242266 \r\nL 343.851519 136.938035 \r\nL 344.054563 141.0062 \r\nL 344.257608 139.980122 \r\nL 344.460652 143.898856 \r\nL 344.663697 140.49322 \r\nL 344.866741 139.965058 \r\nL 345.069786 141.764627 \r\nL 345.475875 131.50352 \r\nL 345.678919 136.876633 \r\nL 345.881963 138.12157 \r\nL 346.085008 140.498227 \r\nL 346.288052 146.890512 \r\nL 346.491097 149.151101 \r\nL 346.694141 148.94645 \r\nL 347.10023 153.692273 \r\nL 347.303275 155.06588 \r\nL 347.506319 152.745667 \r\nL 347.709364 152.84119 \r\nL 347.912408 157.839288 \r\nL 348.115452 158.28389 \r\nL 348.318497 155.922539 \r\nL 348.521541 157.258461 \r\nL 348.724586 155.819302 \r\nL 348.92763 151.400898 \r\nL 349.130675 151.664571 \r\nL 349.333719 149.537306 \r\nL 349.536764 155.862338 \r\nL 349.739808 156.487731 \r\nL 349.942853 151.222021 \r\nL 350.348941 148.4842 \r\nL 350.75503 151.819909 \r\nL 350.958075 155.925338 \r\nL 351.161119 154.47281 \r\nL 351.364164 156.654363 \r\nL 351.567208 154.013734 \r\nL 351.770253 153.393482 \r\nL 351.973297 153.718553 \r\nL 352.176342 152.414402 \r\nL 352.379386 159.453593 \r\nL 352.58243 153.567445 \r\nL 352.988519 158.412757 \r\nL 353.394608 152.216711 \r\nL 353.597653 154.533977 \r\nL 353.800697 154.557723 \r\nL 354.003742 159.028773 \r\nL 354.003742 159.028773 \r\n\" style=\"fill:none;stroke:#2ca02c;stroke-linecap:square;stroke-width:1.5;\"/>\r\n   </g>\r\n   <g id=\"patch_3\">\r\n    <path d=\"M 38.482813 224.64 \r\nL 38.482813 7.2 \r\n\" style=\"fill:none;stroke:#000000;stroke-linecap:square;stroke-linejoin:miter;stroke-width:0.8;\"/>\r\n   </g>\r\n   <g id=\"patch_4\">\r\n    <path d=\"M 373.282813 224.64 \r\nL 373.282813 7.2 \r\n\" style=\"fill:none;stroke:#000000;stroke-linecap:square;stroke-linejoin:miter;stroke-width:0.8;\"/>\r\n   </g>\r\n   <g id=\"patch_5\">\r\n    <path d=\"M 38.482813 224.64 \r\nL 373.282812 224.64 \r\n\" style=\"fill:none;stroke:#000000;stroke-linecap:square;stroke-linejoin:miter;stroke-width:0.8;\"/>\r\n   </g>\r\n   <g id=\"patch_6\">\r\n    <path d=\"M 38.482813 7.2 \r\nL 373.282812 7.2 \r\n\" style=\"fill:none;stroke:#000000;stroke-linecap:square;stroke-linejoin:miter;stroke-width:0.8;\"/>\r\n   </g>\r\n  </g>\r\n </g>\r\n <defs>\r\n  <clipPath id=\"p55c2d0690f\">\r\n   <rect height=\"217.44\" width=\"334.8\" x=\"38.482813\" y=\"7.2\"/>\r\n  </clipPath>\r\n </defs>\r\n</svg>\r\n",
      "image/png": "[encoded data removed]"
     },
     "metadata": {
      "needs_background": "light"
     }
    }
   ],
   "source": [
    "import matplotlib.pyplot as plt\n",
    "    \n",
    "loss = history.history['loss']\n",
    "    \n",
    "plt.plot(loss)\n",
    "\n",
    "trainPredict = normalizer.inverse_transform(model.predict(trainX))\n",
    "testPredict= normalizer.inverse_transform(model.predict(testX))\n",
    "predicted= np.concatenate((trainPredict,testPredict))\n",
    "x = normalizer.inverse_transform(x)\n",
    "\n",
    "plt.plot(x)\n",
    "plt.plot(predicted)\n"
   ]
  },
  {
   "cell_type": "code",
   "execution_count": null,
   "metadata": {},
   "outputs": [],
   "source": []
  },
  {
   "cell_type": "code",
   "execution_count": null,
   "metadata": {},
   "outputs": [],
   "source": []
  }
 ],
 "metadata": {
  "kernelspec": {
   "name": "python3",
   "display_name": "Python 3.6.7 64-bit",
   "metadata": {
    "interpreter": {
     "hash": "e7c37ba80a6e54a3d63188245ab5de6a3e0d381993bcb1990a7020536fc2299e"
    }
   }
  },
  "language_info": {
   "codemirror_mode": {
    "name": "ipython",
    "version": 3
   },
   "file_extension": ".py",
   "mimetype": "text/x-python",
   "name": "python",
   "nbconvert_exporter": "python",
   "pygments_lexer": "ipython3",
   "version": "3.6.7-final"
  }
 },
 "nbformat": 4,
 "nbformat_minor": 4
}